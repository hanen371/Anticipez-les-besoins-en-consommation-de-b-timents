{
  "nbformat": 4,
  "nbformat_minor": 0,
  "metadata": {
    "colab": {
      "name": "notebook n°2 Projet n°4 New",
      "provenance": [],
      "collapsed_sections": []
    },
    "kernelspec": {
      "name": "python3",
      "display_name": "Python 3"
    },
    "language_info": {
      "name": "python"
    }
  },
  "cells": [
    {
      "cell_type": "markdown",
      "metadata": {
        "id": "f3royE2WSRhw"
      },
      "source": [
        "# **Projet 4 : Anticipate the electricity consumption needs of buildings**"
      ]
    },
    {
      "cell_type": "markdown",
      "metadata": {
        "id": "5xFDhgQ33hVP"
      },
      "source": [
        "# **Summary**\n",
        "\n",
        "This part consisted of testing and evaluating several regressors for the prediction of the SiteEnergyUse (kBtu) (energy) and TotalGHGEmissions (CO2 emissions) variables.\n",
        "\n",
        "The dataset has been separated into a training and validation set.\n",
        "\n",
        "A preprocessing pipeline has been defined, it fits different stages which apply to numerical and categorical variables (encoding, standardization, ...).\n",
        "\n",
        "Several regressors were chosen:\n",
        "\n",
        "'Linear': LinearRegression (),\n",
        "'Ridge': Ridge (),\n",
        "'Lasso': Lasso (),\n",
        "'Elastic Net': ElasticNet (),\n",
        "'SVR': SVR (kernel = \"rbf\", gamma = 1),\n",
        "'Decision Tree': DecisionTreeRegressor(),\n",
        "'Random Forest': RandomForestRegressor (n_estimators = 100, n_jobs = -1),\n",
        "\n",
        "Two metrics were selected to evaluate our models: RMSE and R2\n",
        "\n",
        "After comparing the scores obtained for each model, RandomForestRegressor was chosen for the prediction of the two targets.\n",
        "\n",
        "For each target:\n",
        "\n",
        "an optimization was carried out via a search for the best hyperparameters (GridSearch),\n",
        "a graph of the importance of the contribution of each variable has been edited (features_importance_plot).\n",
        "\n",
        "This last point was able to show that the variable EnergyStarScore has a relatively low importance for the prediction of TotalGHGEmissions.\n",
        "\n",
        "From this graph it was possible to select the most important variables for the model, thus allowing it to be optimized. The visualization of this optimization was highlighted by the learning curves. The removal of unfortunate variables allowing to reduce the computation time, to reduce the overfitting. However, the two models created have a certain amount of bias."
      ]
    },
    {
      "cell_type": "markdown",
      "metadata": {
        "id": "WZQp1Slt3kpn"
      },
      "source": [
        "# **Table of Contents**\n",
        "\n",
        "*   Summary\n",
        "*   Bibliography\n",
        "*   Bibliography\n",
        "*   Contexte\n",
        "*   Librairies and dataframe's Import\n",
        "*   Modelization\n",
        "   *   Train test Split\n",
        "   *   Preprocessor\n",
        "   *   Pipeline\n",
        "   *   Modeling\n",
        "      *   SiteEnergyUse(kBtu)\n",
        "      *   TotalGHGEmissions\n",
        "*   Let's summarize the results\n",
        "*   Model optimization - variable energy\n",
        "*   Model optimization - variable emissions\n",
        "*   Variable ENERGYSTARScore\n",
        "\n",
        "\n",
        "\n",
        "\n",
        "\n",
        "\n",
        "\n",
        "\n",
        "\n",
        "\n",
        "\n",
        "\n",
        "\n",
        "\n",
        "\n"
      ]
    },
    {
      "cell_type": "markdown",
      "metadata": {
        "id": "Sge_n26_4L20"
      },
      "source": [
        "# **Bibliography**\n",
        "\n",
        "Elastic Net https://scikit-learn.org/stable/modules/generated/sklearn.linear_model.ElasticNet.html\n",
        "\n",
        "SVM https://www.analyticsvidhya.com/blog/2020/03support-vector-regression-tutorial-for-machine-learning/\n",
        "\n",
        "Gradient Boosting regression https://machinelearningmastery.com/gentle-introduction-gradient-boosting-algorithm-machine-learning/\n",
        "\n",
        "Linear regression models https://scikit-learn.org/stable/modules/generated/sklearn.linear_model.LinearRegression.html\n",
        "\n",
        "Metrics https://machinelearningmastery.com/metrics-evaluate-machine-learning-algorithms-python/\n",
        "\n",
        "MODEL SELECTION AND EVALUATION https://scikit-learn.org/stable/model_selection.html\n",
        "\n"
      ]
    },
    {
      "cell_type": "markdown",
      "metadata": {
        "id": "8cyIF5H74VbG"
      },
      "source": [
        "# **Contexte**\n",
        "\n",
        "To meet the goal of being a carbon neutral city by 2050, the City of Seattle is paying close attention to emissions from non-residential buildings.\n",
        "\n",
        "Careful readings were carried out in 2015 and 2016. However, these readings are expensive to obtain, and from those already carried out, we must try to predict the CO2 emissions and the total energy consumption of the buildings for which they have not yet been measured.\n",
        "\n",
        "The first part allowed us to perform file cleaning and a short exploratory analysis. In this second part, we will carry out the various models in order to predict the CO2 emissions and the energy consumption of buildings."
      ]
    },
    {
      "cell_type": "markdown",
      "metadata": {
        "id": "9nFRt8SW4olk"
      },
      "source": [
        "# Librairies and dataframe's Import"
      ]
    },
    {
      "cell_type": "code",
      "metadata": {
        "colab": {
          "base_uri": "https://localhost:8080/"
        },
        "id": "ZMAvRa0l1wYV",
        "outputId": "453f21ae-617f-4fad-f75b-37e443c192fe"
      },
      "source": [
        "# Librairies communes pour le ML\n",
        "import pandas as pd\n",
        "import numpy as np\n",
        "import matplotlib.pyplot as plt\n",
        "import seaborn as sns\n",
        "import warnings\n",
        "warnings.filterwarnings('ignore')\n",
        "\n",
        "# Pipeline\n",
        "from sklearn.compose import ColumnTransformer\n",
        "from sklearn.pipeline import Pipeline\n",
        "\n",
        "# Transformers\n",
        "!pip install category_encoders \n",
        "import category_encoders as ce\n",
        "from category_encoders import BaseNEncoder\n",
        "from sklearn.preprocessing import RobustScaler\n",
        "\n",
        "# Imputers\n",
        "from sklearn.impute import SimpleImputer\n",
        "\n",
        "# Cross-validation\n",
        "from sklearn.model_selection import cross_val_score\n",
        "from sklearn.model_selection import learning_curve\n",
        "\n",
        "# Regressors\n",
        "from sklearn import linear_model\n",
        "from sklearn.linear_model import LinearRegression\n",
        "from sklearn.linear_model import Lasso\n",
        "from sklearn.linear_model import Ridge\n",
        "from sklearn.linear_model import ElasticNet\n",
        "from sklearn.svm import SVR\n",
        "from sklearn.ensemble import RandomForestRegressor\n",
        "from sklearn.tree import DecisionTreeRegressor\n",
        "\n",
        "# Metrics\n",
        "from sklearn.metrics import r2_score\n",
        "from sklearn.metrics import mean_squared_error\n"
      ],
      "execution_count": null,
      "outputs": [
        {
          "output_type": "stream",
          "name": "stdout",
          "text": [
            "Requirement already satisfied: category_encoders in /usr/local/lib/python3.7/dist-packages (2.3.0)\n",
            "Requirement already satisfied: patsy>=0.5.1 in /usr/local/lib/python3.7/dist-packages (from category_encoders) (0.5.2)\n",
            "Requirement already satisfied: statsmodels>=0.9.0 in /usr/local/lib/python3.7/dist-packages (from category_encoders) (0.10.2)\n",
            "Requirement already satisfied: scipy>=1.0.0 in /usr/local/lib/python3.7/dist-packages (from category_encoders) (1.4.1)\n",
            "Requirement already satisfied: scikit-learn>=0.20.0 in /usr/local/lib/python3.7/dist-packages (from category_encoders) (0.22.2.post1)\n",
            "Requirement already satisfied: numpy>=1.14.0 in /usr/local/lib/python3.7/dist-packages (from category_encoders) (1.19.5)\n",
            "Requirement already satisfied: pandas>=0.21.1 in /usr/local/lib/python3.7/dist-packages (from category_encoders) (1.1.5)\n",
            "Requirement already satisfied: pytz>=2017.2 in /usr/local/lib/python3.7/dist-packages (from pandas>=0.21.1->category_encoders) (2018.9)\n",
            "Requirement already satisfied: python-dateutil>=2.7.3 in /usr/local/lib/python3.7/dist-packages (from pandas>=0.21.1->category_encoders) (2.8.2)\n",
            "Requirement already satisfied: six in /usr/local/lib/python3.7/dist-packages (from patsy>=0.5.1->category_encoders) (1.15.0)\n",
            "Requirement already satisfied: joblib>=0.11 in /usr/local/lib/python3.7/dist-packages (from scikit-learn>=0.20.0->category_encoders) (1.0.1)\n"
          ]
        }
      ]
    },
    {
      "cell_type": "code",
      "metadata": {
        "colab": {
          "base_uri": "https://localhost:8080/"
        },
        "id": "s4rqkg847I3K",
        "outputId": "0625e249-c136-457c-e887-1c9ee7c13c50"
      },
      "source": [
        "from google.colab import drive\n",
        "drive.mount('/content/drive')"
      ],
      "execution_count": null,
      "outputs": [
        {
          "output_type": "stream",
          "name": "stdout",
          "text": [
            "Drive already mounted at /content/drive; to attempt to forcibly remount, call drive.mount(\"/content/drive\", force_remount=True).\n"
          ]
        }
      ]
    },
    {
      "cell_type": "code",
      "metadata": {
        "id": "Nds8B6VO7NuM"
      },
      "source": [
        "data= pd.read_csv('/content/drive/MyDrive/dataset_clean_projet_4.csv',low_memory=False)"
      ],
      "execution_count": null,
      "outputs": []
    },
    {
      "cell_type": "markdown",
      "metadata": {
        "id": "odS-eyBC7Tr9"
      },
      "source": [
        "Let’s take a look at the top five rows using the DataFrame’s head() method"
      ]
    },
    {
      "cell_type": "code",
      "metadata": {
        "colab": {
          "base_uri": "https://localhost:8080/",
          "height": 250
        },
        "id": "Pa9NjsNz7Rg-",
        "outputId": "47c74107-25ad-4543-edda-bd080757519c"
      },
      "source": [
        "data.head(2)"
      ],
      "execution_count": null,
      "outputs": [
        {
          "output_type": "execute_result",
          "data": {
            "text/html": [
              "<div>\n",
              "<style scoped>\n",
              "    .dataframe tbody tr th:only-of-type {\n",
              "        vertical-align: middle;\n",
              "    }\n",
              "\n",
              "    .dataframe tbody tr th {\n",
              "        vertical-align: top;\n",
              "    }\n",
              "\n",
              "    .dataframe thead th {\n",
              "        text-align: right;\n",
              "    }\n",
              "</style>\n",
              "<table border=\"1\" class=\"dataframe\">\n",
              "  <thead>\n",
              "    <tr style=\"text-align: right;\">\n",
              "      <th></th>\n",
              "      <th>Unnamed: 0</th>\n",
              "      <th>OSEBuildingID</th>\n",
              "      <th>DataYear</th>\n",
              "      <th>BuildingType</th>\n",
              "      <th>PrimaryPropertyType</th>\n",
              "      <th>PropertyName</th>\n",
              "      <th>Address</th>\n",
              "      <th>Neighborhood</th>\n",
              "      <th>Latitude</th>\n",
              "      <th>Longitude</th>\n",
              "      <th>YearBuilt</th>\n",
              "      <th>NumberofBuildings</th>\n",
              "      <th>PropertyGFABuilding(s)</th>\n",
              "      <th>ListOfAllPropertyUseTypes</th>\n",
              "      <th>LargestPropertyUseType</th>\n",
              "      <th>ENERGYSTARScore</th>\n",
              "      <th>SiteEUI(kBtu/sf)</th>\n",
              "      <th>SourceEUI(kBtu/sf)</th>\n",
              "      <th>SiteEnergyUse(kBtu)</th>\n",
              "      <th>SteamUse(kBtu)</th>\n",
              "      <th>Electricity(kBtu)</th>\n",
              "      <th>NaturalGas(kBtu)</th>\n",
              "      <th>TotalGHGEmissions</th>\n",
              "      <th>GHGEmissionsIntensity</th>\n",
              "      <th>SiteEnergyUse(kBtu)log</th>\n",
              "      <th>TotalGHGEmissionslog</th>\n",
              "      <th>GFABuildingRate</th>\n",
              "      <th>GFAParkingRate</th>\n",
              "    </tr>\n",
              "  </thead>\n",
              "  <tbody>\n",
              "    <tr>\n",
              "      <th>0</th>\n",
              "      <td>312</td>\n",
              "      <td>442</td>\n",
              "      <td>2015</td>\n",
              "      <td>NonResidential</td>\n",
              "      <td>Large Office</td>\n",
              "      <td>KING BROADCASTING</td>\n",
              "      <td>333 DEXTER AVE N</td>\n",
              "      <td>LAKE UNION</td>\n",
              "      <td>47.621476</td>\n",
              "      <td>-122.343050</td>\n",
              "      <td>1947</td>\n",
              "      <td>1.0</td>\n",
              "      <td>155934.0</td>\n",
              "      <td>Data Center, Office, Other, Parking, Restaurant</td>\n",
              "      <td>Office</td>\n",
              "      <td>59.0</td>\n",
              "      <td>105.8</td>\n",
              "      <td>332.3</td>\n",
              "      <td>16760217.0</td>\n",
              "      <td>0.0</td>\n",
              "      <td>16760914.0</td>\n",
              "      <td>0.0</td>\n",
              "      <td>116.84</td>\n",
              "      <td>0.23</td>\n",
              "      <td>16.634519</td>\n",
              "      <td>4.769328</td>\n",
              "      <td>0.80466</td>\n",
              "      <td>0.19534</td>\n",
              "    </tr>\n",
              "    <tr>\n",
              "      <th>1</th>\n",
              "      <td>358</td>\n",
              "      <td>499</td>\n",
              "      <td>2015</td>\n",
              "      <td>NonResidential</td>\n",
              "      <td>Small- and Mid-Sized Office</td>\n",
              "      <td>ASIAN COUNSELING and REFERRAL SERVICE BUILDING</td>\n",
              "      <td>3639 MARTIN LUTHER KING JR WAY S</td>\n",
              "      <td>GREATER DUWAMISH</td>\n",
              "      <td>47.570897</td>\n",
              "      <td>-122.297412</td>\n",
              "      <td>2008</td>\n",
              "      <td>1.0</td>\n",
              "      <td>55188.0</td>\n",
              "      <td>Office, Parking</td>\n",
              "      <td>Office</td>\n",
              "      <td>76.0</td>\n",
              "      <td>81.1</td>\n",
              "      <td>169.8</td>\n",
              "      <td>4476997.0</td>\n",
              "      <td>0.0</td>\n",
              "      <td>2234200.0</td>\n",
              "      <td>2242889.0</td>\n",
              "      <td>134.69</td>\n",
              "      <td>1.63</td>\n",
              "      <td>15.314463</td>\n",
              "      <td>4.910373</td>\n",
              "      <td>0.72049</td>\n",
              "      <td>0.27951</td>\n",
              "    </tr>\n",
              "  </tbody>\n",
              "</table>\n",
              "</div>"
            ],
            "text/plain": [
              "   Unnamed: 0  OSEBuildingID  ...  GFABuildingRate GFAParkingRate\n",
              "0         312            442  ...          0.80466        0.19534\n",
              "1         358            499  ...          0.72049        0.27951\n",
              "\n",
              "[2 rows x 28 columns]"
            ]
          },
          "metadata": {},
          "execution_count": 423
        }
      ]
    },
    {
      "cell_type": "markdown",
      "metadata": {
        "id": "uRWaGac37ZSM"
      },
      "source": [
        "The info() method is useful to get a quick description of the data"
      ]
    },
    {
      "cell_type": "code",
      "metadata": {
        "colab": {
          "base_uri": "https://localhost:8080/"
        },
        "id": "2v-c8cNl7dCO",
        "outputId": "274907a6-ddf6-421f-eaba-6e2f5662e6b8"
      },
      "source": [
        "data.info()"
      ],
      "execution_count": null,
      "outputs": [
        {
          "output_type": "stream",
          "name": "stdout",
          "text": [
            "<class 'pandas.core.frame.DataFrame'>\n",
            "RangeIndex: 788 entries, 0 to 787\n",
            "Data columns (total 28 columns):\n",
            " #   Column                     Non-Null Count  Dtype  \n",
            "---  ------                     --------------  -----  \n",
            " 0   Unnamed: 0                 788 non-null    int64  \n",
            " 1   OSEBuildingID              788 non-null    int64  \n",
            " 2   DataYear                   788 non-null    int64  \n",
            " 3   BuildingType               788 non-null    object \n",
            " 4   PrimaryPropertyType        788 non-null    object \n",
            " 5   PropertyName               788 non-null    object \n",
            " 6   Address                    788 non-null    object \n",
            " 7   Neighborhood               788 non-null    object \n",
            " 8   Latitude                   788 non-null    float64\n",
            " 9   Longitude                  788 non-null    float64\n",
            " 10  YearBuilt                  788 non-null    int64  \n",
            " 11  NumberofBuildings          788 non-null    float64\n",
            " 12  PropertyGFABuilding(s)     788 non-null    float64\n",
            " 13  ListOfAllPropertyUseTypes  788 non-null    object \n",
            " 14  LargestPropertyUseType     788 non-null    object \n",
            " 15  ENERGYSTARScore            474 non-null    float64\n",
            " 16  SiteEUI(kBtu/sf)           788 non-null    float64\n",
            " 17  SourceEUI(kBtu/sf)         788 non-null    float64\n",
            " 18  SiteEnergyUse(kBtu)        788 non-null    float64\n",
            " 19  SteamUse(kBtu)             788 non-null    float64\n",
            " 20  Electricity(kBtu)          788 non-null    float64\n",
            " 21  NaturalGas(kBtu)           788 non-null    float64\n",
            " 22  TotalGHGEmissions          788 non-null    float64\n",
            " 23  GHGEmissionsIntensity      788 non-null    float64\n",
            " 24  SiteEnergyUse(kBtu)log     788 non-null    float64\n",
            " 25  TotalGHGEmissionslog       788 non-null    float64\n",
            " 26  GFABuildingRate            788 non-null    float64\n",
            " 27  GFAParkingRate             788 non-null    float64\n",
            "dtypes: float64(17), int64(4), object(7)\n",
            "memory usage: 172.5+ KB\n"
          ]
        }
      ]
    },
    {
      "cell_type": "markdown",
      "metadata": {
        "id": "uaEclEPv7ixu"
      },
      "source": [
        "The describe() method is useful to get a quick numeric description of the data"
      ]
    },
    {
      "cell_type": "code",
      "metadata": {
        "colab": {
          "base_uri": "https://localhost:8080/",
          "height": 317
        },
        "id": "mCBYB8Ic7f3-",
        "outputId": "338b2962-2f13-4464-e9d4-fd8259226606"
      },
      "source": [
        "# To have an overview of descriptive statistics\n",
        "data.describe()"
      ],
      "execution_count": null,
      "outputs": [
        {
          "output_type": "execute_result",
          "data": {
            "text/html": [
              "<div>\n",
              "<style scoped>\n",
              "    .dataframe tbody tr th:only-of-type {\n",
              "        vertical-align: middle;\n",
              "    }\n",
              "\n",
              "    .dataframe tbody tr th {\n",
              "        vertical-align: top;\n",
              "    }\n",
              "\n",
              "    .dataframe thead th {\n",
              "        text-align: right;\n",
              "    }\n",
              "</style>\n",
              "<table border=\"1\" class=\"dataframe\">\n",
              "  <thead>\n",
              "    <tr style=\"text-align: right;\">\n",
              "      <th></th>\n",
              "      <th>Unnamed: 0</th>\n",
              "      <th>OSEBuildingID</th>\n",
              "      <th>DataYear</th>\n",
              "      <th>Latitude</th>\n",
              "      <th>Longitude</th>\n",
              "      <th>YearBuilt</th>\n",
              "      <th>NumberofBuildings</th>\n",
              "      <th>PropertyGFABuilding(s)</th>\n",
              "      <th>ENERGYSTARScore</th>\n",
              "      <th>SiteEUI(kBtu/sf)</th>\n",
              "      <th>SourceEUI(kBtu/sf)</th>\n",
              "      <th>SiteEnergyUse(kBtu)</th>\n",
              "      <th>SteamUse(kBtu)</th>\n",
              "      <th>Electricity(kBtu)</th>\n",
              "      <th>NaturalGas(kBtu)</th>\n",
              "      <th>TotalGHGEmissions</th>\n",
              "      <th>GHGEmissionsIntensity</th>\n",
              "      <th>SiteEnergyUse(kBtu)log</th>\n",
              "      <th>TotalGHGEmissionslog</th>\n",
              "      <th>GFABuildingRate</th>\n",
              "      <th>GFAParkingRate</th>\n",
              "    </tr>\n",
              "  </thead>\n",
              "  <tbody>\n",
              "    <tr>\n",
              "      <th>count</th>\n",
              "      <td>788.000000</td>\n",
              "      <td>788.000000</td>\n",
              "      <td>788.000000</td>\n",
              "      <td>788.000000</td>\n",
              "      <td>788.000000</td>\n",
              "      <td>788.000000</td>\n",
              "      <td>788.000000</td>\n",
              "      <td>7.880000e+02</td>\n",
              "      <td>474.000000</td>\n",
              "      <td>788.000000</td>\n",
              "      <td>788.000000</td>\n",
              "      <td>7.880000e+02</td>\n",
              "      <td>7.880000e+02</td>\n",
              "      <td>7.880000e+02</td>\n",
              "      <td>7.880000e+02</td>\n",
              "      <td>788.000000</td>\n",
              "      <td>788.000000</td>\n",
              "      <td>788.000000</td>\n",
              "      <td>788.000000</td>\n",
              "      <td>788.000000</td>\n",
              "      <td>788.000000</td>\n",
              "    </tr>\n",
              "    <tr>\n",
              "      <th>mean</th>\n",
              "      <td>1234.659898</td>\n",
              "      <td>14444.585025</td>\n",
              "      <td>2015.986041</td>\n",
              "      <td>47.614304</td>\n",
              "      <td>-122.333585</td>\n",
              "      <td>1964.059645</td>\n",
              "      <td>1.034264</td>\n",
              "      <td>1.191573e+05</td>\n",
              "      <td>66.913502</td>\n",
              "      <td>72.548604</td>\n",
              "      <td>183.840990</td>\n",
              "      <td>8.020746e+06</td>\n",
              "      <td>2.886622e+05</td>\n",
              "      <td>6.259002e+06</td>\n",
              "      <td>1.472638e+06</td>\n",
              "      <td>144.127018</td>\n",
              "      <td>1.425457</td>\n",
              "      <td>15.142365</td>\n",
              "      <td>4.136389</td>\n",
              "      <td>0.902221</td>\n",
              "      <td>0.097779</td>\n",
              "    </tr>\n",
              "    <tr>\n",
              "      <th>std</th>\n",
              "      <td>995.398564</td>\n",
              "      <td>13932.613592</td>\n",
              "      <td>0.117397</td>\n",
              "      <td>0.043052</td>\n",
              "      <td>0.021937</td>\n",
              "      <td>33.999593</td>\n",
              "      <td>0.691273</td>\n",
              "      <td>1.906291e+05</td>\n",
              "      <td>27.527709</td>\n",
              "      <td>54.493926</td>\n",
              "      <td>133.684708</td>\n",
              "      <td>1.192495e+07</td>\n",
              "      <td>1.634182e+06</td>\n",
              "      <td>1.018096e+07</td>\n",
              "      <td>3.063211e+06</td>\n",
              "      <td>242.033430</td>\n",
              "      <td>1.740399</td>\n",
              "      <td>1.227514</td>\n",
              "      <td>1.320181</td>\n",
              "      <td>0.166747</td>\n",
              "      <td>0.166747</td>\n",
              "    </tr>\n",
              "    <tr>\n",
              "      <th>min</th>\n",
              "      <td>1.000000</td>\n",
              "      <td>2.000000</td>\n",
              "      <td>2015.000000</td>\n",
              "      <td>47.510180</td>\n",
              "      <td>-122.407650</td>\n",
              "      <td>1900.000000</td>\n",
              "      <td>0.000000</td>\n",
              "      <td>1.092500e+04</td>\n",
              "      <td>1.000000</td>\n",
              "      <td>3.500000</td>\n",
              "      <td>11.100000</td>\n",
              "      <td>1.119697e+05</td>\n",
              "      <td>0.000000e+00</td>\n",
              "      <td>6.746200e+04</td>\n",
              "      <td>0.000000e+00</td>\n",
              "      <td>0.790000</td>\n",
              "      <td>0.020000</td>\n",
              "      <td>11.625993</td>\n",
              "      <td>0.582216</td>\n",
              "      <td>0.201830</td>\n",
              "      <td>0.000000</td>\n",
              "    </tr>\n",
              "    <tr>\n",
              "      <th>25%</th>\n",
              "      <td>372.750000</td>\n",
              "      <td>524.750000</td>\n",
              "      <td>2016.000000</td>\n",
              "      <td>47.592220</td>\n",
              "      <td>-122.341772</td>\n",
              "      <td>1930.000000</td>\n",
              "      <td>1.000000</td>\n",
              "      <td>3.000000e+04</td>\n",
              "      <td>52.000000</td>\n",
              "      <td>39.275000</td>\n",
              "      <td>100.125002</td>\n",
              "      <td>1.532312e+06</td>\n",
              "      <td>0.000000e+00</td>\n",
              "      <td>9.101742e+05</td>\n",
              "      <td>0.000000e+00</td>\n",
              "      <td>24.955000</td>\n",
              "      <td>0.350000</td>\n",
              "      <td>14.242288</td>\n",
              "      <td>3.256364</td>\n",
              "      <td>0.821330</td>\n",
              "      <td>0.000000</td>\n",
              "    </tr>\n",
              "    <tr>\n",
              "      <th>50%</th>\n",
              "      <td>904.500000</td>\n",
              "      <td>20196.500000</td>\n",
              "      <td>2016.000000</td>\n",
              "      <td>47.611145</td>\n",
              "      <td>-122.333430</td>\n",
              "      <td>1970.000000</td>\n",
              "      <td>1.000000</td>\n",
              "      <td>5.267700e+04</td>\n",
              "      <td>75.000000</td>\n",
              "      <td>56.250000</td>\n",
              "      <td>150.500000</td>\n",
              "      <td>3.520094e+06</td>\n",
              "      <td>0.000000e+00</td>\n",
              "      <td>2.437086e+06</td>\n",
              "      <td>4.322415e+05</td>\n",
              "      <td>58.435000</td>\n",
              "      <td>0.800000</td>\n",
              "      <td>15.073990</td>\n",
              "      <td>4.084883</td>\n",
              "      <td>1.000000</td>\n",
              "      <td>0.000000</td>\n",
              "    </tr>\n",
              "    <tr>\n",
              "      <th>75%</th>\n",
              "      <td>2067.250000</td>\n",
              "      <td>24348.750000</td>\n",
              "      <td>2016.000000</td>\n",
              "      <td>47.633475</td>\n",
              "      <td>-122.324922</td>\n",
              "      <td>1992.000000</td>\n",
              "      <td>1.000000</td>\n",
              "      <td>1.159485e+05</td>\n",
              "      <td>89.000000</td>\n",
              "      <td>85.425001</td>\n",
              "      <td>221.049999</td>\n",
              "      <td>8.785666e+06</td>\n",
              "      <td>0.000000e+00</td>\n",
              "      <td>6.863507e+06</td>\n",
              "      <td>1.543894e+06</td>\n",
              "      <td>156.302500</td>\n",
              "      <td>1.742500</td>\n",
              "      <td>15.988626</td>\n",
              "      <td>5.058170</td>\n",
              "      <td>1.000000</td>\n",
              "      <td>0.178670</td>\n",
              "    </tr>\n",
              "    <tr>\n",
              "      <th>max</th>\n",
              "      <td>3375.000000</td>\n",
              "      <td>50226.000000</td>\n",
              "      <td>2016.000000</td>\n",
              "      <td>47.733870</td>\n",
              "      <td>-122.262350</td>\n",
              "      <td>2015.000000</td>\n",
              "      <td>14.000000</td>\n",
              "      <td>1.632820e+06</td>\n",
              "      <td>100.000000</td>\n",
              "      <td>298.299988</td>\n",
              "      <td>874.099976</td>\n",
              "      <td>9.293764e+07</td>\n",
              "      <td>2.147409e+07</td>\n",
              "      <td>8.785186e+07</td>\n",
              "      <td>3.285351e+07</td>\n",
              "      <td>2451.580000</td>\n",
              "      <td>11.120000</td>\n",
              "      <td>18.347439</td>\n",
              "      <td>7.804896</td>\n",
              "      <td>1.000000</td>\n",
              "      <td>0.798170</td>\n",
              "    </tr>\n",
              "  </tbody>\n",
              "</table>\n",
              "</div>"
            ],
            "text/plain": [
              "        Unnamed: 0  OSEBuildingID  ...  GFABuildingRate  GFAParkingRate\n",
              "count   788.000000     788.000000  ...       788.000000      788.000000\n",
              "mean   1234.659898   14444.585025  ...         0.902221        0.097779\n",
              "std     995.398564   13932.613592  ...         0.166747        0.166747\n",
              "min       1.000000       2.000000  ...         0.201830        0.000000\n",
              "25%     372.750000     524.750000  ...         0.821330        0.000000\n",
              "50%     904.500000   20196.500000  ...         1.000000        0.000000\n",
              "75%    2067.250000   24348.750000  ...         1.000000        0.178670\n",
              "max    3375.000000   50226.000000  ...         1.000000        0.798170\n",
              "\n",
              "[8 rows x 21 columns]"
            ]
          },
          "metadata": {},
          "execution_count": 369
        }
      ]
    },
    {
      "cell_type": "markdown",
      "metadata": {
        "id": "Ho6XIqyi7pI9"
      },
      "source": [
        "let's get an idea about the distribution of histograms of variables in the dataset."
      ]
    },
    {
      "cell_type": "code",
      "metadata": {
        "colab": {
          "base_uri": "https://localhost:8080/",
          "height": 879
        },
        "id": "F38_qFGI7m54",
        "outputId": "52b03227-c73a-41f5-8687-283850d6ffa8"
      },
      "source": [
        "import matplotlib.pyplot as plt\n",
        "data.hist(bins=50, figsize=(20,15))\n",
        "plt.show()"
      ],
      "execution_count": null,
      "outputs": [
        {
          "output_type": "display_data",
          "data": {
            "image/png": "[encoded data removed]",
            "text/plain": [
              "<Figure size 1440x1080 with 25 Axes>"
            ]
          },
          "metadata": {
            "needs_background": "light"
          }
        }
      ]
    },
    {
      "cell_type": "markdown",
      "metadata": {
        "id": "1xaUy1ES70GG"
      },
      "source": [
        "It is necessary to treat the numerical values ​​before the modelization."
      ]
    },
    {
      "cell_type": "markdown",
      "metadata": {
        "id": "sO8cB9TD8clb"
      },
      "source": [
        "# Modelization"
      ]
    },
    {
      "cell_type": "markdown",
      "metadata": {
        "id": "rR3YDeakgtM-"
      },
      "source": [
        "We are going to group together the building identification data so that they do not disturb our models but remain usable."
      ]
    },
    {
      "cell_type": "code",
      "metadata": {
        "id": "a41RH3NjglEn"
      },
      "source": [
        "identification_features = ['OSEBuildingID', 'PropertyName', 'Address']\n",
        "data_identification = data[identification_features]\n",
        "data.drop(identification_features, axis=1, inplace = True)"
      ],
      "execution_count": null,
      "outputs": []
    },
    {
      "cell_type": "markdown",
      "metadata": {
        "id": "QW4ocG_sh2k1"
      },
      "source": [
        "The goal of our program is to eliminate costly statements for years to come. We are therefore going to exclude all survey data from our dataset. We will also drop the target variables before transformation with log."
      ]
    },
    {
      "cell_type": "code",
      "metadata": {
        "id": "mPSR9ACCiAu8"
      },
      "source": [
        "data = data.drop(['SteamUse(kBtu)','Electricity(kBtu)', 'SiteEnergyUse(kBtu)',\n",
        "                  'TotalGHGEmissions','NaturalGas(kBtu)'], axis=1)"
      ],
      "execution_count": null,
      "outputs": []
    },
    {
      "cell_type": "markdown",
      "metadata": {
        "id": "lxlCiNteJBvS"
      },
      "source": [
        "Now we will see the correlations between our variables."
      ]
    },
    {
      "cell_type": "code",
      "metadata": {
        "id": "-K2jpRVBhXij"
      },
      "source": [
        "# Using the correlation matrix to observe features and target correlations.\n",
        "corr_matrix = data.corr()"
      ],
      "execution_count": null,
      "outputs": []
    },
    {
      "cell_type": "code",
      "metadata": {
        "colab": {
          "base_uri": "https://localhost:8080/"
        },
        "id": "NIG5Hkq6hfTP",
        "outputId": "784a78be-f5b5-4c4a-b5ac-0863597154e1"
      },
      "source": [
        "# To see the different correlations between our variables\n",
        "corr_matrix[\"SiteEnergyUse(kBtu)log\"].sort_values(ascending=False)"
      ],
      "execution_count": null,
      "outputs": [
        {
          "output_type": "execute_result",
          "data": {
            "text/plain": [
              "SiteEnergyUse(kBtu)log    1.000000\n",
              "TotalGHGEmissionslog      0.876171\n",
              "PropertyGFABuilding(s)    0.636212\n",
              "SourceEUI(kBtu/sf)        0.536301\n",
              "SiteEUI(kBtu/sf)          0.502250\n",
              "GFAParkingRate            0.289469\n",
              "YearBuilt                 0.281990\n",
              "GHGEmissionsIntensity     0.274662\n",
              "NumberofBuildings         0.113456\n",
              "Latitude                  0.039239\n",
              "Longitude                 0.021167\n",
              "DataYear                 -0.005714\n",
              "ENERGYSTARScore          -0.039057\n",
              "GFABuildingRate          -0.289469\n",
              "Unnamed: 0               -0.426520\n",
              "Name: SiteEnergyUse(kBtu)log, dtype: float64"
            ]
          },
          "metadata": {},
          "execution_count": 404
        }
      ]
    },
    {
      "cell_type": "markdown",
      "metadata": {
        "id": "CwJ8xG0BAIvt"
      },
      "source": [
        "We notice a certain correlation between the target variables and the variable \"PropertyGFABuilding (s)\", let us do a figure for this correlation."
      ]
    },
    {
      "cell_type": "code",
      "metadata": {
        "colab": {
          "base_uri": "https://localhost:8080/",
          "height": 675
        },
        "id": "lhdsaHdTub_t",
        "outputId": "45207112-01c9-4961-ed5b-c92582ca2905"
      },
      "source": [
        "from pandas.plotting import scatter_matrix\n",
        "attributes = [\"SiteEnergyUse(kBtu)log\", \"PropertyGFABuilding(s)\", \"TotalGHGEmissionslog\"]\n",
        "scatter_matrix(data[attributes], figsize=(12, 8))"
      ],
      "execution_count": null,
      "outputs": [
        {
          "output_type": "execute_result",
          "data": {
            "text/plain": [
              "array([[<matplotlib.axes._subplots.AxesSubplot object at 0x7f07d5f1e090>,\n",
              "        <matplotlib.axes._subplots.AxesSubplot object at 0x7f07d60a6b90>,\n",
              "        <matplotlib.axes._subplots.AxesSubplot object at 0x7f07d6c43ed0>],\n",
              "       [<matplotlib.axes._subplots.AxesSubplot object at 0x7f07d5840490>,\n",
              "        <matplotlib.axes._subplots.AxesSubplot object at 0x7f07d5852a10>,\n",
              "        <matplotlib.axes._subplots.AxesSubplot object at 0x7f07d5865f90>],\n",
              "       [<matplotlib.axes._subplots.AxesSubplot object at 0x7f07d57fc5d0>,\n",
              "        <matplotlib.axes._subplots.AxesSubplot object at 0x7f07d5821a90>,\n",
              "        <matplotlib.axes._subplots.AxesSubplot object at 0x7f07d5821ad0>]],\n",
              "      dtype=object)"
            ]
          },
          "metadata": {},
          "execution_count": 375
        },
        {
          "output_type": "display_data",
          "data": {
            "image/png": "[encoded data removed]",
            "text/plain": [
              "<Figure size 864x576 with 9 Axes>"
            ]
          },
          "metadata": {
            "needs_background": "light"
          }
        }
      ]
    },
    {
      "cell_type": "markdown",
      "metadata": {
        "id": "tR35egE2mLlf"
      },
      "source": [
        "The variable DataYear will not be useful to us here, we will remove it from the dataset. ENERGYSTARScore is insufficiently completed. We are going to remove it from the dataset but we will keep it to then check if this variable has an impact on the quality of the prediction."
      ]
    },
    {
      "cell_type": "code",
      "metadata": {
        "id": "mXS1m7M3qRSA"
      },
      "source": [
        "data = data.drop (['DataYear', 'Unnamed: 0'],axis=1)"
      ],
      "execution_count": null,
      "outputs": []
    },
    {
      "cell_type": "code",
      "metadata": {
        "id": "dNe4aepG8QNn"
      },
      "source": [
        "# Definition of features\n",
        "features = ['BuildingType', 'PrimaryPropertyType', 'Neighborhood', 'Latitude',\n",
        "           'Longitude', 'YearBuilt', 'NumberofBuildings', 'PropertyGFABuilding(s)',\n",
        "           'ListOfAllPropertyUseTypes', 'LargestPropertyUseType',\n",
        "           'SiteEUI(kBtu/sf)', 'SourceEUI(kBtu/sf)', 'GHGEmissionsIntensity',\n",
        "           'GFABuildingRate','GFAParkingRate','ENERGYSTARScore']\n",
        "targets = ['SiteEnergyUse(kBtu)log', 'TotalGHGEmissionslog']          "
      ],
      "execution_count": null,
      "outputs": []
    },
    {
      "cell_type": "code",
      "metadata": {
        "id": "nK_uh6F2yLAW"
      },
      "source": [
        "# Definition of numerical and categorical variables\n",
        "num_cols = data[features].select_dtypes(include=['int64', 'float64']).columns\n",
        "cat_cols = data[features].select_dtypes(include=['object', 'bool']).columns"
      ],
      "execution_count": null,
      "outputs": []
    },
    {
      "cell_type": "markdown",
      "metadata": {
        "id": "NvraTHBFVcRd"
      },
      "source": [
        "**1. Train Test Split**"
      ]
    },
    {
      "cell_type": "markdown",
      "metadata": {
        "id": "wV4Un2qXNazw"
      },
      "source": [
        "Before we look at the data any further, we need to create a\n",
        "test set, put it aside, and never look at it. For this we will divide the dataset into two parts."
      ]
    },
    {
      "cell_type": "code",
      "metadata": {
        "id": "jNvbjwRuy4XO"
      },
      "source": [
        "# Split into training and testing set\n",
        "from sklearn.model_selection import train_test_split\n",
        "train_set, test_set = train_test_split(data, train_size=0.8, random_state=42)"
      ],
      "execution_count": null,
      "outputs": []
    },
    {
      "cell_type": "markdown",
      "metadata": {
        "id": "7BQr3zp90oIt"
      },
      "source": [
        "**2. Preprocessor**"
      ]
    },
    {
      "cell_type": "markdown",
      "metadata": {
        "id": "i5MQ2oiE2gse"
      },
      "source": [
        "We are going to use the BinaryEncoder to encode categorical variables. Binary encoding is a combination of Hash encoding and one-hot encoding. In this encoding scheme, the categorical feature is first converted into numerical using an ordinal encoder. Then the numbers are transformed in the binary number. After that binary value is split into different columns. Binary encoding works really well when there are a high number of categories.\n",
        "\n",
        "We will use the robustScaler to standardize the numeric variables. This can be achieved by calculating the median (50th percentile) and the 25th and 75th percentiles. The values of each variable then have their median subtracted and are divided by the interquartile range (IQR) which is the difference between the 75th and 25th percentiles.\n",
        "value = (value – median) / (p75 – p25) The resulting variable has a zero mean and median and a standard deviation of 1, although not skewed by outliers and the outliers are still present with the same relative relationships to other values.\n",
        "\n",
        "All the steps are nested in preprocessor via ColumnTransformer."
      ]
    },
    {
      "cell_type": "code",
      "metadata": {
        "id": "YSEOlIlUzNqt"
      },
      "source": [
        "# Preprocessing for numerical data\n",
        "numerical_transformer = Pipeline([\n",
        "    ('imputer', SimpleImputer(strategy='mean')),\n",
        "    ('robust_scaler', RobustScaler()),  \n",
        "])\n",
        "\n",
        "# Preprocessing for categorical data\n",
        "categorical_transformer = Pipeline([\n",
        "    ('encoder', ce.BaseNEncoder()), \n",
        "])\n",
        "\n",
        "# Bundle preprocessing for numerical and categorical data\n",
        "preprocessor = ColumnTransformer(\n",
        "    transformers=[\n",
        "        ('num', numerical_transformer, num_cols),\n",
        "        ('cat', categorical_transformer, cat_cols),\n",
        "    ])"
      ],
      "execution_count": null,
      "outputs": []
    },
    {
      "cell_type": "markdown",
      "metadata": {
        "id": "bYi6ko5O3FLn"
      },
      "source": [
        "**3. Pipeline**"
      ]
    },
    {
      "cell_type": "code",
      "metadata": {
        "id": "Xfcu9mu2nTLi"
      },
      "source": [
        "# Bundle preprocessing and modeling code in a pipeline\n",
        "\n",
        "def pipeline(preprocessor, regressor):\n",
        "\n",
        "    modeling_pipeline = Pipeline(steps=[('preprocessor', preprocessor),\n",
        "                                        ('regressor', regressor)\n",
        "                                        ])\n",
        "\n",
        "    return modeling_pipeline"
      ],
      "execution_count": null,
      "outputs": []
    },
    {
      "cell_type": "code",
      "metadata": {
        "id": "z9G1s47e-30Z"
      },
      "source": [
        "X_train = train_set[features]\n",
        "y_trainEnergy = train_set['SiteEnergyUse(kBtu)log']\n",
        "y_trainEmissions = train_set['TotalGHGEmissionslog']\n",
        "\n",
        "X_test = test_set[features]\n",
        "y_testEnergy = test_set['SiteEnergyUse(kBtu)log']\n",
        "y_testEmissions = test_set['TotalGHGEmissionslog']"
      ],
      "execution_count": null,
      "outputs": []
    },
    {
      "cell_type": "markdown",
      "metadata": {
        "id": "SB3JbPYhB8Tg"
      },
      "source": [
        "**4. Modeling**"
      ]
    },
    {
      "cell_type": "markdown",
      "metadata": {
        "id": "YXnANr1LS9nQ"
      },
      "source": [
        "## **SiteEnergyUse(kBtu)log**"
      ]
    },
    {
      "cell_type": "markdown",
      "metadata": {
        "id": "jLv7MwAApeBu"
      },
      "source": [
        "### **Linear regression**"
      ]
    },
    {
      "cell_type": "markdown",
      "metadata": {
        "id": "zF1NjRp3B1ID"
      },
      "source": [
        "**1. Training and Evaluating on the Training Set**"
      ]
    },
    {
      "cell_type": "code",
      "metadata": {
        "colab": {
          "base_uri": "https://localhost:8080/"
        },
        "id": "cBCXwc4EAfmk",
        "outputId": "c7ab0b0b-8c5d-4c60-8723-894695ac0eec"
      },
      "source": [
        "from sklearn.linear_model import LinearRegression\n",
        "\n",
        "lin_reg = LinearRegression()\n",
        "regR = pipeline(preprocessor, lin_reg)\n",
        "regR.fit(X_train, y_trainEnergy)\n",
        "\n",
        "train_score = regR.score(X_train, y_trainEnergy)\n",
        "print('Train score:', train_score)"
      ],
      "execution_count": null,
      "outputs": [
        {
          "output_type": "stream",
          "name": "stdout",
          "text": [
            "Train score: 0.7948174191154529\n"
          ]
        }
      ]
    },
    {
      "cell_type": "markdown",
      "metadata": {
        "id": "xI3AzXciA2_t"
      },
      "source": [
        "We get a score of 79% OF R2 on the training data, which is not bad."
      ]
    },
    {
      "cell_type": "markdown",
      "metadata": {
        "id": "J1LT2fZZBtYl"
      },
      "source": [
        "**2. Evaluation Using Cross-Validation**"
      ]
    },
    {
      "cell_type": "markdown",
      "metadata": {
        "id": "De1XcWSzCB4l"
      },
      "source": [
        "One way to evaluate the Linear Regression model would be to use the train_test_split function to split the training set into a smaller training set and a validation set, then train the models against the smaller training set and evaluate them against the validation set."
      ]
    },
    {
      "cell_type": "markdown",
      "metadata": {
        "id": "9YMhAs54C8sV"
      },
      "source": [
        "First of all, we will use the r2. The r2_score function computes the coefficient of determination, usually denoted as R².\n",
        "\n",
        "It represents the proportion of variance (of y) that has been explained by the independent variables in the model. It provides an indication of goodness of fit and therefore a measure of how well unseen samples are likely to be predicted by the model, through the proportion of explained variance. Best possible score is 1.0"
      ]
    },
    {
      "cell_type": "code",
      "metadata": {
        "id": "lRgojEtsB8MU"
      },
      "source": [
        "from sklearn.model_selection import cross_val_score\n",
        "from sklearn.metrics import r2_score\n",
        "\n",
        "scores = cross_val_score (regR, X_train, y_trainEnergy,\n",
        "                 cv=10, scoring = 'r2')"
      ],
      "execution_count": null,
      "outputs": []
    },
    {
      "cell_type": "code",
      "metadata": {
        "colab": {
          "base_uri": "https://localhost:8080/"
        },
        "id": "R4Lu93acCdQe",
        "outputId": "1ac23f0d-0fa7-4e22-9019-cceaec5b967c"
      },
      "source": [
        "def display_scores(scores):\n",
        "  print(\"Scores:\", scores)\n",
        "  print(\"Mean:\", scores.mean())\n",
        "  print(\"Standard deviation:\", scores.std())\n",
        "\n",
        "display_scores(scores)"
      ],
      "execution_count": null,
      "outputs": [
        {
          "output_type": "stream",
          "name": "stdout",
          "text": [
            "Scores: [0.7528576  0.70378826 0.71631728 0.78039402 0.66148114 0.72976538\n",
            " 0.80643914 0.75903638 0.75436677 0.88954629]\n",
            "Mean: 0.7553992239336521\n",
            "Standard deviation: 0.05908874237357544\n"
          ]
        }
      ]
    },
    {
      "cell_type": "code",
      "metadata": {
        "colab": {
          "base_uri": "https://localhost:8080/"
        },
        "id": "fCKiujGkCh3C",
        "outputId": "bf5608e0-7ecd-4908-e390-2d990a82201e"
      },
      "source": [
        "scores = cross_val_score(regR, X_train, y_trainEnergy, scoring=\"r2\", cv=10)\n",
        "pd.Series((scores)).describe()"
      ],
      "execution_count": null,
      "outputs": [
        {
          "output_type": "execute_result",
          "data": {
            "text/plain": [
              "count    10.000000\n",
              "mean      0.755399\n",
              "std       0.062285\n",
              "min       0.661481\n",
              "25%       0.719679\n",
              "50%       0.753612\n",
              "75%       0.775055\n",
              "max       0.889546\n",
              "dtype: float64"
            ]
          },
          "metadata": {},
          "execution_count": 125
        }
      ]
    },
    {
      "cell_type": "markdown",
      "metadata": {
        "id": "5FaBir0K-rLI"
      },
      "source": [
        "The RMSE is the square root of the variance of the residuals. It indicates the absolute fit of the model to the data–how close the observed data points are to the model’s predicted values. Whereas R-squared is a relative measure of fit, RMSE is an absolute measure of fit. As the square root of a variance, RMSE can be interpreted as the standard deviation of the unexplained variance, and has the useful property of being in the same units as the response variable. Lower values of RMSE indicate better fit. RMSE is a good measure of how accurately the model predicts the response, and it is the most important criterion for fit if the main purpose of the model is prediction."
      ]
    },
    {
      "cell_type": "code",
      "metadata": {
        "colab": {
          "base_uri": "https://localhost:8080/"
        },
        "id": "yWLbNMmV9AFJ",
        "outputId": "8d964987-7cc9-4d58-c3fd-82c2e3be0bdb"
      },
      "source": [
        "scores = cross_val_score(regR, X_train, y_trainEnergy, scoring=\"neg_root_mean_squared_error\", cv=10)\n",
        "pd.Series((scores)).describe()"
      ],
      "execution_count": null,
      "outputs": [
        {
          "output_type": "execute_result",
          "data": {
            "text/plain": [
              "count    10.000000\n",
              "mean     -0.599195\n",
              "std       0.113561\n",
              "min      -0.780430\n",
              "25%      -0.658899\n",
              "50%      -0.606087\n",
              "75%      -0.542858\n",
              "max      -0.426589\n",
              "dtype: float64"
            ]
          },
          "metadata": {},
          "execution_count": 126
        }
      ]
    },
    {
      "cell_type": "markdown",
      "metadata": {
        "id": "BuBK138TKZ1V"
      },
      "source": [
        "The unified scoring API always maximizes the score, so scores which need to be minimized are negated in order for the unified scoring API to work correctly. The score that is returned is therefore negated when it is a score that should be minimized and left positive if it is a score that should be maximized."
      ]
    },
    {
      "cell_type": "markdown",
      "metadata": {
        "id": "20e7GWtiCvbV"
      },
      "source": [
        "**3. Grid Search**"
      ]
    },
    {
      "cell_type": "code",
      "metadata": {
        "colab": {
          "base_uri": "https://localhost:8080/"
        },
        "id": "o_BWxFKnCs_8",
        "outputId": "69fb97ac-de7c-4fbd-ccc3-f2f572a9fdaa"
      },
      "source": [
        "# To get the differents algorithm parameters\n",
        "regR.get_params().keys()"
      ],
      "execution_count": null,
      "outputs": [
        {
          "output_type": "execute_result",
          "data": {
            "text/plain": [
              "dict_keys(['memory', 'steps', 'verbose', 'preprocessor', 'regressor', 'preprocessor__n_jobs', 'preprocessor__remainder', 'preprocessor__sparse_threshold', 'preprocessor__transformer_weights', 'preprocessor__transformers', 'preprocessor__verbose', 'preprocessor__num', 'preprocessor__cat', 'preprocessor__num__memory', 'preprocessor__num__steps', 'preprocessor__num__verbose', 'preprocessor__num__imputer', 'preprocessor__num__robust_scaler', 'preprocessor__num__imputer__add_indicator', 'preprocessor__num__imputer__copy', 'preprocessor__num__imputer__fill_value', 'preprocessor__num__imputer__missing_values', 'preprocessor__num__imputer__strategy', 'preprocessor__num__imputer__verbose', 'preprocessor__num__robust_scaler__copy', 'preprocessor__num__robust_scaler__quantile_range', 'preprocessor__num__robust_scaler__with_centering', 'preprocessor__num__robust_scaler__with_scaling', 'preprocessor__cat__memory', 'preprocessor__cat__steps', 'preprocessor__cat__verbose', 'preprocessor__cat__encoder', 'preprocessor__cat__encoder__base', 'preprocessor__cat__encoder__cols', 'preprocessor__cat__encoder__drop_invariant', 'preprocessor__cat__encoder__handle_missing', 'preprocessor__cat__encoder__handle_unknown', 'preprocessor__cat__encoder__mapping', 'preprocessor__cat__encoder__return_df', 'preprocessor__cat__encoder__verbose', 'regressor__copy_X', 'regressor__fit_intercept', 'regressor__n_jobs', 'regressor__normalize'])"
            ]
          },
          "metadata": {},
          "execution_count": 127
        }
      ]
    },
    {
      "cell_type": "code",
      "metadata": {
        "colab": {
          "base_uri": "https://localhost:8080/"
        },
        "id": "g05Ux6nXshud",
        "outputId": "e7fc6c04-dc1f-4a38-f19b-bc073ee30170"
      },
      "source": [
        "from sklearn.model_selection import GridSearchCV\n",
        "param_grid = {\"preprocessor__n_jobs\":[True,False],\n",
        "             \"regressor__fit_intercept\":[True, False]}\n",
        "\n",
        "\n",
        "lin_reg = LinearRegression()\n",
        "regR = pipeline(preprocessor, lin_reg)\n",
        "regR.fit(X_train, y_trainEnergy)\n",
        "\n",
        "grid_search = GridSearchCV(regR, param_grid, cv=5, \n",
        "              return_train_score=True, scoring='r2')\n",
        "grid_search.fit(X_train, y_trainEnergy)"
      ],
      "execution_count": null,
      "outputs": [
        {
          "output_type": "execute_result",
          "data": {
            "text/plain": [
              "GridSearchCV(cv=5, error_score=nan,\n",
              "             estimator=Pipeline(memory=None,\n",
              "                                steps=[('preprocessor',\n",
              "                                        ColumnTransformer(n_jobs=None,\n",
              "                                                          remainder='drop',\n",
              "                                                          sparse_threshold=0.3,\n",
              "                                                          transformer_weights=None,\n",
              "                                                          transformers=[('num',\n",
              "                                                                         Pipeline(memory=None,\n",
              "                                                                                  steps=[('imputer',\n",
              "                                                                                          SimpleImputer(add_indicator=False,\n",
              "                                                                                                        copy=True,\n",
              "                                                                                                        fill_value=None,\n",
              "                                                                                                        missing_values=nan,\n",
              "                                                                                                        strategy='mean',\n",
              "                                                                                                        verbose=0)),\n",
              "                                                                                         ('...\n",
              "       'ListOfAllPropertyUseTypes', 'LargestPropertyUseType'],\n",
              "      dtype='object'))],\n",
              "                                                          verbose=False)),\n",
              "                                       ('regressor',\n",
              "                                        LinearRegression(copy_X=True,\n",
              "                                                         fit_intercept=True,\n",
              "                                                         n_jobs=None,\n",
              "                                                         normalize=False))],\n",
              "                                verbose=False),\n",
              "             iid='deprecated', n_jobs=None,\n",
              "             param_grid={'preprocessor__n_jobs': [True, False],\n",
              "                         'regressor__fit_intercept': [True, False]},\n",
              "             pre_dispatch='2*n_jobs', refit=True, return_train_score=True,\n",
              "             scoring='r2', verbose=0)"
            ]
          },
          "metadata": {},
          "execution_count": 128
        }
      ]
    },
    {
      "cell_type": "code",
      "metadata": {
        "id": "81MHrwbcKJnJ",
        "colab": {
          "base_uri": "https://localhost:8080/"
        },
        "outputId": "6549c44f-9ec9-4c35-b259-73e326e9e3c4"
      },
      "source": [
        "grid_search.best_score_"
      ],
      "execution_count": null,
      "outputs": [
        {
          "output_type": "execute_result",
          "data": {
            "text/plain": [
              "0.7465908777090403"
            ]
          },
          "metadata": {},
          "execution_count": 129
        }
      ]
    },
    {
      "cell_type": "code",
      "metadata": {
        "colab": {
          "base_uri": "https://localhost:8080/"
        },
        "id": "OQe7-Qo1AD5D",
        "outputId": "129b7162-704a-4bb8-ab9b-4f0fe244f071"
      },
      "source": [
        "grid_search.best_params_"
      ],
      "execution_count": null,
      "outputs": [
        {
          "output_type": "execute_result",
          "data": {
            "text/plain": [
              "{'preprocessor__n_jobs': True, 'regressor__fit_intercept': True}"
            ]
          },
          "metadata": {},
          "execution_count": 130
        }
      ]
    },
    {
      "cell_type": "markdown",
      "metadata": {
        "id": "Ihu_X3bLKkEF"
      },
      "source": [
        "**4. Evaluation Using learning curves**"
      ]
    },
    {
      "cell_type": "markdown",
      "metadata": {
        "id": "hLp3dwNiKpFg"
      },
      "source": [
        "The learning curves show the evolution of the model's performance as a function of the quantity of data provided to it. Typically the more data the machine has to train, the better its performance. But when you reach the ceiling it is not useful to give more data."
      ]
    },
    {
      "cell_type": "code",
      "metadata": {
        "colab": {
          "base_uri": "https://localhost:8080/",
          "height": 315
        },
        "id": "EcwPbvN8Kfak",
        "outputId": "51be95d7-b1d8-4b56-f38c-6494afa96393"
      },
      "source": [
        "from sklearn.model_selection import learning_curve\n",
        "\n",
        "N, train_score, val_score = learning_curve(regR, X_train, y_trainEnergy, train_sizes = np.linspace(0.2, 1.0, 10), cv=5)\n",
        "print(N)\n",
        "\n",
        "plt.plot(N, train_score.mean(axis=1), label = 'train')\n",
        "plt.plot(N, val_score.mean(axis=1), label = 'validation')\n",
        "plt.plot(xlabel='train size', ylabel='score')\n",
        "plt.legend()\n",
        "plt.title('learning_curves')"
      ],
      "execution_count": null,
      "outputs": [
        {
          "output_type": "stream",
          "name": "stdout",
          "text": [
            "[100 145 190 235 280 324 369 414 459 504]\n"
          ]
        },
        {
          "output_type": "execute_result",
          "data": {
            "text/plain": [
              "Text(0.5, 1.0, 'learning_curves')"
            ]
          },
          "metadata": {},
          "execution_count": 131
        },
        {
          "output_type": "display_data",
          "data": {
            "image/png": "[encoded data removed]",
            "text/plain": [
              "<Figure size 432x288 with 1 Axes>"
            ]
          },
          "metadata": {
            "needs_background": "light"
          }
        }
      ]
    },
    {
      "cell_type": "markdown",
      "metadata": {
        "id": "ZnnuQvOXK6uk"
      },
      "source": [
        "First, let’s look at the performance on the training data: when there are just a little of instances in the training set, the model can fit them perfectly, which is why the curve starts at 84 %. But as new instances are added to the training set, it becomes impossible for the model to fit the training data perfectly. Now let’s look at the performance of the model on the validation data. When the model is trained on very few training instances, it is incapable of generalizing properly, which is why the validation error is initially quite big. Then as the model is shown more training examples, it learns and thus the validation error slowly goes down. I think that we need more data to better see the behavior of the model in the presence of more data.\n",
        "Also we can use a more complex model or come up with better features."
      ]
    },
    {
      "cell_type": "markdown",
      "metadata": {
        "id": "jSCXZhw4LA7r"
      },
      "source": [
        "**5. Evaluating on the Test Set**"
      ]
    },
    {
      "cell_type": "code",
      "metadata": {
        "id": "cxTwsDWz0BsI"
      },
      "source": [
        "y_pred = regR.predict(X_test)"
      ],
      "execution_count": null,
      "outputs": []
    },
    {
      "cell_type": "code",
      "metadata": {
        "colab": {
          "base_uri": "https://localhost:8080/"
        },
        "id": "TG_E0QC98XHf",
        "outputId": "a1274b00-fe10-4290-bdcc-26406ea09863"
      },
      "source": [
        "from sklearn import metrics\n",
        "print('r2:', metrics.r2_score(y_testEnergy, y_pred))\n",
        "print('Root Mean Squared Error:', np.sqrt(metrics.mean_squared_error(y_testEnergy, y_pred)))"
      ],
      "execution_count": null,
      "outputs": [
        {
          "output_type": "stream",
          "name": "stdout",
          "text": [
            "r2: 0.7428917723579005\n",
            "Root Mean Squared Error: 0.6203414188343702\n"
          ]
        }
      ]
    },
    {
      "cell_type": "markdown",
      "metadata": {
        "id": "4vydXF6JAV7y"
      },
      "source": [
        "We notice that the model generalizes worse with the test set than with the train set."
      ]
    },
    {
      "cell_type": "markdown",
      "metadata": {
        "id": "Uj7W7_M4BuHZ"
      },
      "source": [
        "___"
      ]
    },
    {
      "cell_type": "markdown",
      "metadata": {
        "id": "gFRlN9RZByG6"
      },
      "source": [
        "### **ElasticNet**"
      ]
    },
    {
      "cell_type": "markdown",
      "metadata": {
        "id": "Yfv685etDAXr"
      },
      "source": [
        "It is almost always better to have at least some regularization. we think only a few features are really useful, we might prefer Elastic Net as it tend to reduce the weight of unnecessary features up to zero as we have discussed. Elastic-net is useful when there are multiple features that are correlated with one another."
      ]
    },
    {
      "cell_type": "markdown",
      "metadata": {
        "id": "xwlp5JL1pDRa"
      },
      "source": [
        "**1. Training and Evaluating on the Training Set**"
      ]
    },
    {
      "cell_type": "code",
      "metadata": {
        "colab": {
          "base_uri": "https://localhost:8080/"
        },
        "id": "shI5KX_fE2NA",
        "outputId": "12793667-f970-4e08-d3a6-c5091caf2461"
      },
      "source": [
        "from sklearn.linear_model import ElasticNet\n",
        "\n",
        "elastic_net = ElasticNet(alpha=0.1, l1_ratio=0.5)\n",
        "regE = pipeline(preprocessor, elastic_net)\n",
        "regE.fit(X_train, y_trainEnergy)\n",
        "print('Train score:', train_score.mean())"
      ],
      "execution_count": null,
      "outputs": [
        {
          "output_type": "stream",
          "name": "stdout",
          "text": [
            "Train score: 0.797268502298362\n"
          ]
        }
      ]
    },
    {
      "cell_type": "markdown",
      "metadata": {
        "id": "GChpA4xKjYKE"
      },
      "source": [
        "This is a good score."
      ]
    },
    {
      "cell_type": "markdown",
      "metadata": {
        "id": "gYSywgDvHLQ8"
      },
      "source": [
        "**2. Evaluation Using Cross-Validation**"
      ]
    },
    {
      "cell_type": "code",
      "metadata": {
        "id": "MFm8HbKmVaO5"
      },
      "source": [
        "from sklearn.model_selection import cross_val_score\n",
        "from sklearn.metrics import r2_score\n",
        "\n",
        "scores = cross_val_score (regE, X_train, y_trainEnergy,\n",
        "                 cv=10, scoring = 'r2')"
      ],
      "execution_count": null,
      "outputs": []
    },
    {
      "cell_type": "code",
      "metadata": {
        "colab": {
          "base_uri": "https://localhost:8080/"
        },
        "id": "9YhBxIn1piSO",
        "outputId": "b55f2f62-0ee0-4dcc-9bd4-ff513396fc50"
      },
      "source": [
        "def display_scores(scores):\n",
        "  print(\"Scores:\", scores)\n",
        "  print(\"Mean:\", scores.mean())\n",
        "  print(\"Standard deviation:\", scores.std())\n",
        "\n",
        "display_scores(scores)"
      ],
      "execution_count": null,
      "outputs": [
        {
          "output_type": "stream",
          "name": "stdout",
          "text": [
            "Scores: [0.75392725 0.65954445 0.68226582 0.74140812 0.64787281 0.72055527\n",
            " 0.74367298 0.72818508 0.75662668 0.84477181]\n",
            "Mean: 0.7278830273975483\n",
            "Standard deviation: 0.05367145485424268\n"
          ]
        }
      ]
    },
    {
      "cell_type": "code",
      "metadata": {
        "colab": {
          "base_uri": "https://localhost:8080/"
        },
        "id": "pQRNBO4apiSg",
        "outputId": "a3cab07a-933a-4076-ec02-f2433b62d2af"
      },
      "source": [
        "scores = cross_val_score(regE, X_train, y_trainEnergy, scoring=\"r2\", cv=10)\n",
        "pd.Series((scores)).describe()"
      ],
      "execution_count": null,
      "outputs": [
        {
          "output_type": "execute_result",
          "data": {
            "text/plain": [
              "count    10.000000\n",
              "mean      0.727883\n",
              "std       0.056575\n",
              "min       0.647873\n",
              "25%       0.691838\n",
              "50%       0.734797\n",
              "75%       0.751364\n",
              "max       0.844772\n",
              "dtype: float64"
            ]
          },
          "metadata": {},
          "execution_count": 137
        }
      ]
    },
    {
      "cell_type": "code",
      "metadata": {
        "colab": {
          "base_uri": "https://localhost:8080/"
        },
        "id": "tIHui01GvOwd",
        "outputId": "275cf922-bfd6-442c-f580-5eead6c8cb65"
      },
      "source": [
        "scores = cross_val_score(regE, X_train, y_trainEnergy, scoring=\"neg_root_mean_squared_error\", cv=10)\n",
        "pd.Series((scores)).describe()"
      ],
      "execution_count": null,
      "outputs": [
        {
          "output_type": "execute_result",
          "data": {
            "text/plain": [
              "count    10.000000\n",
              "mean     -0.633831\n",
              "std       0.104670\n",
              "min      -0.795962\n",
              "25%      -0.697747\n",
              "50%      -0.625325\n",
              "75%      -0.550767\n",
              "max      -0.505714\n",
              "dtype: float64"
            ]
          },
          "metadata": {},
          "execution_count": 138
        }
      ]
    },
    {
      "cell_type": "markdown",
      "metadata": {
        "id": "uhrbjtk2tSdl"
      },
      "source": [
        "**3. Grid Search**"
      ]
    },
    {
      "cell_type": "code",
      "metadata": {
        "colab": {
          "base_uri": "https://localhost:8080/"
        },
        "id": "nMagXGCTSeIn",
        "outputId": "bf729764-368a-45d2-df45-d762c16a8878"
      },
      "source": [
        "# To get the differents algorithm parameters\n",
        "regE.get_params().keys()"
      ],
      "execution_count": null,
      "outputs": [
        {
          "output_type": "execute_result",
          "data": {
            "text/plain": [
              "dict_keys(['memory', 'steps', 'verbose', 'preprocessor', 'regressor', 'preprocessor__n_jobs', 'preprocessor__remainder', 'preprocessor__sparse_threshold', 'preprocessor__transformer_weights', 'preprocessor__transformers', 'preprocessor__verbose', 'preprocessor__num', 'preprocessor__cat', 'preprocessor__num__memory', 'preprocessor__num__steps', 'preprocessor__num__verbose', 'preprocessor__num__imputer', 'preprocessor__num__robust_scaler', 'preprocessor__num__imputer__add_indicator', 'preprocessor__num__imputer__copy', 'preprocessor__num__imputer__fill_value', 'preprocessor__num__imputer__missing_values', 'preprocessor__num__imputer__strategy', 'preprocessor__num__imputer__verbose', 'preprocessor__num__robust_scaler__copy', 'preprocessor__num__robust_scaler__quantile_range', 'preprocessor__num__robust_scaler__with_centering', 'preprocessor__num__robust_scaler__with_scaling', 'preprocessor__cat__memory', 'preprocessor__cat__steps', 'preprocessor__cat__verbose', 'preprocessor__cat__encoder', 'preprocessor__cat__encoder__base', 'preprocessor__cat__encoder__cols', 'preprocessor__cat__encoder__drop_invariant', 'preprocessor__cat__encoder__handle_missing', 'preprocessor__cat__encoder__handle_unknown', 'preprocessor__cat__encoder__mapping', 'preprocessor__cat__encoder__return_df', 'preprocessor__cat__encoder__verbose', 'regressor__alpha', 'regressor__copy_X', 'regressor__fit_intercept', 'regressor__l1_ratio', 'regressor__max_iter', 'regressor__normalize', 'regressor__positive', 'regressor__precompute', 'regressor__random_state', 'regressor__selection', 'regressor__tol', 'regressor__warm_start'])"
            ]
          },
          "metadata": {},
          "execution_count": 139
        }
      ]
    },
    {
      "cell_type": "code",
      "metadata": {
        "colab": {
          "base_uri": "https://localhost:8080/"
        },
        "id": "i-hZxW-0SS1W",
        "outputId": "d3e27957-0b46-477f-fe5d-58fe59638f85"
      },
      "source": [
        "from sklearn.model_selection import GridSearchCV\n",
        "param_grid = {'regressor__l1_ratio' :np.arange(0.0, 1.0, 0.1) , \n",
        "              'regressor__alpha' :[0.0001, 0.001, 0.01, 0.1, 1, 10],\n",
        "              'regressor__fit_intercept':[True, False]\n",
        "             }\n",
        "             \n",
        "elastic_net = ElasticNet(alpha=0.1, l1_ratio=0.5)\n",
        "regE = pipeline(preprocessor, elastic_net)\n",
        "regE.fit(X_train, y_trainEnergy)\n",
        "\n",
        "grid_search = GridSearchCV(regE, param_grid, cv=5, \n",
        "              return_train_score=True, scoring='r2')\n",
        "grid_search.fit(X_train, y_trainEnergy)"
      ],
      "execution_count": null,
      "outputs": [
        {
          "output_type": "execute_result",
          "data": {
            "text/plain": [
              "GridSearchCV(cv=5, error_score=nan,\n",
              "             estimator=Pipeline(memory=None,\n",
              "                                steps=[('preprocessor',\n",
              "                                        ColumnTransformer(n_jobs=None,\n",
              "                                                          remainder='drop',\n",
              "                                                          sparse_threshold=0.3,\n",
              "                                                          transformer_weights=None,\n",
              "                                                          transformers=[('num',\n",
              "                                                                         Pipeline(memory=None,\n",
              "                                                                                  steps=[('imputer',\n",
              "                                                                                          SimpleImputer(add_indicator=False,\n",
              "                                                                                                        copy=True,\n",
              "                                                                                                        fill_value=None,\n",
              "                                                                                                        missing_values=nan,\n",
              "                                                                                                        strategy='mean',\n",
              "                                                                                                        verbose=0)),\n",
              "                                                                                         ('...\n",
              "                                                   random_state=None,\n",
              "                                                   selection='cyclic',\n",
              "                                                   tol=0.0001,\n",
              "                                                   warm_start=False))],\n",
              "                                verbose=False),\n",
              "             iid='deprecated', n_jobs=None,\n",
              "             param_grid={'regressor__alpha': [0.0001, 0.001, 0.01, 0.1, 1, 10],\n",
              "                         'regressor__fit_intercept': [True, False],\n",
              "                         'regressor__l1_ratio': array([0. , 0.1, 0.2, 0.3, 0.4, 0.5, 0.6, 0.7, 0.8, 0.9])},\n",
              "             pre_dispatch='2*n_jobs', refit=True, return_train_score=True,\n",
              "             scoring='r2', verbose=0)"
            ]
          },
          "metadata": {},
          "execution_count": 140
        }
      ]
    },
    {
      "cell_type": "code",
      "metadata": {
        "colab": {
          "base_uri": "https://localhost:8080/"
        },
        "id": "XnCjobiow4MS",
        "outputId": "5ec0ac3c-db2c-4b01-945f-f3b85edc23d2"
      },
      "source": [
        "grid_search.best_score_"
      ],
      "execution_count": null,
      "outputs": [
        {
          "output_type": "execute_result",
          "data": {
            "text/plain": [
              "0.7562198105394764"
            ]
          },
          "metadata": {},
          "execution_count": 141
        }
      ]
    },
    {
      "cell_type": "code",
      "metadata": {
        "colab": {
          "base_uri": "https://localhost:8080/"
        },
        "id": "CtvW9Pjo-_-r",
        "outputId": "118fddbf-104e-4c9a-cc37-5ce280de2fe8"
      },
      "source": [
        "grid_search.best_params_"
      ],
      "execution_count": null,
      "outputs": [
        {
          "output_type": "execute_result",
          "data": {
            "text/plain": [
              "{'regressor__alpha': 0.1,\n",
              " 'regressor__fit_intercept': True,\n",
              " 'regressor__l1_ratio': 0.0}"
            ]
          },
          "metadata": {},
          "execution_count": 142
        }
      ]
    },
    {
      "cell_type": "code",
      "metadata": {
        "id": "G23eXjfnw4MS"
      },
      "source": [
        "modelE = grid_search.best_estimator_"
      ],
      "execution_count": null,
      "outputs": []
    },
    {
      "cell_type": "markdown",
      "metadata": {
        "id": "UChO-1kRw4MV"
      },
      "source": [
        "**4. Evaluation Using learning curves**"
      ]
    },
    {
      "cell_type": "markdown",
      "metadata": {
        "id": "JsOSBmfFw4MV"
      },
      "source": [
        "The learning curves show the evolution of the model's performance as a function of the quantity of data provided to it. Typically the more data the machine has to train, the better its performance. But when you reach the ceiling it is not useful to give more data."
      ]
    },
    {
      "cell_type": "code",
      "metadata": {
        "colab": {
          "base_uri": "https://localhost:8080/",
          "height": 315
        },
        "id": "apPqYf28w4MV",
        "outputId": "1b57e5b1-f48d-4ab8-aabe-ba04eb5183b6"
      },
      "source": [
        "from sklearn.model_selection import learning_curve\n",
        "\n",
        "N, train_score, val_score = learning_curve(regE, X_train, y_trainEnergy, train_sizes = np.linspace(0.2, 1.0, 10), cv=5)\n",
        "print(N)\n",
        "\n",
        "plt.plot(N, train_score.mean(axis=1), label = 'train')\n",
        "plt.plot(N, val_score.mean(axis=1), label = 'validation')\n",
        "plt.plot(xlabel='train size', ylabel='score')\n",
        "plt.legend()\n",
        "plt.title('learning_curves')"
      ],
      "execution_count": null,
      "outputs": [
        {
          "output_type": "stream",
          "name": "stdout",
          "text": [
            "[100 145 190 235 280 324 369 414 459 504]\n"
          ]
        },
        {
          "output_type": "execute_result",
          "data": {
            "text/plain": [
              "Text(0.5, 1.0, 'learning_curves')"
            ]
          },
          "metadata": {},
          "execution_count": 144
        },
        {
          "output_type": "display_data",
          "data": {
            "image/png": "[encoded data removed]",
            "text/plain": [
              "<Figure size 432x288 with 1 Axes>"
            ]
          },
          "metadata": {
            "needs_background": "light"
          }
        }
      ]
    },
    {
      "cell_type": "markdown",
      "metadata": {
        "id": "HxsWoeyqrgep"
      },
      "source": [
        "**5. Evaluating on the Test Set**"
      ]
    },
    {
      "cell_type": "code",
      "metadata": {
        "id": "8KU0Iylqrgeq"
      },
      "source": [
        "y_pred = regE.predict(X_test)"
      ],
      "execution_count": null,
      "outputs": []
    },
    {
      "cell_type": "code",
      "metadata": {
        "colab": {
          "base_uri": "https://localhost:8080/"
        },
        "id": "_F_L_TZ3rger",
        "outputId": "8956d6d6-5165-432a-f3bd-bd34d065deb3"
      },
      "source": [
        "from sklearn import metrics\n",
        "print('r2:', metrics.r2_score(y_testEnergy, y_pred))\n",
        "print('Root Mean Squared Error:', np.sqrt(metrics.mean_squared_error(y_testEnergy, y_pred)))"
      ],
      "execution_count": null,
      "outputs": [
        {
          "output_type": "stream",
          "name": "stdout",
          "text": [
            "r2: 0.6912422828242608\n",
            "Root Mean Squared Error: 0.6798008485786305\n"
          ]
        }
      ]
    },
    {
      "cell_type": "markdown",
      "metadata": {
        "id": "gKHhefgNro6F"
      },
      "source": [
        "The model does not behave the same with the train set and the test set. It gives an r2 score of 99% which is a very interesting score with the train set, but only 64% with the test set."
      ]
    },
    {
      "cell_type": "markdown",
      "metadata": {
        "id": "Q_v1ehNPzFda"
      },
      "source": [
        "___"
      ]
    },
    {
      "cell_type": "markdown",
      "metadata": {
        "id": "sSymBx9orpVQ"
      },
      "source": [
        "### **Support Vector Regression : SVR** "
      ]
    },
    {
      "cell_type": "markdown",
      "metadata": {
        "id": "h4OEV_-VFi9Z"
      },
      "source": [
        "Support Vector Regression is a supervised learning algorithm that is used to predict discrete values. Support Vector Regression uses the same principle as the SVMs. The basic idea behind SVR is to find the best fit line. In SVR, the best fit line is the hyperplane that has the maximum number of points."
      ]
    },
    {
      "cell_type": "markdown",
      "metadata": {
        "id": "NVepWqrr7joG"
      },
      "source": [
        "**1. Training and Evaluating on the Training Set**"
      ]
    },
    {
      "cell_type": "code",
      "metadata": {
        "id": "CA6gIb_H7joH"
      },
      "source": [
        "from sklearn.svm import SVR\n",
        "\n",
        "svr = SVR()\n",
        "regS = pipeline(preprocessor, svr)\n"
      ],
      "execution_count": null,
      "outputs": []
    },
    {
      "cell_type": "code",
      "metadata": {
        "colab": {
          "base_uri": "https://localhost:8080/"
        },
        "id": "miho5h0Z7myr",
        "outputId": "aff0911c-8aff-403a-ce32-ebb1df1ad5df"
      },
      "source": [
        "regS.fit(X_train, y_trainEnergy)\n",
        "print('Train score Energy:', train_score.mean())"
      ],
      "execution_count": null,
      "outputs": [
        {
          "output_type": "stream",
          "name": "stdout",
          "text": [
            "Train score Energy: 0.7334781317439765\n"
          ]
        }
      ]
    },
    {
      "cell_type": "markdown",
      "metadata": {
        "id": "8dF-1RYj7joH"
      },
      "source": [
        "**2. Evaluation Using Cross-Validation**"
      ]
    },
    {
      "cell_type": "code",
      "metadata": {
        "id": "esqE7dIPVWBw"
      },
      "source": [
        "from sklearn.model_selection import cross_val_score\n",
        "from sklearn.metrics import r2_score\n",
        "\n",
        "scores = cross_val_score (regS, X_train, y_trainEnergy,\n",
        "                 cv=10, scoring = 'r2')"
      ],
      "execution_count": null,
      "outputs": []
    },
    {
      "cell_type": "code",
      "metadata": {
        "id": "OvncpPFO7joI",
        "colab": {
          "base_uri": "https://localhost:8080/"
        },
        "outputId": "5aa185e5-f1bf-4984-d5d8-d1f3fad50fea"
      },
      "source": [
        "scores = cross_val_score(regS, X_train, y_trainEnergy, scoring=\"r2\", cv=10)\n",
        "pd.Series((scores)).describe()"
      ],
      "execution_count": null,
      "outputs": [
        {
          "output_type": "execute_result",
          "data": {
            "text/plain": [
              "count    10.000000\n",
              "mean      0.890240\n",
              "std       0.022805\n",
              "min       0.841784\n",
              "25%       0.882839\n",
              "50%       0.890383\n",
              "75%       0.904849\n",
              "max       0.925837\n",
              "dtype: float64"
            ]
          },
          "metadata": {},
          "execution_count": 150
        }
      ]
    },
    {
      "cell_type": "markdown",
      "metadata": {
        "id": "aTvKzk5YIGcn"
      },
      "source": [
        "**3. Grid Search**"
      ]
    },
    {
      "cell_type": "code",
      "metadata": {
        "colab": {
          "base_uri": "https://localhost:8080/"
        },
        "id": "8loORbZqIGco",
        "outputId": "2cd79632-03ce-462d-bb44-21889dd008da"
      },
      "source": [
        "# To get the differents algorithm parameters\n",
        "regS.get_params().keys()"
      ],
      "execution_count": null,
      "outputs": [
        {
          "output_type": "execute_result",
          "data": {
            "text/plain": [
              "dict_keys(['memory', 'steps', 'verbose', 'preprocessor', 'regressor', 'preprocessor__n_jobs', 'preprocessor__remainder', 'preprocessor__sparse_threshold', 'preprocessor__transformer_weights', 'preprocessor__transformers', 'preprocessor__verbose', 'preprocessor__num', 'preprocessor__cat', 'preprocessor__num__memory', 'preprocessor__num__steps', 'preprocessor__num__verbose', 'preprocessor__num__imputer', 'preprocessor__num__robust_scaler', 'preprocessor__num__imputer__add_indicator', 'preprocessor__num__imputer__copy', 'preprocessor__num__imputer__fill_value', 'preprocessor__num__imputer__missing_values', 'preprocessor__num__imputer__strategy', 'preprocessor__num__imputer__verbose', 'preprocessor__num__robust_scaler__copy', 'preprocessor__num__robust_scaler__quantile_range', 'preprocessor__num__robust_scaler__with_centering', 'preprocessor__num__robust_scaler__with_scaling', 'preprocessor__cat__memory', 'preprocessor__cat__steps', 'preprocessor__cat__verbose', 'preprocessor__cat__encoder', 'preprocessor__cat__encoder__base', 'preprocessor__cat__encoder__cols', 'preprocessor__cat__encoder__drop_invariant', 'preprocessor__cat__encoder__handle_missing', 'preprocessor__cat__encoder__handle_unknown', 'preprocessor__cat__encoder__mapping', 'preprocessor__cat__encoder__return_df', 'preprocessor__cat__encoder__verbose', 'regressor__C', 'regressor__cache_size', 'regressor__coef0', 'regressor__degree', 'regressor__epsilon', 'regressor__gamma', 'regressor__kernel', 'regressor__max_iter', 'regressor__shrinking', 'regressor__tol', 'regressor__verbose'])"
            ]
          },
          "metadata": {},
          "execution_count": 152
        }
      ]
    },
    {
      "cell_type": "code",
      "metadata": {
        "colab": {
          "base_uri": "https://localhost:8080/"
        },
        "id": "QfP3IjjlIGcr",
        "outputId": "f4acd72d-9a8b-4e57-8def-61c351a845bb"
      },
      "source": [
        "from sklearn.model_selection import GridSearchCV\n",
        "param_grid = {'regressor__epsilon':(0.0, 1.0, 0.1) , \n",
        "              'regressor__kernel':('linear', 'poly', 'rbf')\n",
        "             }\n",
        "             \n",
        "svr = SVR()\n",
        "regS = pipeline(preprocessor, svr)\n",
        "regS.fit(X_train, y_trainEnergy)\n",
        "\n",
        "grid_search = GridSearchCV(regS, param_grid, cv=5, \n",
        "              return_train_score=True, scoring='r2')\n",
        "grid_search.fit(X_train, y_trainEnergy)"
      ],
      "execution_count": null,
      "outputs": [
        {
          "output_type": "execute_result",
          "data": {
            "text/plain": [
              "GridSearchCV(cv=5, error_score=nan,\n",
              "             estimator=Pipeline(memory=None,\n",
              "                                steps=[('preprocessor',\n",
              "                                        ColumnTransformer(n_jobs=None,\n",
              "                                                          remainder='drop',\n",
              "                                                          sparse_threshold=0.3,\n",
              "                                                          transformer_weights=None,\n",
              "                                                          transformers=[('num',\n",
              "                                                                         Pipeline(memory=None,\n",
              "                                                                                  steps=[('imputer',\n",
              "                                                                                          SimpleImputer(add_indicator=False,\n",
              "                                                                                                        copy=True,\n",
              "                                                                                                        fill_value=None,\n",
              "                                                                                                        missing_values=nan,\n",
              "                                                                                                        strategy='mean',\n",
              "                                                                                                        verbose=0)),\n",
              "                                                                                         ('...\n",
              "                                        SVR(C=1.0, cache_size=200, coef0=0.0,\n",
              "                                            degree=3, epsilon=0.1,\n",
              "                                            gamma='scale', kernel='rbf',\n",
              "                                            max_iter=-1, shrinking=True,\n",
              "                                            tol=0.001, verbose=False))],\n",
              "                                verbose=False),\n",
              "             iid='deprecated', n_jobs=None,\n",
              "             param_grid={'regressor__epsilon': (0.0, 1.0, 0.1),\n",
              "                         'regressor__kernel': ('linear', 'poly', 'rbf')},\n",
              "             pre_dispatch='2*n_jobs', refit=True, return_train_score=True,\n",
              "             scoring='r2', verbose=0)"
            ]
          },
          "metadata": {},
          "execution_count": 153
        }
      ]
    },
    {
      "cell_type": "code",
      "metadata": {
        "colab": {
          "base_uri": "https://localhost:8080/"
        },
        "id": "6rt2jC9yIGcs",
        "outputId": "42d1d863-acfb-4732-beaa-70a14583f955"
      },
      "source": [
        "grid_search.best_score_"
      ],
      "execution_count": null,
      "outputs": [
        {
          "output_type": "execute_result",
          "data": {
            "text/plain": [
              "0.8865494267593176"
            ]
          },
          "metadata": {},
          "execution_count": 154
        }
      ]
    },
    {
      "cell_type": "code",
      "metadata": {
        "id": "ToP4NaCNIGcs"
      },
      "source": [
        "# To get the best estimator for SiteEnergyUse(kBtu)log\n",
        "modelS = grid_search.best_estimator_"
      ],
      "execution_count": null,
      "outputs": []
    },
    {
      "cell_type": "markdown",
      "metadata": {
        "id": "yWTR_9hd7joJ"
      },
      "source": [
        "**4. Evaluation Using learning curves**"
      ]
    },
    {
      "cell_type": "code",
      "metadata": {
        "id": "7MN4VEN07joJ",
        "colab": {
          "base_uri": "https://localhost:8080/",
          "height": 315
        },
        "outputId": "87b6a8c3-6752-4023-c4e0-ff21e9dcaa2d"
      },
      "source": [
        "from sklearn.model_selection import learning_curve\n",
        "\n",
        "N, train_score, val_score = learning_curve(regS, X_train, y_trainEnergy, train_sizes = np.linspace(0.2, 1.0, 10), cv=5)\n",
        "print(N)\n",
        "\n",
        "plt.plot(N, train_score.mean(axis=1), label = 'train')\n",
        "plt.plot(N, val_score.mean(axis=1), label = 'validation')\n",
        "plt.plot(xlabel='train size', ylabel='score')\n",
        "plt.legend()\n",
        "plt.title('learning_curves')"
      ],
      "execution_count": null,
      "outputs": [
        {
          "output_type": "stream",
          "name": "stdout",
          "text": [
            "[100 145 190 235 280 324 369 414 459 504]\n"
          ]
        },
        {
          "output_type": "execute_result",
          "data": {
            "text/plain": [
              "Text(0.5, 1.0, 'learning_curves')"
            ]
          },
          "metadata": {},
          "execution_count": 156
        },
        {
          "output_type": "display_data",
          "data": {
            "image/png": "[encoded data removed]",
            "text/plain": [
              "<Figure size 432x288 with 1 Axes>"
            ]
          },
          "metadata": {
            "needs_background": "light"
          }
        }
      ]
    },
    {
      "cell_type": "markdown",
      "metadata": {
        "id": "iRvvaV5Z7joJ"
      },
      "source": [
        "The training curve increases according to the data until an r2 score of 90%. While the validation curve starts at an r2 score of 70% and increases with the data. The large difference between the two curves indicates a large variance."
      ]
    },
    {
      "cell_type": "markdown",
      "metadata": {
        "id": "wMnCBsH77joK"
      },
      "source": [
        "**5. Evaluating on the Test Set**"
      ]
    },
    {
      "cell_type": "code",
      "metadata": {
        "id": "P1S7vtGh7joK"
      },
      "source": [
        "y_pred = regS.predict(X_test)"
      ],
      "execution_count": null,
      "outputs": []
    },
    {
      "cell_type": "code",
      "metadata": {
        "id": "xRu_xtZw7joK",
        "colab": {
          "base_uri": "https://localhost:8080/"
        },
        "outputId": "a5a879e8-7bca-40dc-fc5e-a473a9ffe676"
      },
      "source": [
        "from sklearn import metrics\n",
        "print('r2:', metrics.r2_score(y_testEnergy, y_pred))\n",
        "print('Root Mean Squared Error:', np.sqrt(metrics.mean_squared_error(y_testEnergy, y_pred)))"
      ],
      "execution_count": null,
      "outputs": [
        {
          "output_type": "stream",
          "name": "stdout",
          "text": [
            "r2: 0.9111868591356026\n",
            "Root Mean Squared Error: 0.36459558578044476\n"
          ]
        }
      ]
    },
    {
      "cell_type": "markdown",
      "metadata": {
        "id": "gRH8R3vMSvUo"
      },
      "source": [
        "This model generalizes well on the test data with a score of 91% for the TotalGHGEmissionslog."
      ]
    },
    {
      "cell_type": "markdown",
      "metadata": {
        "id": "TSJJpdwBcCFn"
      },
      "source": [
        "___"
      ]
    },
    {
      "cell_type": "markdown",
      "metadata": {
        "id": "Pp6oEV03qMCD"
      },
      "source": [
        "### **DecisionTreeRegressor**"
      ]
    },
    {
      "cell_type": "markdown",
      "metadata": {
        "id": "nkwBYj7Quvvg"
      },
      "source": [
        "This is a powerful model, capable of finding\n",
        "complex nonlinear relationships in the data.\n",
        "Decision tree builds regression or classification models in the form of a tree structure. It breaks down a dataset into smaller and smaller subsets while at the same time an associated decision tree is incrementally developed. The final result is a tree with decision nodes and leaf nodes."
      ]
    },
    {
      "cell_type": "markdown",
      "metadata": {
        "id": "-2NmGrpTKrkO"
      },
      "source": [
        "**1. Training and Evaluating on the Training Set**"
      ]
    },
    {
      "cell_type": "code",
      "metadata": {
        "id": "SZiaUpUkS4Iy",
        "colab": {
          "base_uri": "https://localhost:8080/"
        },
        "outputId": "bcd9f335-e7ec-44c1-ef4d-9c027bc53270"
      },
      "source": [
        "from sklearn.tree import DecisionTreeRegressor\n",
        "\n",
        "tree_reg = DecisionTreeRegressor()\n",
        "regD = pipeline(preprocessor, tree_reg)\n",
        "regD.fit(X_train, y_trainEnergy)\n",
        "\n",
        "print('Train score:', train_score.mean())"
      ],
      "execution_count": null,
      "outputs": [
        {
          "output_type": "stream",
          "name": "stdout",
          "text": [
            "Train score: 0.9488001326954582\n"
          ]
        }
      ]
    },
    {
      "cell_type": "markdown",
      "metadata": {
        "id": "dBKufOx1zJ4H"
      },
      "source": [
        "This is a good score because the best value that can take the r2 is 1."
      ]
    },
    {
      "cell_type": "markdown",
      "metadata": {
        "id": "OkYKpHBjLCgt"
      },
      "source": [
        "**2. Evaluation Using Cross-Validation**"
      ]
    },
    {
      "cell_type": "code",
      "metadata": {
        "id": "vs1D8Vo-VPVY"
      },
      "source": [
        "from sklearn.model_selection import cross_val_score\n",
        "from sklearn.metrics import r2_score\n",
        "\n",
        "scores = cross_val_score (regD, X_train, y_trainEnergy,\n",
        "                 cv=10, scoring = 'r2')"
      ],
      "execution_count": null,
      "outputs": []
    },
    {
      "cell_type": "code",
      "metadata": {
        "colab": {
          "base_uri": "https://localhost:8080/"
        },
        "id": "x0grmLnWLCgu",
        "outputId": "705cb584-d6ac-4151-a6cf-8ef8d94409e2"
      },
      "source": [
        "def display_scores(scores):\n",
        "  print(\"Scores:\", scores)\n",
        "  print(\"Mean:\", scores.mean())\n",
        "  print(\"Standard deviation:\", scores.std())\n",
        "\n",
        "display_scores(scores)"
      ],
      "execution_count": null,
      "outputs": [
        {
          "output_type": "stream",
          "name": "stdout",
          "text": [
            "Scores: [0.89745491 0.92750421 0.95606058 0.86743442 0.93166949 0.91180029\n",
            " 0.9218683  0.94088105 0.89674827 0.87285707]\n",
            "Mean: 0.9124278592045872\n",
            "Standard deviation: 0.027314367135073084\n"
          ]
        }
      ]
    },
    {
      "cell_type": "code",
      "metadata": {
        "colab": {
          "base_uri": "https://localhost:8080/"
        },
        "id": "OkO1VNQbLCgu",
        "outputId": "484891fd-2ef7-4d0e-82a6-edecc4e7ca0e"
      },
      "source": [
        "scores = cross_val_score(regD, X_train, y_trainEnergy, scoring=\"r2\", cv=10)\n",
        "pd.Series((scores)).describe()"
      ],
      "execution_count": null,
      "outputs": [
        {
          "output_type": "execute_result",
          "data": {
            "text/plain": [
              "count    10.000000\n",
              "mean      0.913337\n",
              "std       0.025366\n",
              "min       0.871825\n",
              "25%       0.900146\n",
              "50%       0.922070\n",
              "75%       0.930062\n",
              "max       0.947803\n",
              "dtype: float64"
            ]
          },
          "metadata": {},
          "execution_count": 162
        }
      ]
    },
    {
      "cell_type": "markdown",
      "metadata": {
        "id": "AmRMGz7fLi-a"
      },
      "source": [
        "**3. Grid Search**"
      ]
    },
    {
      "cell_type": "code",
      "metadata": {
        "colab": {
          "base_uri": "https://localhost:8080/"
        },
        "id": "0EtEG8SDLi-b",
        "outputId": "06b11768-c705-45c5-f2c7-220e53e7ea16"
      },
      "source": [
        "# To get the differents algorithm parameter\n",
        "regD.get_params().keys()"
      ],
      "execution_count": null,
      "outputs": [
        {
          "output_type": "execute_result",
          "data": {
            "text/plain": [
              "dict_keys(['memory', 'steps', 'verbose', 'preprocessor', 'regressor', 'preprocessor__n_jobs', 'preprocessor__remainder', 'preprocessor__sparse_threshold', 'preprocessor__transformer_weights', 'preprocessor__transformers', 'preprocessor__verbose', 'preprocessor__num', 'preprocessor__cat', 'preprocessor__num__memory', 'preprocessor__num__steps', 'preprocessor__num__verbose', 'preprocessor__num__imputer', 'preprocessor__num__robust_scaler', 'preprocessor__num__imputer__add_indicator', 'preprocessor__num__imputer__copy', 'preprocessor__num__imputer__fill_value', 'preprocessor__num__imputer__missing_values', 'preprocessor__num__imputer__strategy', 'preprocessor__num__imputer__verbose', 'preprocessor__num__robust_scaler__copy', 'preprocessor__num__robust_scaler__quantile_range', 'preprocessor__num__robust_scaler__with_centering', 'preprocessor__num__robust_scaler__with_scaling', 'preprocessor__cat__memory', 'preprocessor__cat__steps', 'preprocessor__cat__verbose', 'preprocessor__cat__encoder', 'preprocessor__cat__encoder__base', 'preprocessor__cat__encoder__cols', 'preprocessor__cat__encoder__drop_invariant', 'preprocessor__cat__encoder__handle_missing', 'preprocessor__cat__encoder__handle_unknown', 'preprocessor__cat__encoder__mapping', 'preprocessor__cat__encoder__return_df', 'preprocessor__cat__encoder__verbose', 'regressor__ccp_alpha', 'regressor__criterion', 'regressor__max_depth', 'regressor__max_features', 'regressor__max_leaf_nodes', 'regressor__min_impurity_decrease', 'regressor__min_impurity_split', 'regressor__min_samples_leaf', 'regressor__min_samples_split', 'regressor__min_weight_fraction_leaf', 'regressor__presort', 'regressor__random_state', 'regressor__splitter'])"
            ]
          },
          "metadata": {},
          "execution_count": 163
        }
      ]
    },
    {
      "cell_type": "code",
      "metadata": {
        "colab": {
          "base_uri": "https://localhost:8080/"
        },
        "id": "VyvkA_-jLi-b",
        "outputId": "ece441e9-9e73-46e5-db63-62183696a5a1"
      },
      "source": [
        "from sklearn.model_selection import GridSearchCV\n",
        "param_grid = {\"regressor__splitter\" : ['best', 'random'],\n",
        "              \"regressor__max_depth\" : [2,4,6,8,10]\n",
        "             }\n",
        "\n",
        "tree_reg = DecisionTreeRegressor()\n",
        "regD = pipeline(preprocessor, tree_reg)\n",
        "regD.fit(X_train, y_trainEnergy)\n",
        "\n",
        "\n",
        "grid_search = GridSearchCV(regD, param_grid, cv=5, \n",
        "              return_train_score=True, scoring='r2')\n",
        "grid_search.fit(X_train, y_trainEnergy)"
      ],
      "execution_count": null,
      "outputs": [
        {
          "output_type": "execute_result",
          "data": {
            "text/plain": [
              "GridSearchCV(cv=5, error_score=nan,\n",
              "             estimator=Pipeline(memory=None,\n",
              "                                steps=[('preprocessor',\n",
              "                                        ColumnTransformer(n_jobs=None,\n",
              "                                                          remainder='drop',\n",
              "                                                          sparse_threshold=0.3,\n",
              "                                                          transformer_weights=None,\n",
              "                                                          transformers=[('num',\n",
              "                                                                         Pipeline(memory=None,\n",
              "                                                                                  steps=[('imputer',\n",
              "                                                                                          SimpleImputer(add_indicator=False,\n",
              "                                                                                                        copy=True,\n",
              "                                                                                                        fill_value=None,\n",
              "                                                                                                        missing_values=nan,\n",
              "                                                                                                        strategy='mean',\n",
              "                                                                                                        verbose=0)),\n",
              "                                                                                         ('...\n",
              "                                                              min_impurity_split=None,\n",
              "                                                              min_samples_leaf=1,\n",
              "                                                              min_samples_split=2,\n",
              "                                                              min_weight_fraction_leaf=0.0,\n",
              "                                                              presort='deprecated',\n",
              "                                                              random_state=None,\n",
              "                                                              splitter='best'))],\n",
              "                                verbose=False),\n",
              "             iid='deprecated', n_jobs=None,\n",
              "             param_grid={'regressor__max_depth': [2, 4, 6, 8, 10],\n",
              "                         'regressor__splitter': ['best', 'random']},\n",
              "             pre_dispatch='2*n_jobs', refit=True, return_train_score=True,\n",
              "             scoring='r2', verbose=0)"
            ]
          },
          "metadata": {},
          "execution_count": 164
        }
      ]
    },
    {
      "cell_type": "code",
      "metadata": {
        "colab": {
          "base_uri": "https://localhost:8080/"
        },
        "id": "NLhA4t_eLi-c",
        "outputId": "7b005aca-6e8a-4044-e5e7-2531e2c53ba1"
      },
      "source": [
        "grid_search.best_score_"
      ],
      "execution_count": null,
      "outputs": [
        {
          "output_type": "execute_result",
          "data": {
            "text/plain": [
              "0.9067941148950128"
            ]
          },
          "metadata": {},
          "execution_count": 165
        }
      ]
    },
    {
      "cell_type": "code",
      "metadata": {
        "colab": {
          "base_uri": "https://localhost:8080/"
        },
        "id": "IsJs26XkHyGh",
        "outputId": "8c7ace28-a3ca-4d61-ea2b-381c54f213d9"
      },
      "source": [
        "grid_search.best_params_"
      ],
      "execution_count": null,
      "outputs": [
        {
          "output_type": "execute_result",
          "data": {
            "text/plain": [
              "{'regressor__max_depth': 8, 'regressor__splitter': 'best'}"
            ]
          },
          "metadata": {},
          "execution_count": 166
        }
      ]
    },
    {
      "cell_type": "code",
      "metadata": {
        "id": "Nob5DAP8Li-c"
      },
      "source": [
        "modelD = grid_search.best_estimator_"
      ],
      "execution_count": null,
      "outputs": []
    },
    {
      "cell_type": "markdown",
      "metadata": {
        "id": "JXZe6tl1elfR"
      },
      "source": [
        "**4. Evaluation Using learning curves**"
      ]
    },
    {
      "cell_type": "code",
      "metadata": {
        "colab": {
          "base_uri": "https://localhost:8080/",
          "height": 299
        },
        "id": "6zVK7R9WLCgu",
        "outputId": "6c5b72dd-94db-40f2-fbba-f41ae7ebd14d"
      },
      "source": [
        "from sklearn.model_selection import learning_curve\n",
        "\n",
        "N, train_score, val_score = learning_curve(regD, X_train, y_trainEnergy, train_sizes = np.linspace(0.2, 1.0, 10), cv=5)\n",
        "print(N)\n",
        "\n",
        "plt.plot(N, train_score.mean(axis=1), label = 'train')\n",
        "plt.plot(N, val_score.mean(axis=1), label = 'validation')\n",
        "\n",
        "plt.legend()"
      ],
      "execution_count": null,
      "outputs": [
        {
          "output_type": "stream",
          "name": "stdout",
          "text": [
            "[100 145 190 235 280 324 369 414 459 504]\n"
          ]
        },
        {
          "output_type": "execute_result",
          "data": {
            "text/plain": [
              "<matplotlib.legend.Legend at 0x7f07e95ec490>"
            ]
          },
          "metadata": {},
          "execution_count": 168
        },
        {
          "output_type": "display_data",
          "data": {
            "image/png": "[encoded data removed]",
            "text/plain": [
              "<Figure size 432x288 with 1 Axes>"
            ]
          },
          "metadata": {
            "needs_background": "light"
          }
        }
      ]
    },
    {
      "cell_type": "markdown",
      "metadata": {
        "id": "lpnlUlft8T3U"
      },
      "source": [
        "The model does not make an error on the set train.For the validation curve, the model is trained on very few training instances, it is incapable of generalizing properly, which is why the validation error is initially quite big. Then as the model is shown more training examples, it learns and thus the validation error slowly goes down. However, once again a straight line cannot do a good job modeling the data, so the error ends up at a plateau."
      ]
    },
    {
      "cell_type": "markdown",
      "metadata": {
        "id": "wucuFdXA196v"
      },
      "source": [
        "**5. Evaluating on the Test Set**"
      ]
    },
    {
      "cell_type": "code",
      "metadata": {
        "id": "C5Q4qtP1KMid"
      },
      "source": [
        "y_pred = regD.predict(X_test)"
      ],
      "execution_count": null,
      "outputs": []
    },
    {
      "cell_type": "code",
      "metadata": {
        "colab": {
          "base_uri": "https://localhost:8080/"
        },
        "id": "78NEdvB4KMid",
        "outputId": "c192be04-c1c1-4a43-d7d3-cc6f8556cea4"
      },
      "source": [
        "from sklearn import metrics\n",
        "print('r2:', metrics.r2_score(y_testEnergy, y_pred))\n",
        "print('Root Mean Squared Error:', np.sqrt(metrics.mean_squared_error(y_testEnergy, y_pred)))"
      ],
      "execution_count": null,
      "outputs": [
        {
          "output_type": "stream",
          "name": "stdout",
          "text": [
            "r2: 0.9235721492433606\n",
            "Root Mean Squared Error: 0.3382194781854603\n"
          ]
        }
      ]
    },
    {
      "cell_type": "markdown",
      "metadata": {
        "id": "hPHlNZnooW5Q"
      },
      "source": [
        "The model behaves almost the same with the train set and the test set and it shows a very good r2 score."
      ]
    },
    {
      "cell_type": "markdown",
      "metadata": {
        "id": "X60O1Y15qE0R"
      },
      "source": [
        "___"
      ]
    },
    {
      "cell_type": "markdown",
      "metadata": {
        "id": "zK-t5z4C-M67"
      },
      "source": [
        "### **RandomForestRegressor**"
      ]
    },
    {
      "cell_type": "markdown",
      "metadata": {
        "id": "lvDijgsVRLsn"
      },
      "source": [
        "A random forest is a meta estimator that fits a number of classifying decision trees on various sub-samples of the dataset and uses averaging to improve the predictive accuracy and control over-fitting."
      ]
    },
    {
      "cell_type": "code",
      "metadata": {
        "id": "pLnsLAuF-MmU",
        "colab": {
          "base_uri": "https://localhost:8080/"
        },
        "outputId": "91101839-13ac-4907-8522-e5c81cab1496"
      },
      "source": [
        "from sklearn.ensemble import RandomForestRegressor\n",
        "\n",
        "forest_reg = RandomForestRegressor(n_estimators=100, n_jobs=-1)\n",
        "regF = pipeline(preprocessor, forest_reg)\n",
        "regF.fit(X_train, y_trainEnergy)\n",
        "\n",
        "train_score = regF.score(X_train, y_trainEnergy)\n",
        "print('Train score:', train_score)"
      ],
      "execution_count": null,
      "outputs": [
        {
          "output_type": "stream",
          "name": "stdout",
          "text": [
            "Train score: 0.9940284517165876\n"
          ]
        }
      ]
    },
    {
      "cell_type": "markdown",
      "metadata": {
        "id": "D-uovEisp6wg"
      },
      "source": [
        "The model shows a very high score of r2."
      ]
    },
    {
      "cell_type": "markdown",
      "metadata": {
        "id": "pOvrVxlQPVuV"
      },
      "source": [
        "**2. Evaluation Using Cross-Validation**"
      ]
    },
    {
      "cell_type": "code",
      "metadata": {
        "id": "PkOtFU4pPVuX"
      },
      "source": [
        "from sklearn.model_selection import cross_val_score\n",
        "from sklearn.metrics import r2_score\n",
        "\n",
        "scores = cross_val_score (regF, X_train, y_trainEnergy,\n",
        "                 cv=10, scoring = 'r2')"
      ],
      "execution_count": null,
      "outputs": []
    },
    {
      "cell_type": "code",
      "metadata": {
        "colab": {
          "base_uri": "https://localhost:8080/"
        },
        "id": "b59QKP9FPVuX",
        "outputId": "1f0af472-1f88-442a-b1aa-d77d9fd8c015"
      },
      "source": [
        "def display_scores(scores):\n",
        "  print(\"Scores:\", scores)\n",
        "  print(\"Mean:\", scores.mean())\n",
        "  print(\"Standard deviation:\", scores.std())\n",
        "\n",
        "display_scores(scores)"
      ],
      "execution_count": null,
      "outputs": [
        {
          "output_type": "stream",
          "name": "stdout",
          "text": [
            "Scores: [0.96201125 0.96386611 0.96569052 0.9412591  0.97350079 0.95892293\n",
            " 0.9558365  0.94614225 0.97499666 0.9551464 ]\n",
            "Mean: 0.9597372510036714\n",
            "Standard deviation: 0.010213546189175342\n"
          ]
        }
      ]
    },
    {
      "cell_type": "code",
      "metadata": {
        "colab": {
          "base_uri": "https://localhost:8080/"
        },
        "id": "zHzy1mrOPVuc",
        "outputId": "2711c56c-f273-42b2-b2e1-faedee903511"
      },
      "source": [
        "scores = cross_val_score(regF, X_train, y_trainEnergy, scoring=\"r2\", cv=10)\n",
        "pd.Series((scores)).describe()"
      ],
      "execution_count": null,
      "outputs": [
        {
          "output_type": "execute_result",
          "data": {
            "text/plain": [
              "count    10.000000\n",
              "mean      0.959543\n",
              "std       0.011046\n",
              "min       0.942200\n",
              "25%       0.955232\n",
              "50%       0.958764\n",
              "75%       0.964911\n",
              "max       0.976913\n",
              "dtype: float64"
            ]
          },
          "metadata": {},
          "execution_count": 174
        }
      ]
    },
    {
      "cell_type": "code",
      "metadata": {
        "colab": {
          "base_uri": "https://localhost:8080/"
        },
        "id": "Rz6QY1_QPVud",
        "outputId": "e128afb9-b7e5-48ff-a998-538865168500"
      },
      "source": [
        "scores = cross_val_score(regF, X_train, y_trainEnergy, scoring=\"neg_root_mean_squared_error\", cv=10)\n",
        "pd.Series((scores)).describe()"
      ],
      "execution_count": null,
      "outputs": [
        {
          "output_type": "execute_result",
          "data": {
            "text/plain": [
              "count    10.000000\n",
              "mean     -0.244956\n",
              "std       0.037753\n",
              "min      -0.314901\n",
              "25%      -0.261316\n",
              "50%      -0.240460\n",
              "75%      -0.226756\n",
              "max      -0.175558\n",
              "dtype: float64"
            ]
          },
          "metadata": {},
          "execution_count": 175
        }
      ]
    },
    {
      "cell_type": "markdown",
      "metadata": {
        "id": "lhP29SkfPVue"
      },
      "source": [
        "**3. Grid Search**"
      ]
    },
    {
      "cell_type": "code",
      "metadata": {
        "colab": {
          "base_uri": "https://localhost:8080/"
        },
        "id": "7fT879xzPVuf",
        "outputId": "2130a9dc-5c7f-4e9a-a393-41c0da7977c8"
      },
      "source": [
        "# To get the differents algorithm parameters\n",
        "regF.get_params().keys()"
      ],
      "execution_count": null,
      "outputs": [
        {
          "output_type": "execute_result",
          "data": {
            "text/plain": [
              "dict_keys(['memory', 'steps', 'verbose', 'preprocessor', 'regressor', 'preprocessor__n_jobs', 'preprocessor__remainder', 'preprocessor__sparse_threshold', 'preprocessor__transformer_weights', 'preprocessor__transformers', 'preprocessor__verbose', 'preprocessor__num', 'preprocessor__cat', 'preprocessor__num__memory', 'preprocessor__num__steps', 'preprocessor__num__verbose', 'preprocessor__num__imputer', 'preprocessor__num__robust_scaler', 'preprocessor__num__imputer__add_indicator', 'preprocessor__num__imputer__copy', 'preprocessor__num__imputer__fill_value', 'preprocessor__num__imputer__missing_values', 'preprocessor__num__imputer__strategy', 'preprocessor__num__imputer__verbose', 'preprocessor__num__robust_scaler__copy', 'preprocessor__num__robust_scaler__quantile_range', 'preprocessor__num__robust_scaler__with_centering', 'preprocessor__num__robust_scaler__with_scaling', 'preprocessor__cat__memory', 'preprocessor__cat__steps', 'preprocessor__cat__verbose', 'preprocessor__cat__encoder', 'preprocessor__cat__encoder__base', 'preprocessor__cat__encoder__cols', 'preprocessor__cat__encoder__drop_invariant', 'preprocessor__cat__encoder__handle_missing', 'preprocessor__cat__encoder__handle_unknown', 'preprocessor__cat__encoder__mapping', 'preprocessor__cat__encoder__return_df', 'preprocessor__cat__encoder__verbose', 'regressor__bootstrap', 'regressor__ccp_alpha', 'regressor__criterion', 'regressor__max_depth', 'regressor__max_features', 'regressor__max_leaf_nodes', 'regressor__max_samples', 'regressor__min_impurity_decrease', 'regressor__min_impurity_split', 'regressor__min_samples_leaf', 'regressor__min_samples_split', 'regressor__min_weight_fraction_leaf', 'regressor__n_estimators', 'regressor__n_jobs', 'regressor__oob_score', 'regressor__random_state', 'regressor__verbose', 'regressor__warm_start'])"
            ]
          },
          "metadata": {},
          "execution_count": 176
        }
      ]
    },
    {
      "cell_type": "code",
      "metadata": {
        "colab": {
          "base_uri": "https://localhost:8080/"
        },
        "id": "yQOouCjKPVuh",
        "outputId": "aed50ca9-8ecd-471f-8c7f-27be827de03d"
      },
      "source": [
        "from sklearn.model_selection import GridSearchCV\n",
        "param_grid = {\"regressor__bootstrap\": [True, False], \n",
        "              \"regressor__max_samples\":[1,10,100],\n",
        "             }\n",
        "\n",
        "forest_reg = RandomForestRegressor(n_estimators=100, n_jobs=-1)\n",
        "regF = pipeline(preprocessor, forest_reg)\n",
        "regF.fit(X_train, y_trainEnergy)\n",
        "\n",
        "\n",
        "grid_search = GridSearchCV(regF, param_grid, cv=5, \n",
        "              return_train_score=True, scoring='r2')\n",
        "grid_search.fit(X_train, y_trainEnergy)"
      ],
      "execution_count": null,
      "outputs": [
        {
          "output_type": "execute_result",
          "data": {
            "text/plain": [
              "GridSearchCV(cv=5, error_score=nan,\n",
              "             estimator=Pipeline(memory=None,\n",
              "                                steps=[('preprocessor',\n",
              "                                        ColumnTransformer(n_jobs=None,\n",
              "                                                          remainder='drop',\n",
              "                                                          sparse_threshold=0.3,\n",
              "                                                          transformer_weights=None,\n",
              "                                                          transformers=[('num',\n",
              "                                                                         Pipeline(memory=None,\n",
              "                                                                                  steps=[('imputer',\n",
              "                                                                                          SimpleImputer(add_indicator=False,\n",
              "                                                                                                        copy=True,\n",
              "                                                                                                        fill_value=None,\n",
              "                                                                                                        missing_values=nan,\n",
              "                                                                                                        strategy='mean',\n",
              "                                                                                                        verbose=0)),\n",
              "                                                                                         ('...\n",
              "                                                              min_samples_split=2,\n",
              "                                                              min_weight_fraction_leaf=0.0,\n",
              "                                                              n_estimators=100,\n",
              "                                                              n_jobs=-1,\n",
              "                                                              oob_score=False,\n",
              "                                                              random_state=None,\n",
              "                                                              verbose=0,\n",
              "                                                              warm_start=False))],\n",
              "                                verbose=False),\n",
              "             iid='deprecated', n_jobs=None,\n",
              "             param_grid={'regressor__bootstrap': [True, False],\n",
              "                         'regressor__max_samples': [1, 10, 100]},\n",
              "             pre_dispatch='2*n_jobs', refit=True, return_train_score=True,\n",
              "             scoring='r2', verbose=0)"
            ]
          },
          "metadata": {},
          "execution_count": 177
        }
      ]
    },
    {
      "cell_type": "code",
      "metadata": {
        "colab": {
          "base_uri": "https://localhost:8080/"
        },
        "id": "AxvmTO-zPVuh",
        "outputId": "d4477726-78c8-4a38-d10e-2367b16ddfb9"
      },
      "source": [
        "grid_search.best_score_"
      ],
      "execution_count": null,
      "outputs": [
        {
          "output_type": "execute_result",
          "data": {
            "text/plain": [
              "0.9309724541425572"
            ]
          },
          "metadata": {},
          "execution_count": 178
        }
      ]
    },
    {
      "cell_type": "code",
      "metadata": {
        "colab": {
          "base_uri": "https://localhost:8080/"
        },
        "id": "2vsGvlKiI1oL",
        "outputId": "016768f1-65ed-4180-dee8-8e965ed43b87"
      },
      "source": [
        "grid_search.best_params_"
      ],
      "execution_count": null,
      "outputs": [
        {
          "output_type": "execute_result",
          "data": {
            "text/plain": [
              "{'regressor__bootstrap': True, 'regressor__max_samples': 100}"
            ]
          },
          "metadata": {},
          "execution_count": 179
        }
      ]
    },
    {
      "cell_type": "code",
      "metadata": {
        "id": "t4BdfwanmdUb"
      },
      "source": [
        "modelF = grid_search.best_estimator_"
      ],
      "execution_count": null,
      "outputs": []
    },
    {
      "cell_type": "markdown",
      "metadata": {
        "id": "QGLJeck5OWxF"
      },
      "source": [
        "**4. Evaluation Using learning curves**"
      ]
    },
    {
      "cell_type": "code",
      "metadata": {
        "colab": {
          "base_uri": "https://localhost:8080/",
          "height": 299
        },
        "id": "m9Ycn7ROOWxG",
        "outputId": "e0af4c73-be02-4a33-c875-a68f769f6b7d"
      },
      "source": [
        "from sklearn.model_selection import learning_curve\n",
        "\n",
        "N, train_score, val_score = learning_curve(regF, X_train, y_trainEnergy, train_sizes = np.linspace(0.2, 1.0, 10), cv=5)\n",
        "print(N)\n",
        "\n",
        "plt.plot(N, train_score.mean(axis=1), label = 'train')\n",
        "plt.plot(N, val_score.mean(axis=1), label = 'validation')\n",
        "\n",
        "plt.legend()"
      ],
      "execution_count": null,
      "outputs": [
        {
          "output_type": "stream",
          "name": "stdout",
          "text": [
            "[100 145 190 235 280 324 369 414 459 504]\n"
          ]
        },
        {
          "output_type": "execute_result",
          "data": {
            "text/plain": [
              "<matplotlib.legend.Legend at 0x7f07e889c510>"
            ]
          },
          "metadata": {},
          "execution_count": 181
        },
        {
          "output_type": "display_data",
          "data": {
            "image/png": "[encoded data removed]",
            "text/plain": [
              "<Figure size 432x288 with 1 Axes>"
            ]
          },
          "metadata": {
            "needs_background": "light"
          }
        }
      ]
    },
    {
      "cell_type": "markdown",
      "metadata": {
        "id": "lMwOJ0-qmva6"
      },
      "source": [
        "The training curve increases according to the data until an r2 score of 99%. While the validation curve starts at an r2 score of 90% and increases with the data. The large gap between the two curves indicates a large variance. "
      ]
    },
    {
      "cell_type": "markdown",
      "metadata": {
        "id": "DyZUOIuz2HaG"
      },
      "source": [
        "**5. Evaluating on the Test Set**"
      ]
    },
    {
      "cell_type": "code",
      "metadata": {
        "id": "cGM0c5Xf2HaG"
      },
      "source": [
        "y_pred = regF.predict(X_test)"
      ],
      "execution_count": null,
      "outputs": []
    },
    {
      "cell_type": "code",
      "metadata": {
        "colab": {
          "base_uri": "https://localhost:8080/"
        },
        "id": "nHkU67lD2HaH",
        "outputId": "7a35a3ca-37a4-4a93-c42d-1717bc0b723f"
      },
      "source": [
        "from sklearn import metrics\n",
        "print('r2:', metrics.r2_score(y_testEnergy, y_pred))\n",
        "print('Root Mean Squared Error:', np.sqrt(metrics.mean_squared_error(y_testEnergy, y_pred)))"
      ],
      "execution_count": null,
      "outputs": [
        {
          "output_type": "stream",
          "name": "stdout",
          "text": [
            "r2: 0.9707034792815779\n",
            "Root Mean Squared Error: 0.209401994945809\n"
          ]
        }
      ]
    },
    {
      "cell_type": "markdown",
      "metadata": {
        "id": "HSg7XeoW2qq5"
      },
      "source": [
        "The model behaves almost the same with the train set and the test set and it shows a very good r2 score."
      ]
    },
    {
      "cell_type": "markdown",
      "metadata": {
        "id": "TD5KkfAr2rMF"
      },
      "source": [
        "___"
      ]
    },
    {
      "cell_type": "markdown",
      "metadata": {
        "id": "B4jbdINFBocD"
      },
      "source": [
        "## **TotalGHGEmissions**"
      ]
    },
    {
      "cell_type": "markdown",
      "metadata": {
        "id": "M1w_o5osBocD"
      },
      "source": [
        "### **Linear regression**"
      ]
    },
    {
      "cell_type": "markdown",
      "metadata": {
        "id": "8t2uh-4NBocE"
      },
      "source": [
        "**1. Training and Evaluating on the Training Set**"
      ]
    },
    {
      "cell_type": "code",
      "metadata": {
        "colab": {
          "base_uri": "https://localhost:8080/"
        },
        "id": "3J2LoskWBocE",
        "outputId": "14d33b64-bbc3-4097-aabb-30598b14c3d6"
      },
      "source": [
        "from sklearn.linear_model import LinearRegression\n",
        "\n",
        "lin_reg = LinearRegression()\n",
        "regR = pipeline(preprocessor, lin_reg)\n",
        "regR.fit(X_train, y_trainEmissions)\n",
        "\n",
        "train_score = regR.score(X_train, y_trainEmissions)\n",
        "print('Train score:', train_score)"
      ],
      "execution_count": null,
      "outputs": [
        {
          "output_type": "stream",
          "name": "stdout",
          "text": [
            "Train score: 0.7287979724225967\n"
          ]
        }
      ]
    },
    {
      "cell_type": "markdown",
      "metadata": {
        "id": "a--gNOrkBocE"
      },
      "source": [
        "We get a score of 72% OF R2 on the training data, which is not bad."
      ]
    },
    {
      "cell_type": "markdown",
      "metadata": {
        "id": "WqsIGywWBocF"
      },
      "source": [
        "**2. Evaluation Using Cross-Validation**"
      ]
    },
    {
      "cell_type": "markdown",
      "metadata": {
        "id": "PDMP4FVyBocF"
      },
      "source": [
        "One way to evaluate the Linear Regression model would be to use the train_test_split function to split the training set into a smaller training set and a validation set, then train the models against the smaller training set and evaluate them against the validation set."
      ]
    },
    {
      "cell_type": "markdown",
      "metadata": {
        "id": "5L_2bxYsBocF"
      },
      "source": [
        "First of all, we will use the r2. The r2_score function computes the coefficient of determination, usually denoted as R².\n",
        "\n",
        "It represents the proportion of variance (of y) that has been explained by the independent variables in the model. It provides an indication of goodness of fit and therefore a measure of how well unseen samples are likely to be predicted by the model, through the proportion of explained variance. Best possible score is 1.0"
      ]
    },
    {
      "cell_type": "code",
      "metadata": {
        "id": "lMt4R3YPBocG"
      },
      "source": [
        "from sklearn.model_selection import cross_val_score\n",
        "from sklearn.metrics import r2_score\n",
        "\n",
        "scores = cross_val_score (regR, X_train, y_trainEmissions,\n",
        "                 cv=10, scoring = 'r2')"
      ],
      "execution_count": null,
      "outputs": []
    },
    {
      "cell_type": "code",
      "metadata": {
        "colab": {
          "base_uri": "https://localhost:8080/"
        },
        "id": "aVtYQfO_BocH",
        "outputId": "d5a0ee1f-dd08-4802-cbe3-c136aae774b4"
      },
      "source": [
        "def display_scores(scores):\n",
        "  print(\"Scores:\", scores)\n",
        "  print(\"Mean:\", scores.mean())\n",
        "  print(\"Standard deviation:\", scores.std())\n",
        "\n",
        "display_scores(scores)"
      ],
      "execution_count": null,
      "outputs": [
        {
          "output_type": "stream",
          "name": "stdout",
          "text": [
            "Scores: [0.60242099 0.6488136  0.62507286 0.64850279 0.58046152 0.7443795\n",
            " 0.70108315 0.63756438 0.70428268 0.77417275]\n",
            "Mean: 0.6666754222515558\n",
            "Standard deviation: 0.05914455339894071\n"
          ]
        }
      ]
    },
    {
      "cell_type": "code",
      "metadata": {
        "colab": {
          "base_uri": "https://localhost:8080/"
        },
        "id": "6lOdotyABocH",
        "outputId": "f5a1924b-3b87-4cbb-a836-212f061f8ce4"
      },
      "source": [
        "scores = cross_val_score(regR, X_train, y_trainEmissions, scoring=\"r2\", cv=10)\n",
        "pd.Series((scores)).describe()"
      ],
      "execution_count": null,
      "outputs": [
        {
          "output_type": "execute_result",
          "data": {
            "text/plain": [
              "count    10.000000\n",
              "mean      0.666675\n",
              "std       0.062344\n",
              "min       0.580462\n",
              "25%       0.628196\n",
              "50%       0.648658\n",
              "75%       0.703483\n",
              "max       0.774173\n",
              "dtype: float64"
            ]
          },
          "metadata": {},
          "execution_count": 187
        }
      ]
    },
    {
      "cell_type": "code",
      "metadata": {
        "colab": {
          "base_uri": "https://localhost:8080/"
        },
        "id": "vtv-0pADBocI",
        "outputId": "3cd87ac3-786c-4578-d96c-3560018399b4"
      },
      "source": [
        "scores = cross_val_score(regR, X_train, y_trainEmissions, scoring=\"neg_root_mean_squared_error\", cv=10)\n",
        "pd.Series((scores)).describe()"
      ],
      "execution_count": null,
      "outputs": [
        {
          "output_type": "execute_result",
          "data": {
            "text/plain": [
              "count    10.000000\n",
              "mean     -0.760573\n",
              "std       0.102881\n",
              "min      -0.887301\n",
              "25%      -0.843067\n",
              "50%      -0.766879\n",
              "75%      -0.692896\n",
              "max      -0.609366\n",
              "dtype: float64"
            ]
          },
          "metadata": {},
          "execution_count": 188
        }
      ]
    },
    {
      "cell_type": "markdown",
      "metadata": {
        "id": "hRFKp0tKBocJ"
      },
      "source": [
        "**3. Grid Search**"
      ]
    },
    {
      "cell_type": "code",
      "metadata": {
        "colab": {
          "base_uri": "https://localhost:8080/"
        },
        "id": "L6dxg_gJBocK",
        "outputId": "ef328876-9f93-402e-8d46-c455f6b4c3dd"
      },
      "source": [
        "from sklearn.model_selection import GridSearchCV\n",
        "param_grid = {\"preprocessor__n_jobs\":[True,False],\n",
        "             \"regressor__fit_intercept\":[True, False]}\n",
        "\n",
        "\n",
        "lin_reg = LinearRegression()\n",
        "regR = pipeline(preprocessor, lin_reg)\n",
        "regR.fit(X_train, y_trainEmissions)\n",
        "\n",
        "grid_search = GridSearchCV(regR, param_grid, cv=5, \n",
        "              return_train_score=True, scoring='r2')\n",
        "grid_search.fit(X_train, y_trainEmissions)"
      ],
      "execution_count": null,
      "outputs": [
        {
          "output_type": "execute_result",
          "data": {
            "text/plain": [
              "GridSearchCV(cv=5, error_score=nan,\n",
              "             estimator=Pipeline(memory=None,\n",
              "                                steps=[('preprocessor',\n",
              "                                        ColumnTransformer(n_jobs=None,\n",
              "                                                          remainder='drop',\n",
              "                                                          sparse_threshold=0.3,\n",
              "                                                          transformer_weights=None,\n",
              "                                                          transformers=[('num',\n",
              "                                                                         Pipeline(memory=None,\n",
              "                                                                                  steps=[('imputer',\n",
              "                                                                                          SimpleImputer(add_indicator=False,\n",
              "                                                                                                        copy=True,\n",
              "                                                                                                        fill_value=None,\n",
              "                                                                                                        missing_values=nan,\n",
              "                                                                                                        strategy='mean',\n",
              "                                                                                                        verbose=0)),\n",
              "                                                                                         ('...\n",
              "       'ListOfAllPropertyUseTypes', 'LargestPropertyUseType'],\n",
              "      dtype='object'))],\n",
              "                                                          verbose=False)),\n",
              "                                       ('regressor',\n",
              "                                        LinearRegression(copy_X=True,\n",
              "                                                         fit_intercept=True,\n",
              "                                                         n_jobs=None,\n",
              "                                                         normalize=False))],\n",
              "                                verbose=False),\n",
              "             iid='deprecated', n_jobs=None,\n",
              "             param_grid={'preprocessor__n_jobs': [True, False],\n",
              "                         'regressor__fit_intercept': [True, False]},\n",
              "             pre_dispatch='2*n_jobs', refit=True, return_train_score=True,\n",
              "             scoring='r2', verbose=0)"
            ]
          },
          "metadata": {},
          "execution_count": 189
        }
      ]
    },
    {
      "cell_type": "code",
      "metadata": {
        "colab": {
          "base_uri": "https://localhost:8080/"
        },
        "id": "xhPo0JP_BocK",
        "outputId": "6a8d2ca8-84ad-4870-860f-20bd2edbcc02"
      },
      "source": [
        "grid_search.best_score_"
      ],
      "execution_count": null,
      "outputs": [
        {
          "output_type": "execute_result",
          "data": {
            "text/plain": [
              "0.6521999819346981"
            ]
          },
          "metadata": {},
          "execution_count": 190
        }
      ]
    },
    {
      "cell_type": "code",
      "metadata": {
        "colab": {
          "base_uri": "https://localhost:8080/"
        },
        "id": "Im7VUgODBocK",
        "outputId": "e05886b8-1206-496b-f5df-f27eabf90ea4"
      },
      "source": [
        "grid_search.best_params_"
      ],
      "execution_count": null,
      "outputs": [
        {
          "output_type": "execute_result",
          "data": {
            "text/plain": [
              "{'preprocessor__n_jobs': True, 'regressor__fit_intercept': True}"
            ]
          },
          "metadata": {},
          "execution_count": 191
        }
      ]
    },
    {
      "cell_type": "markdown",
      "metadata": {
        "id": "BewO4r9rBocL"
      },
      "source": [
        "**4. Evaluation Using learning curves**"
      ]
    },
    {
      "cell_type": "code",
      "metadata": {
        "colab": {
          "base_uri": "https://localhost:8080/",
          "height": 315
        },
        "id": "OE2dHbHaBocL",
        "outputId": "042dbd01-6d51-4fe5-b124-16d2f53df57a"
      },
      "source": [
        "from sklearn.model_selection import learning_curve\n",
        "\n",
        "N, train_score, val_score = learning_curve(regR, X_train, y_trainEmissions, train_sizes = np.linspace(0.2, 1.0, 10), cv=5)\n",
        "print(N)\n",
        "\n",
        "plt.plot(N, train_score.mean(axis=1), label = 'train')\n",
        "plt.plot(N, val_score.mean(axis=1), label = 'validation')\n",
        "plt.plot(xlabel='train size', ylabel='score')\n",
        "plt.legend()\n",
        "plt.title('learning_curves')"
      ],
      "execution_count": null,
      "outputs": [
        {
          "output_type": "stream",
          "name": "stdout",
          "text": [
            "[100 145 190 235 280 324 369 414 459 504]\n"
          ]
        },
        {
          "output_type": "execute_result",
          "data": {
            "text/plain": [
              "Text(0.5, 1.0, 'learning_curves')"
            ]
          },
          "metadata": {},
          "execution_count": 192
        },
        {
          "output_type": "display_data",
          "data": {
            "image/png": "[encoded data removed]",
            "text/plain": [
              "<Figure size 432x288 with 1 Axes>"
            ]
          },
          "metadata": {
            "needs_background": "light"
          }
        }
      ]
    },
    {
      "cell_type": "markdown",
      "metadata": {
        "id": "8KM-WsLZBocM"
      },
      "source": [
        "The training curve decreases according to the data until an r2 score of 72%. While the validation curve starts at an r2 score of 50% and increases with the data. The large gap between the two curves indicates a large variance."
      ]
    },
    {
      "cell_type": "markdown",
      "metadata": {
        "id": "Ot8OtYQwBocM"
      },
      "source": [
        "**5. Evaluating on the Test Set**"
      ]
    },
    {
      "cell_type": "code",
      "metadata": {
        "id": "XkQKgK9qBocM"
      },
      "source": [
        "y_pred = regR.predict(X_test)"
      ],
      "execution_count": null,
      "outputs": []
    },
    {
      "cell_type": "code",
      "metadata": {
        "colab": {
          "base_uri": "https://localhost:8080/"
        },
        "id": "w9s_jEMwBocM",
        "outputId": "711f41b7-51ec-4cde-ad19-a328ad1b49e1"
      },
      "source": [
        "from sklearn import metrics\n",
        "print('r2:', metrics.r2_score(y_testEmissions, y_pred))\n",
        "print('Root Mean Squared Error:', np.sqrt(metrics.mean_squared_error(y_testEmissions, y_pred)))"
      ],
      "execution_count": null,
      "outputs": [
        {
          "output_type": "stream",
          "name": "stdout",
          "text": [
            "r2: 0.6241888068994602\n",
            "Root Mean Squared Error: 0.7817601065321934\n"
          ]
        }
      ]
    },
    {
      "cell_type": "markdown",
      "metadata": {
        "id": "iFTu684EBocM"
      },
      "source": [
        "We notice that the model generalizes in same way with the test set and the train set."
      ]
    },
    {
      "cell_type": "markdown",
      "metadata": {
        "id": "dV3VjN6TBocN"
      },
      "source": [
        "___"
      ]
    },
    {
      "cell_type": "markdown",
      "metadata": {
        "id": "q7XdtbcMBocN"
      },
      "source": [
        "### **ElasticNet**"
      ]
    },
    {
      "cell_type": "markdown",
      "metadata": {
        "id": "YjmeZnkqBocN"
      },
      "source": [
        "It is almost always better to have at least some regularization. we think only a few features are really useful, we might prefer Elastic Net as it tend to reduce the weight of unnecessary features up to zero as we have discussed. Elastic-net is useful when there are multiple features that are correlated with one another."
      ]
    },
    {
      "cell_type": "markdown",
      "metadata": {
        "id": "N0e3kKJuBocN"
      },
      "source": [
        "**1. Training and Evaluating on the Training Set**"
      ]
    },
    {
      "cell_type": "code",
      "metadata": {
        "colab": {
          "base_uri": "https://localhost:8080/"
        },
        "id": "d6ewanh9BocN",
        "outputId": "bdc896af-52f0-4286-ec11-a674358a172d"
      },
      "source": [
        "from sklearn.linear_model import ElasticNet\n",
        "\n",
        "elastic_net = ElasticNet(alpha=0.1, l1_ratio=0.5)\n",
        "regE = pipeline(preprocessor, elastic_net)\n",
        "regE.fit(X_train, y_trainEmissions)\n",
        "print('Train score:', train_score.mean())"
      ],
      "execution_count": null,
      "outputs": [
        {
          "output_type": "stream",
          "name": "stdout",
          "text": [
            "Train score: 0.737126194633838\n"
          ]
        }
      ]
    },
    {
      "cell_type": "markdown",
      "metadata": {
        "id": "OFOHtJb5BocO"
      },
      "source": [
        "This is a good score."
      ]
    },
    {
      "cell_type": "markdown",
      "metadata": {
        "id": "Raa_QvW-BocO"
      },
      "source": [
        "**2. Evaluation Using Cross-Validation**"
      ]
    },
    {
      "cell_type": "code",
      "metadata": {
        "id": "MAKqgSq6BocO"
      },
      "source": [
        "from sklearn.model_selection import cross_val_score\n",
        "from sklearn.metrics import r2_score\n",
        "\n",
        "scores = cross_val_score (regE, X_train, y_trainEmissions,\n",
        "                 cv=10, scoring = 'r2')"
      ],
      "execution_count": null,
      "outputs": []
    },
    {
      "cell_type": "code",
      "metadata": {
        "colab": {
          "base_uri": "https://localhost:8080/"
        },
        "id": "rhoB3WL0BocO",
        "outputId": "a3f46c5c-7459-4a91-edd3-72a529363100"
      },
      "source": [
        "def display_scores(scores):\n",
        "  print(\"Scores:\", scores)\n",
        "  print(\"Mean:\", scores.mean())\n",
        "  print(\"Standard deviation:\", scores.std())\n",
        "\n",
        "display_scores(scores)"
      ],
      "execution_count": null,
      "outputs": [
        {
          "output_type": "stream",
          "name": "stdout",
          "text": [
            "Scores: [0.62185315 0.62588344 0.62905496 0.62251188 0.59031105 0.72791728\n",
            " 0.66631211 0.64765642 0.72255252 0.72322672]\n",
            "Mean: 0.6577279527195945\n",
            "Standard deviation: 0.047436698248054944\n"
          ]
        }
      ]
    },
    {
      "cell_type": "code",
      "metadata": {
        "colab": {
          "base_uri": "https://localhost:8080/"
        },
        "id": "YPGbYlt4BocP",
        "outputId": "cf6f46d0-eb0f-47a8-e87f-6a06d0338db7"
      },
      "source": [
        "scores = cross_val_score(regE, X_train, y_trainEmissions, scoring=\"r2\", cv=10)\n",
        "pd.Series((scores)).describe()"
      ],
      "execution_count": null,
      "outputs": [
        {
          "output_type": "execute_result",
          "data": {
            "text/plain": [
              "count    10.000000\n",
              "mean      0.657728\n",
              "std       0.050003\n",
              "min       0.590311\n",
              "25%       0.623355\n",
              "50%       0.638356\n",
              "75%       0.708492\n",
              "max       0.727917\n",
              "dtype: float64"
            ]
          },
          "metadata": {},
          "execution_count": 198
        }
      ]
    },
    {
      "cell_type": "code",
      "metadata": {
        "colab": {
          "base_uri": "https://localhost:8080/"
        },
        "id": "Ur65hlNUBocP",
        "outputId": "af1527c8-4326-45cd-828f-93bb7b307414"
      },
      "source": [
        "scores = cross_val_score(regE, X_train, y_trainEmissions, scoring=\"neg_root_mean_squared_error\", cv=10)\n",
        "pd.Series((scores)).describe()"
      ],
      "execution_count": null,
      "outputs": [
        {
          "output_type": "execute_result",
          "data": {
            "text/plain": [
              "count    10.000000\n",
              "mean     -0.771615\n",
              "std       0.090556\n",
              "min      -0.915810\n",
              "25%      -0.829030\n",
              "50%      -0.777120\n",
              "75%      -0.688482\n",
              "max      -0.654725\n",
              "dtype: float64"
            ]
          },
          "metadata": {},
          "execution_count": 199
        }
      ]
    },
    {
      "cell_type": "markdown",
      "metadata": {
        "id": "O0LDkCD3BocP"
      },
      "source": [
        "**3. Grid Search**"
      ]
    },
    {
      "cell_type": "code",
      "metadata": {
        "colab": {
          "base_uri": "https://localhost:8080/"
        },
        "id": "PyA6utPmBocQ",
        "outputId": "3fa3331d-5cb1-4501-85ad-fd683cb0623e"
      },
      "source": [
        "from sklearn.model_selection import GridSearchCV\n",
        "param_grid = {'regressor__l1_ratio' :np.arange(0.0, 1.0, 0.1) , \n",
        "              'regressor__alpha' :[0.0001, 0.001, 0.01, 0.1, 1, 10],\n",
        "              'regressor__fit_intercept':[True, False]\n",
        "             }\n",
        "             \n",
        "elastic_net = ElasticNet(alpha=0.1, l1_ratio=0.5)\n",
        "regE = pipeline(preprocessor, elastic_net)\n",
        "regE.fit(X_train, y_trainEmissions)\n",
        "\n",
        "grid_search = GridSearchCV(regE, param_grid, cv=5, \n",
        "              return_train_score=True, scoring='r2')\n",
        "grid_search.fit(X_train, y_trainEmissions)"
      ],
      "execution_count": null,
      "outputs": [
        {
          "output_type": "execute_result",
          "data": {
            "text/plain": [
              "GridSearchCV(cv=5, error_score=nan,\n",
              "             estimator=Pipeline(memory=None,\n",
              "                                steps=[('preprocessor',\n",
              "                                        ColumnTransformer(n_jobs=None,\n",
              "                                                          remainder='drop',\n",
              "                                                          sparse_threshold=0.3,\n",
              "                                                          transformer_weights=None,\n",
              "                                                          transformers=[('num',\n",
              "                                                                         Pipeline(memory=None,\n",
              "                                                                                  steps=[('imputer',\n",
              "                                                                                          SimpleImputer(add_indicator=False,\n",
              "                                                                                                        copy=True,\n",
              "                                                                                                        fill_value=None,\n",
              "                                                                                                        missing_values=nan,\n",
              "                                                                                                        strategy='mean',\n",
              "                                                                                                        verbose=0)),\n",
              "                                                                                         ('...\n",
              "                                                   random_state=None,\n",
              "                                                   selection='cyclic',\n",
              "                                                   tol=0.0001,\n",
              "                                                   warm_start=False))],\n",
              "                                verbose=False),\n",
              "             iid='deprecated', n_jobs=None,\n",
              "             param_grid={'regressor__alpha': [0.0001, 0.001, 0.01, 0.1, 1, 10],\n",
              "                         'regressor__fit_intercept': [True, False],\n",
              "                         'regressor__l1_ratio': array([0. , 0.1, 0.2, 0.3, 0.4, 0.5, 0.6, 0.7, 0.8, 0.9])},\n",
              "             pre_dispatch='2*n_jobs', refit=True, return_train_score=True,\n",
              "             scoring='r2', verbose=0)"
            ]
          },
          "metadata": {},
          "execution_count": 200
        }
      ]
    },
    {
      "cell_type": "code",
      "metadata": {
        "colab": {
          "base_uri": "https://localhost:8080/"
        },
        "id": "Jz5JiZKcBocQ",
        "outputId": "fcfc494d-3704-4306-eb4a-9a1b1b864081"
      },
      "source": [
        "grid_search.best_score_"
      ],
      "execution_count": null,
      "outputs": [
        {
          "output_type": "execute_result",
          "data": {
            "text/plain": [
              "0.6744852573018156"
            ]
          },
          "metadata": {},
          "execution_count": 201
        }
      ]
    },
    {
      "cell_type": "code",
      "metadata": {
        "colab": {
          "base_uri": "https://localhost:8080/"
        },
        "id": "l1WOzmk9BocR",
        "outputId": "0b83b1fa-c965-45fc-de71-a55a395db4a3"
      },
      "source": [
        "grid_search.best_params_"
      ],
      "execution_count": null,
      "outputs": [
        {
          "output_type": "execute_result",
          "data": {
            "text/plain": [
              "{'regressor__alpha': 0.1,\n",
              " 'regressor__fit_intercept': True,\n",
              " 'regressor__l1_ratio': 0.0}"
            ]
          },
          "metadata": {},
          "execution_count": 202
        }
      ]
    },
    {
      "cell_type": "code",
      "metadata": {
        "id": "KQ25U4hPBocR"
      },
      "source": [
        "modelE = grid_search.best_estimator_"
      ],
      "execution_count": null,
      "outputs": []
    },
    {
      "cell_type": "markdown",
      "metadata": {
        "id": "QbhQKNh-BocR"
      },
      "source": [
        "**4. Evaluation Using learning curves**"
      ]
    },
    {
      "cell_type": "markdown",
      "metadata": {
        "id": "cT6r75OSBocR"
      },
      "source": [
        "The learning curves show the evolution of the model's performance as a function of the quantity of data provided to it. Typically the more data the machine has to train, the better its performance. But when you reach the ceiling it is not useful to give more data."
      ]
    },
    {
      "cell_type": "code",
      "metadata": {
        "colab": {
          "base_uri": "https://localhost:8080/",
          "height": 315
        },
        "id": "JvbPmCgzBocS",
        "outputId": "eb14a9f8-d35f-4cf0-9d31-c8be41675d7d"
      },
      "source": [
        "from sklearn.model_selection import learning_curve\n",
        "\n",
        "N, train_score, val_score = learning_curve(regE, X_train, y_trainEmissions, train_sizes = np.linspace(0.2, 1.0, 10), cv=5)\n",
        "print(N)\n",
        "\n",
        "plt.plot(N, train_score.mean(axis=1), label = 'train')\n",
        "plt.plot(N, val_score.mean(axis=1), label = 'validation')\n",
        "plt.plot(xlabel='train size', ylabel='score')\n",
        "plt.legend()\n",
        "plt.title('learning_curves')"
      ],
      "execution_count": null,
      "outputs": [
        {
          "output_type": "stream",
          "name": "stdout",
          "text": [
            "[100 145 190 235 280 324 369 414 459 504]\n"
          ]
        },
        {
          "output_type": "execute_result",
          "data": {
            "text/plain": [
              "Text(0.5, 1.0, 'learning_curves')"
            ]
          },
          "metadata": {},
          "execution_count": 204
        },
        {
          "output_type": "display_data",
          "data": {
            "image/png": "[encoded data removed]",
            "text/plain": [
              "<Figure size 432x288 with 1 Axes>"
            ]
          },
          "metadata": {
            "needs_background": "light"
          }
        }
      ]
    },
    {
      "cell_type": "markdown",
      "metadata": {
        "id": "eEJTRVo2BocS"
      },
      "source": [
        "The gap between the two curves still important."
      ]
    },
    {
      "cell_type": "markdown",
      "metadata": {
        "id": "6rMxRQwOBocS"
      },
      "source": [
        "**5. Evaluating on the Test Set**"
      ]
    },
    {
      "cell_type": "code",
      "metadata": {
        "id": "1ur0BzuwBocS"
      },
      "source": [
        "y_pred = regE.predict(X_test)"
      ],
      "execution_count": null,
      "outputs": []
    },
    {
      "cell_type": "code",
      "metadata": {
        "colab": {
          "base_uri": "https://localhost:8080/"
        },
        "id": "UG51fXT0BocS",
        "outputId": "312804c4-3422-4af6-cbd7-4f1208a39ba5"
      },
      "source": [
        "from sklearn import metrics\n",
        "print('r2:', metrics.r2_score(y_testEmissions, y_pred))\n",
        "print('Root Mean Squared Error:', np.sqrt(metrics.mean_squared_error(y_testEmissions, y_pred)))"
      ],
      "execution_count": null,
      "outputs": [
        {
          "output_type": "stream",
          "name": "stdout",
          "text": [
            "r2: 0.604177799470567\n",
            "Root Mean Squared Error: 0.8023035677428635\n"
          ]
        }
      ]
    },
    {
      "cell_type": "markdown",
      "metadata": {
        "id": "_UX0hl8YBocT"
      },
      "source": [
        "the model does not generalize well with the test set."
      ]
    },
    {
      "cell_type": "markdown",
      "metadata": {
        "id": "dQp4XALKBocT"
      },
      "source": [
        "___"
      ]
    },
    {
      "cell_type": "markdown",
      "metadata": {
        "id": "mG0SXoFwBocT"
      },
      "source": [
        "### **Support Vector Regression : SVR** "
      ]
    },
    {
      "cell_type": "markdown",
      "metadata": {
        "id": "cxuo_oYUBocT"
      },
      "source": [
        "Support Vector Regression is a supervised learning algorithm that is used to predict discrete values. Support Vector Regression uses the same principle as the SVMs. The basic idea behind SVR is to find the best fit line. In SVR, the best fit line is the hyperplane that has the maximum number of points."
      ]
    },
    {
      "cell_type": "markdown",
      "metadata": {
        "id": "W8_yx2Q3BocT"
      },
      "source": [
        "**1. Training and Evaluating on the Training Set**"
      ]
    },
    {
      "cell_type": "code",
      "metadata": {
        "colab": {
          "base_uri": "https://localhost:8080/"
        },
        "id": "Wpv_3O2XBocT",
        "outputId": "1f7708fa-6ce5-4f3f-d5c2-41c3ad6cd0f7"
      },
      "source": [
        "from sklearn.svm import SVR\n",
        "\n",
        "svr = SVR()\n",
        "regS = pipeline(preprocessor, svr)\n",
        "regS.fit(X_train, y_trainEmissions)\n",
        "print('Train score EnergyEmissions:', train_score.mean())"
      ],
      "execution_count": null,
      "outputs": [
        {
          "output_type": "stream",
          "name": "stdout",
          "text": [
            "Train score EnergyEmissions: 0.669660066250504\n"
          ]
        }
      ]
    },
    {
      "cell_type": "markdown",
      "metadata": {
        "id": "eso0a8R_BocU"
      },
      "source": [
        "**2. Evaluation Using Cross-Validation**"
      ]
    },
    {
      "cell_type": "code",
      "metadata": {
        "id": "w36VzxAnBocU"
      },
      "source": [
        "from sklearn.model_selection import cross_val_score\n",
        "from sklearn.metrics import r2_score\n",
        "\n",
        "scores = cross_val_score (regS, X_train, y_trainEmissions,\n",
        "                 cv=10, scoring = 'r2')"
      ],
      "execution_count": null,
      "outputs": []
    },
    {
      "cell_type": "code",
      "metadata": {
        "colab": {
          "base_uri": "https://localhost:8080/"
        },
        "id": "XyY92zO1BocU",
        "outputId": "91f445d1-060f-44cd-a4eb-bee47a7acd93"
      },
      "source": [
        "scores = cross_val_score(regS, X_train, y_trainEmissions, scoring=\"r2\", cv=10)\n",
        "pd.Series((scores)).describe()"
      ],
      "execution_count": null,
      "outputs": [
        {
          "output_type": "execute_result",
          "data": {
            "text/plain": [
              "count    10.000000\n",
              "mean      0.850399\n",
              "std       0.031241\n",
              "min       0.799744\n",
              "25%       0.829326\n",
              "50%       0.850138\n",
              "75%       0.879439\n",
              "max       0.886049\n",
              "dtype: float64"
            ]
          },
          "metadata": {},
          "execution_count": 209
        }
      ]
    },
    {
      "cell_type": "markdown",
      "metadata": {
        "id": "I0N8bpLIBocV"
      },
      "source": [
        "**3. Grid Search**"
      ]
    },
    {
      "cell_type": "code",
      "metadata": {
        "colab": {
          "base_uri": "https://localhost:8080/"
        },
        "id": "tVHB2lXVBocV",
        "outputId": "19534e05-f223-4b72-ce52-4b75ae68b0c3"
      },
      "source": [
        "from sklearn.model_selection import GridSearchCV\n",
        "param_grid = {'regressor__epsilon':(0.0, 1.0, 0.1) , \n",
        "              'regressor__kernel':('linear', 'poly', 'rbf')\n",
        "             }\n",
        "             \n",
        "svr = SVR()\n",
        "regS = pipeline(preprocessor, svr)\n",
        "regS.fit(X_train, y_trainEmissions)\n",
        "\n",
        "grid_search = GridSearchCV(regS, param_grid, cv=5, \n",
        "              return_train_score=True, scoring='r2')\n",
        "grid_search.fit(X_train, y_trainEmissions)"
      ],
      "execution_count": null,
      "outputs": [
        {
          "output_type": "execute_result",
          "data": {
            "text/plain": [
              "GridSearchCV(cv=5, error_score=nan,\n",
              "             estimator=Pipeline(memory=None,\n",
              "                                steps=[('preprocessor',\n",
              "                                        ColumnTransformer(n_jobs=None,\n",
              "                                                          remainder='drop',\n",
              "                                                          sparse_threshold=0.3,\n",
              "                                                          transformer_weights=None,\n",
              "                                                          transformers=[('num',\n",
              "                                                                         Pipeline(memory=None,\n",
              "                                                                                  steps=[('imputer',\n",
              "                                                                                          SimpleImputer(add_indicator=False,\n",
              "                                                                                                        copy=True,\n",
              "                                                                                                        fill_value=None,\n",
              "                                                                                                        missing_values=nan,\n",
              "                                                                                                        strategy='mean',\n",
              "                                                                                                        verbose=0)),\n",
              "                                                                                         ('...\n",
              "                                        SVR(C=1.0, cache_size=200, coef0=0.0,\n",
              "                                            degree=3, epsilon=0.1,\n",
              "                                            gamma='scale', kernel='rbf',\n",
              "                                            max_iter=-1, shrinking=True,\n",
              "                                            tol=0.001, verbose=False))],\n",
              "                                verbose=False),\n",
              "             iid='deprecated', n_jobs=None,\n",
              "             param_grid={'regressor__epsilon': (0.0, 1.0, 0.1),\n",
              "                         'regressor__kernel': ('linear', 'poly', 'rbf')},\n",
              "             pre_dispatch='2*n_jobs', refit=True, return_train_score=True,\n",
              "             scoring='r2', verbose=0)"
            ]
          },
          "metadata": {},
          "execution_count": 210
        }
      ]
    },
    {
      "cell_type": "code",
      "metadata": {
        "colab": {
          "base_uri": "https://localhost:8080/"
        },
        "id": "I50wHQo8BocW",
        "outputId": "a7dab1a3-13e6-4ad7-9137-5e314be624cb"
      },
      "source": [
        "grid_search.best_score_"
      ],
      "execution_count": null,
      "outputs": [
        {
          "output_type": "execute_result",
          "data": {
            "text/plain": [
              "0.8494644109980569"
            ]
          },
          "metadata": {},
          "execution_count": 211
        }
      ]
    },
    {
      "cell_type": "code",
      "metadata": {
        "id": "Hr7O71cSBocX"
      },
      "source": [
        "# To get the best estimator for SiteEnergyUse(kBtu)log\n",
        "modelS = grid_search.best_estimator_"
      ],
      "execution_count": null,
      "outputs": []
    },
    {
      "cell_type": "markdown",
      "metadata": {
        "id": "EA3fpimvBocX"
      },
      "source": [
        "**4. Evaluation Using learning curves**"
      ]
    },
    {
      "cell_type": "code",
      "metadata": {
        "colab": {
          "base_uri": "https://localhost:8080/",
          "height": 315
        },
        "id": "XSghFuvgBocY",
        "outputId": "8fdd042c-5347-426f-a7a0-ae1c0ce94998"
      },
      "source": [
        "from sklearn.model_selection import learning_curve\n",
        "\n",
        "N, train_score, val_score = learning_curve(regS, X_train, y_trainEmissions, train_sizes = np.linspace(0.2, 1.0, 10), cv=5)\n",
        "print(N)\n",
        "\n",
        "plt.plot(N, train_score.mean(axis=1), label = 'train')\n",
        "plt.plot(N, val_score.mean(axis=1), label = 'validation')\n",
        "plt.plot(xlabel='train size', ylabel='score')\n",
        "plt.legend()\n",
        "plt.title('learning_curves')"
      ],
      "execution_count": null,
      "outputs": [
        {
          "output_type": "stream",
          "name": "stdout",
          "text": [
            "[100 145 190 235 280 324 369 414 459 504]\n"
          ]
        },
        {
          "output_type": "execute_result",
          "data": {
            "text/plain": [
              "Text(0.5, 1.0, 'learning_curves')"
            ]
          },
          "metadata": {},
          "execution_count": 213
        },
        {
          "output_type": "display_data",
          "data": {
            "image/png": "[encoded data removed]",
            "text/plain": [
              "<Figure size 432x288 with 1 Axes>"
            ]
          },
          "metadata": {
            "needs_background": "light"
          }
        }
      ]
    },
    {
      "cell_type": "markdown",
      "metadata": {
        "id": "k7PrapXRBocZ"
      },
      "source": [
        "The training curve increases according to the data until an r2 score of 93%. While the validation curve starts at an r2 score of 70% and increases with the data. But the large gap between the two curves indiquate a high variance."
      ]
    },
    {
      "cell_type": "markdown",
      "metadata": {
        "id": "zg367FzPBocZ"
      },
      "source": [
        "**5. Evaluating on the Test Set**"
      ]
    },
    {
      "cell_type": "code",
      "metadata": {
        "id": "wDIljQy5BocZ"
      },
      "source": [
        "y_pred = regS.predict(X_test)"
      ],
      "execution_count": null,
      "outputs": []
    },
    {
      "cell_type": "code",
      "metadata": {
        "colab": {
          "base_uri": "https://localhost:8080/"
        },
        "id": "YGrzexIPBocZ",
        "outputId": "1b3584c8-dffd-4f4a-d783-5cf9a90e09f9"
      },
      "source": [
        "from sklearn import metrics\n",
        "print('r2:', metrics.r2_score(y_testEmissions, y_pred))\n",
        "print('Root Mean Squared Error:', np.sqrt(metrics.mean_squared_error(y_testEmissions, y_pred)))"
      ],
      "execution_count": null,
      "outputs": [
        {
          "output_type": "stream",
          "name": "stdout",
          "text": [
            "r2: 0.8822295465039774\n",
            "Root Mean Squared Error: 0.43762973499872515\n"
          ]
        }
      ]
    },
    {
      "cell_type": "markdown",
      "metadata": {
        "id": "B3vLK3qkBoca"
      },
      "source": [
        "This model generalizes well on the test data with a score of 88% for the TotalGHGEmissionslog."
      ]
    },
    {
      "cell_type": "markdown",
      "metadata": {
        "id": "fzCwnvrLBoca"
      },
      "source": [
        "___"
      ]
    },
    {
      "cell_type": "markdown",
      "metadata": {
        "id": "OX_dHzbzBoca"
      },
      "source": [
        "### **DecisionTreeRegressor**"
      ]
    },
    {
      "cell_type": "markdown",
      "metadata": {
        "id": "tdsDBN4QBoca"
      },
      "source": [
        "This is a powerful model, capable of finding\n",
        "complex nonlinear relationships in the data.\n",
        "Decision tree builds regression or classification models in the form of a tree structure. It breaks down a dataset into smaller and smaller subsets while at the same time an associated decision tree is incrementally developed. The final result is a tree with decision nodes and leaf nodes."
      ]
    },
    {
      "cell_type": "markdown",
      "metadata": {
        "id": "yMTSZ0SABocb"
      },
      "source": [
        "**1. Training and Evaluating on the Training Set**"
      ]
    },
    {
      "cell_type": "code",
      "metadata": {
        "colab": {
          "base_uri": "https://localhost:8080/"
        },
        "id": "HiVsicDCBocb",
        "outputId": "cc83eed8-51e3-40c4-a6dd-d88e42be31e5"
      },
      "source": [
        "from sklearn.tree import DecisionTreeRegressor\n",
        "\n",
        "tree_reg = DecisionTreeRegressor()\n",
        "regD = pipeline(preprocessor, tree_reg)\n",
        "regD.fit(X_train, y_trainEmissions)\n",
        "\n",
        "print('Train score:', train_score.mean())"
      ],
      "execution_count": null,
      "outputs": [
        {
          "output_type": "stream",
          "name": "stdout",
          "text": [
            "Train score: 0.9201927029928769\n"
          ]
        }
      ]
    },
    {
      "cell_type": "markdown",
      "metadata": {
        "id": "POfI0ZAEBocb"
      },
      "source": [
        "This is a good score because the best value that can take the r2 is 1."
      ]
    },
    {
      "cell_type": "markdown",
      "metadata": {
        "id": "Qpk5H8lnBocb"
      },
      "source": [
        "**2. Evaluation Using Cross-Validation**"
      ]
    },
    {
      "cell_type": "code",
      "metadata": {
        "id": "b5Lx-uiEBocc"
      },
      "source": [
        "from sklearn.model_selection import cross_val_score\n",
        "from sklearn.metrics import r2_score\n",
        "\n",
        "scores = cross_val_score (regD, X_train, y_trainEmissions,\n",
        "                 cv=10, scoring = 'r2')"
      ],
      "execution_count": null,
      "outputs": []
    },
    {
      "cell_type": "code",
      "metadata": {
        "colab": {
          "base_uri": "https://localhost:8080/"
        },
        "id": "Qx81Q3jfBocc",
        "outputId": "db8f7c17-4a7b-4efb-c7ef-346d9e15dfb5"
      },
      "source": [
        "def display_scores(scores):\n",
        "  print(\"Scores:\", scores)\n",
        "  print(\"Mean:\", scores.mean())\n",
        "  print(\"Standard deviation:\", scores.std())\n",
        "\n",
        "display_scores(scores)"
      ],
      "execution_count": null,
      "outputs": [
        {
          "output_type": "stream",
          "name": "stdout",
          "text": [
            "Scores: [0.80373023 0.93378802 0.89435376 0.90911686 0.92355989 0.91563209\n",
            " 0.9033953  0.92073651 0.94485381 0.87482733]\n",
            "Mean: 0.9023993785970337\n",
            "Standard deviation: 0.037885901828559984\n"
          ]
        }
      ]
    },
    {
      "cell_type": "code",
      "metadata": {
        "colab": {
          "base_uri": "https://localhost:8080/"
        },
        "id": "rq5Zr2TkBocc",
        "outputId": "ea2a28b6-5a9a-4ec9-e76c-e94976e21c95"
      },
      "source": [
        "scores = cross_val_score(regD, X_train, y_trainEmissions, scoring=\"r2\", cv=10)\n",
        "pd.Series((scores)).describe()"
      ],
      "execution_count": null,
      "outputs": [
        {
          "output_type": "execute_result",
          "data": {
            "text/plain": [
              "count    10.000000\n",
              "mean      0.905604\n",
              "std       0.041592\n",
              "min       0.814945\n",
              "25%       0.887507\n",
              "50%       0.922998\n",
              "75%       0.930859\n",
              "max       0.940980\n",
              "dtype: float64"
            ]
          },
          "metadata": {},
          "execution_count": 219
        }
      ]
    },
    {
      "cell_type": "markdown",
      "metadata": {
        "id": "-W23hwTwBocc"
      },
      "source": [
        "**3. Grid Search**"
      ]
    },
    {
      "cell_type": "code",
      "metadata": {
        "colab": {
          "base_uri": "https://localhost:8080/"
        },
        "id": "2DEwHJhdBocd",
        "outputId": "8af78389-9dc1-4c57-ddf2-6530d417ceda"
      },
      "source": [
        "from sklearn.model_selection import GridSearchCV\n",
        "param_grid = {\"regressor__splitter\" : ['best', 'random'],\n",
        "              \"regressor__max_depth\" : [2,4,6,8,10]\n",
        "             }\n",
        "\n",
        "tree_reg = DecisionTreeRegressor()\n",
        "regD = pipeline(preprocessor, tree_reg)\n",
        "regD.fit(X_train, y_trainEmissions)\n",
        "\n",
        "\n",
        "grid_search = GridSearchCV(regD, param_grid, cv=5, \n",
        "              return_train_score=True, scoring='r2')\n",
        "grid_search.fit(X_train, y_trainEnergy)"
      ],
      "execution_count": null,
      "outputs": [
        {
          "output_type": "execute_result",
          "data": {
            "text/plain": [
              "GridSearchCV(cv=5, error_score=nan,\n",
              "             estimator=Pipeline(memory=None,\n",
              "                                steps=[('preprocessor',\n",
              "                                        ColumnTransformer(n_jobs=None,\n",
              "                                                          remainder='drop',\n",
              "                                                          sparse_threshold=0.3,\n",
              "                                                          transformer_weights=None,\n",
              "                                                          transformers=[('num',\n",
              "                                                                         Pipeline(memory=None,\n",
              "                                                                                  steps=[('imputer',\n",
              "                                                                                          SimpleImputer(add_indicator=False,\n",
              "                                                                                                        copy=True,\n",
              "                                                                                                        fill_value=None,\n",
              "                                                                                                        missing_values=nan,\n",
              "                                                                                                        strategy='mean',\n",
              "                                                                                                        verbose=0)),\n",
              "                                                                                         ('...\n",
              "                                                              min_impurity_split=None,\n",
              "                                                              min_samples_leaf=1,\n",
              "                                                              min_samples_split=2,\n",
              "                                                              min_weight_fraction_leaf=0.0,\n",
              "                                                              presort='deprecated',\n",
              "                                                              random_state=None,\n",
              "                                                              splitter='best'))],\n",
              "                                verbose=False),\n",
              "             iid='deprecated', n_jobs=None,\n",
              "             param_grid={'regressor__max_depth': [2, 4, 6, 8, 10],\n",
              "                         'regressor__splitter': ['best', 'random']},\n",
              "             pre_dispatch='2*n_jobs', refit=True, return_train_score=True,\n",
              "             scoring='r2', verbose=0)"
            ]
          },
          "metadata": {},
          "execution_count": 220
        }
      ]
    },
    {
      "cell_type": "code",
      "metadata": {
        "colab": {
          "base_uri": "https://localhost:8080/"
        },
        "id": "o6oKL07wBoce",
        "outputId": "f3642ea9-5bb6-472d-8e56-dd36f29b900d"
      },
      "source": [
        "grid_search.best_score_"
      ],
      "execution_count": null,
      "outputs": [
        {
          "output_type": "execute_result",
          "data": {
            "text/plain": [
              "0.9103087526843907"
            ]
          },
          "metadata": {},
          "execution_count": 221
        }
      ]
    },
    {
      "cell_type": "code",
      "metadata": {
        "colab": {
          "base_uri": "https://localhost:8080/"
        },
        "id": "9mFa-tkxBoce",
        "outputId": "ba7866ce-f291-436d-9cce-eb2e7d4c5c15"
      },
      "source": [
        "grid_search.best_params_"
      ],
      "execution_count": null,
      "outputs": [
        {
          "output_type": "execute_result",
          "data": {
            "text/plain": [
              "{'regressor__max_depth': 8, 'regressor__splitter': 'best'}"
            ]
          },
          "metadata": {},
          "execution_count": 222
        }
      ]
    },
    {
      "cell_type": "code",
      "metadata": {
        "id": "yFxvILyCBoce"
      },
      "source": [
        "modelD = grid_search.best_estimator_"
      ],
      "execution_count": null,
      "outputs": []
    },
    {
      "cell_type": "markdown",
      "metadata": {
        "id": "fIqFnUl9Boce"
      },
      "source": [
        "**4. Evaluation Using learning curves**"
      ]
    },
    {
      "cell_type": "code",
      "metadata": {
        "colab": {
          "base_uri": "https://localhost:8080/",
          "height": 315
        },
        "id": "n1tTqy8rBoce",
        "outputId": "d61125a0-3ba6-4d34-e924-d0d0e0444a64"
      },
      "source": [
        "from sklearn.model_selection import learning_curve\n",
        "\n",
        "N, train_score, val_score = learning_curve(regD, X_train, y_trainEmissions, train_sizes = np.linspace(0.2, 1.0, 10), cv=5)\n",
        "print(N)\n",
        "\n",
        "plt.plot(N, train_score.mean(axis=1), label = 'train')\n",
        "plt.plot(N, val_score.mean(axis=1), label = 'validation')\n",
        "plt.title('Learning Curves')\n",
        "plt.legend()"
      ],
      "execution_count": null,
      "outputs": [
        {
          "output_type": "stream",
          "name": "stdout",
          "text": [
            "[100 145 190 235 280 324 369 414 459 504]\n"
          ]
        },
        {
          "output_type": "execute_result",
          "data": {
            "text/plain": [
              "<matplotlib.legend.Legend at 0x7f07e36a6a50>"
            ]
          },
          "metadata": {},
          "execution_count": 490
        },
        {
          "output_type": "display_data",
          "data": {
            "image/png": "[encoded data removed]",
            "text/plain": [
              "<Figure size 432x288 with 1 Axes>"
            ]
          },
          "metadata": {
            "needs_background": "light"
          }
        }
      ]
    },
    {
      "cell_type": "markdown",
      "metadata": {
        "id": "LgMbq_gEBocf"
      },
      "source": [
        "The model does not make an error on the set train.For the validation curve, the model is trained on very few training instances, it is incapable of generalizing properly, which is why the validation error is initially quite big. Then as the model is shown more training examples, it learns and thus the validation error slowly goes down. However, once again a straight line cannot do a good job modeling the data, so the error ends up at a plateau."
      ]
    },
    {
      "cell_type": "markdown",
      "metadata": {
        "id": "HVVrbYHCBocf"
      },
      "source": [
        "**5. Evaluating on the Test Set**"
      ]
    },
    {
      "cell_type": "code",
      "metadata": {
        "id": "ll2YLaarBocf"
      },
      "source": [
        "y_pred = regD.predict(X_test)"
      ],
      "execution_count": null,
      "outputs": []
    },
    {
      "cell_type": "code",
      "metadata": {
        "colab": {
          "base_uri": "https://localhost:8080/"
        },
        "id": "do3V3evhBocf",
        "outputId": "c06101b4-d022-4d32-e20f-2dc4a9755a1b"
      },
      "source": [
        "from sklearn import metrics\n",
        "print('r2:', metrics.r2_score(y_testEmissions, y_pred))\n",
        "print('Root Mean Squared Error:', np.sqrt(metrics.mean_squared_error(y_testEmissions, y_pred)))"
      ],
      "execution_count": null,
      "outputs": [
        {
          "output_type": "stream",
          "name": "stdout",
          "text": [
            "r2: 0.9308067758654739\n",
            "Root Mean Squared Error: 0.33544431251033474\n"
          ]
        }
      ]
    },
    {
      "cell_type": "markdown",
      "metadata": {
        "id": "5Fbkits5Bocf"
      },
      "source": [
        "The model behaves almost the same with the train set and the test set and it shows a very good r2 score."
      ]
    },
    {
      "cell_type": "markdown",
      "metadata": {
        "id": "X2iTuKS3Bocf"
      },
      "source": [
        "___"
      ]
    },
    {
      "cell_type": "markdown",
      "metadata": {
        "id": "v2woElrRUGu8"
      },
      "source": [
        "Now let's use a generalist method"
      ]
    },
    {
      "cell_type": "markdown",
      "metadata": {
        "id": "9CP_QvSCBocg"
      },
      "source": [
        "### **RandomForestRegressor**"
      ]
    },
    {
      "cell_type": "markdown",
      "metadata": {
        "id": "tFIXi7mkBocg"
      },
      "source": [
        "A random forest is a meta estimator that fits a number of classifying decision trees on various sub-samples of the dataset and uses averaging to improve the predictive accuracy and control over-fitting."
      ]
    },
    {
      "cell_type": "code",
      "metadata": {
        "colab": {
          "base_uri": "https://localhost:8080/"
        },
        "id": "-br2mLHnBocg",
        "outputId": "0af0ddff-9123-4b57-ee5a-6663aa248ce3"
      },
      "source": [
        "from sklearn.ensemble import RandomForestRegressor\n",
        "\n",
        "forest_reg = RandomForestRegressor(n_estimators=100, n_jobs=-1)\n",
        "regF = pipeline(preprocessor, forest_reg)\n",
        "regF.fit(X_train, y_trainEmissions)\n",
        "\n",
        "train_score = regF.score(X_train, y_trainEmissions)\n",
        "print('Train score:', train_score)"
      ],
      "execution_count": null,
      "outputs": [
        {
          "output_type": "stream",
          "name": "stdout",
          "text": [
            "Train score: 0.9956564677223246\n"
          ]
        }
      ]
    },
    {
      "cell_type": "markdown",
      "metadata": {
        "id": "UMhIvzlVBocg"
      },
      "source": [
        "The model shows a very high score of r2."
      ]
    },
    {
      "cell_type": "markdown",
      "metadata": {
        "id": "11C1BtXQBocg"
      },
      "source": [
        "**2. Evaluation Using Cross-Validation**"
      ]
    },
    {
      "cell_type": "code",
      "metadata": {
        "id": "hub9dBmiBocg"
      },
      "source": [
        "from sklearn.model_selection import cross_val_score\n",
        "from sklearn.metrics import r2_score\n",
        "\n",
        "scores = cross_val_score (regF, X_train, y_trainEmissions,\n",
        "                 cv=10, scoring = 'r2')"
      ],
      "execution_count": null,
      "outputs": []
    },
    {
      "cell_type": "code",
      "metadata": {
        "colab": {
          "base_uri": "https://localhost:8080/"
        },
        "id": "_41dxrZdBocg",
        "outputId": "8ec66cc6-8aca-43a1-ab93-f726f5bec42e"
      },
      "source": [
        "def display_scores(scores):\n",
        "  print(\"Scores:\", scores)\n",
        "  print(\"Mean:\", scores.mean())\n",
        "  print(\"Standard deviation:\", scores.std())\n",
        "\n",
        "display_scores(scores)"
      ],
      "execution_count": null,
      "outputs": [
        {
          "output_type": "stream",
          "name": "stdout",
          "text": [
            "Scores: [0.92984078 0.96287304 0.97439725 0.96000171 0.98459683 0.97288756\n",
            " 0.96967572 0.96508351 0.9814995  0.95671048]\n",
            "Mean: 0.9657566374654053\n",
            "Standard deviation: 0.014687849422076973\n"
          ]
        }
      ]
    },
    {
      "cell_type": "code",
      "metadata": {
        "colab": {
          "base_uri": "https://localhost:8080/"
        },
        "id": "NuDhckGlBoch",
        "outputId": "24f3ec09-5728-4e1e-b129-480ef86015d5"
      },
      "source": [
        "scores = cross_val_score(regF, X_train, y_trainEmissions, scoring=\"r2\", cv=10)\n",
        "pd.Series((scores)).describe()"
      ],
      "execution_count": null,
      "outputs": [
        {
          "output_type": "execute_result",
          "data": {
            "text/plain": [
              "count    10.000000\n",
              "mean      0.965334\n",
              "std       0.015769\n",
              "min       0.927812\n",
              "25%       0.961370\n",
              "50%       0.968373\n",
              "75%       0.975724\n",
              "max       0.982267\n",
              "dtype: float64"
            ]
          },
          "metadata": {},
          "execution_count": 230
        }
      ]
    },
    {
      "cell_type": "code",
      "metadata": {
        "colab": {
          "base_uri": "https://localhost:8080/"
        },
        "id": "6SQdWtHeBoch",
        "outputId": "8eac2f5f-ba9c-459e-b851-90de208b08f4"
      },
      "source": [
        "scores = cross_val_score(regF, X_train, y_trainEmissions, scoring=\"neg_root_mean_squared_error\", cv=10)\n",
        "pd.Series((scores)).describe()"
      ],
      "execution_count": null,
      "outputs": [
        {
          "output_type": "execute_result",
          "data": {
            "text/plain": [
              "count    10.000000\n",
              "mean     -0.239951\n",
              "std       0.057231\n",
              "min      -0.362986\n",
              "25%      -0.263952\n",
              "50%      -0.241167\n",
              "75%      -0.189151\n",
              "max      -0.178857\n",
              "dtype: float64"
            ]
          },
          "metadata": {},
          "execution_count": 231
        }
      ]
    },
    {
      "cell_type": "markdown",
      "metadata": {
        "id": "_X9kNE8qBoch"
      },
      "source": [
        "**3. Grid Search**"
      ]
    },
    {
      "cell_type": "code",
      "metadata": {
        "colab": {
          "base_uri": "https://localhost:8080/"
        },
        "id": "1vIaxIjiBoch",
        "outputId": "5addb9a3-ddd1-4b08-e4f4-572ba40dfb1b"
      },
      "source": [
        "from sklearn.model_selection import GridSearchCV\n",
        "param_grid = {\"regressor__bootstrap\": [True, False], \n",
        "              \"regressor__max_samples\":[1,10,100],\n",
        "             }\n",
        "\n",
        "forest_reg = RandomForestRegressor(n_estimators=100, n_jobs=-1)\n",
        "regF = pipeline(preprocessor, forest_reg)\n",
        "regF.fit(X_train, y_trainEmissions)\n",
        "\n",
        "\n",
        "grid_search = GridSearchCV(regF, param_grid, cv=5, \n",
        "              return_train_score=True, scoring='r2')\n",
        "grid_search.fit(X_train, y_trainEmissions)"
      ],
      "execution_count": null,
      "outputs": [
        {
          "output_type": "execute_result",
          "data": {
            "text/plain": [
              "GridSearchCV(cv=5, error_score=nan,\n",
              "             estimator=Pipeline(memory=None,\n",
              "                                steps=[('preprocessor',\n",
              "                                        ColumnTransformer(n_jobs=None,\n",
              "                                                          remainder='drop',\n",
              "                                                          sparse_threshold=0.3,\n",
              "                                                          transformer_weights=None,\n",
              "                                                          transformers=[('num',\n",
              "                                                                         Pipeline(memory=None,\n",
              "                                                                                  steps=[('imputer',\n",
              "                                                                                          SimpleImputer(add_indicator=False,\n",
              "                                                                                                        copy=True,\n",
              "                                                                                                        fill_value=None,\n",
              "                                                                                                        missing_values=nan,\n",
              "                                                                                                        strategy='mean',\n",
              "                                                                                                        verbose=0)),\n",
              "                                                                                         ('...\n",
              "                                                              min_samples_split=2,\n",
              "                                                              min_weight_fraction_leaf=0.0,\n",
              "                                                              n_estimators=100,\n",
              "                                                              n_jobs=-1,\n",
              "                                                              oob_score=False,\n",
              "                                                              random_state=None,\n",
              "                                                              verbose=0,\n",
              "                                                              warm_start=False))],\n",
              "                                verbose=False),\n",
              "             iid='deprecated', n_jobs=None,\n",
              "             param_grid={'regressor__bootstrap': [True, False],\n",
              "                         'regressor__max_samples': [1, 10, 100]},\n",
              "             pre_dispatch='2*n_jobs', refit=True, return_train_score=True,\n",
              "             scoring='r2', verbose=0)"
            ]
          },
          "metadata": {},
          "execution_count": 232
        }
      ]
    },
    {
      "cell_type": "code",
      "metadata": {
        "colab": {
          "base_uri": "https://localhost:8080/"
        },
        "id": "QSgfhOHqBoci",
        "outputId": "81592b10-1849-453c-956a-e5a8453ddcbd"
      },
      "source": [
        "grid_search.best_score_"
      ],
      "execution_count": null,
      "outputs": [
        {
          "output_type": "execute_result",
          "data": {
            "text/plain": [
              "0.9305453881724179"
            ]
          },
          "metadata": {},
          "execution_count": 233
        }
      ]
    },
    {
      "cell_type": "code",
      "metadata": {
        "colab": {
          "base_uri": "https://localhost:8080/"
        },
        "id": "p3LwaFvbBoci",
        "outputId": "1b9b0042-3098-4376-ba00-52a643a09f72"
      },
      "source": [
        "grid_search.best_params_"
      ],
      "execution_count": null,
      "outputs": [
        {
          "output_type": "execute_result",
          "data": {
            "text/plain": [
              "{'regressor__bootstrap': True, 'regressor__max_samples': 100}"
            ]
          },
          "metadata": {},
          "execution_count": 234
        }
      ]
    },
    {
      "cell_type": "code",
      "metadata": {
        "id": "7PbCAXq-Boci"
      },
      "source": [
        "modelF = grid_search.best_estimator_"
      ],
      "execution_count": null,
      "outputs": []
    },
    {
      "cell_type": "markdown",
      "metadata": {
        "id": "fybwPqe3Boci"
      },
      "source": [
        "**4. Evaluation Using learning curves**"
      ]
    },
    {
      "cell_type": "code",
      "metadata": {
        "colab": {
          "base_uri": "https://localhost:8080/",
          "height": 315
        },
        "id": "RPPt9HZ0Boci",
        "outputId": "7a188d9c-afab-44ec-9203-02ff5d3295b8"
      },
      "source": [
        "from sklearn.model_selection import learning_curve\n",
        "\n",
        "N, train_score, val_score = learning_curve(regF, X_train, y_trainEmissions, train_sizes = np.linspace(0.2, 1.0, 10), cv=5)\n",
        "print(N)\n",
        "\n",
        "plt.plot(N, train_score.mean(axis=1), label = 'train')\n",
        "plt.plot(N, val_score.mean(axis=1), label = 'validation')\n",
        "plt.title('Learning Curves')\n",
        "plt.legend()"
      ],
      "execution_count": null,
      "outputs": [
        {
          "output_type": "stream",
          "name": "stdout",
          "text": [
            "[100 145 190 235 280 324 369 414 459 504]\n"
          ]
        },
        {
          "output_type": "execute_result",
          "data": {
            "text/plain": [
              "<matplotlib.legend.Legend at 0x7f07e04ff9d0>"
            ]
          },
          "metadata": {},
          "execution_count": 489
        },
        {
          "output_type": "display_data",
          "data": {
            "image/png": "[encoded data removed]",
            "text/plain": [
              "<Figure size 432x288 with 1 Axes>"
            ]
          },
          "metadata": {
            "needs_background": "light"
          }
        }
      ]
    },
    {
      "cell_type": "markdown",
      "metadata": {
        "id": "pnz7YQP3Boci"
      },
      "source": [
        "We notice an important gap between the two curves."
      ]
    },
    {
      "cell_type": "markdown",
      "metadata": {
        "id": "BJI5L83HBocj"
      },
      "source": [
        "**5. Evaluating on the Test Set**"
      ]
    },
    {
      "cell_type": "code",
      "metadata": {
        "id": "yKJvq39cBocj"
      },
      "source": [
        "y_pred = regF.predict(X_test)"
      ],
      "execution_count": null,
      "outputs": []
    },
    {
      "cell_type": "code",
      "metadata": {
        "colab": {
          "base_uri": "https://localhost:8080/"
        },
        "id": "ueJhc5qjBocj",
        "outputId": "e094e31e-e2d4-4450-da46-7a499559aa77"
      },
      "source": [
        "from sklearn import metrics\n",
        "print('r2:', metrics.r2_score(y_testEmissions, y_pred))\n",
        "print('Root Mean Squared Error:', np.sqrt(metrics.mean_squared_error(y_testEmissions, y_pred)))"
      ],
      "execution_count": null,
      "outputs": [
        {
          "output_type": "stream",
          "name": "stdout",
          "text": [
            "r2: 0.9688489980695485\n",
            "Root Mean Squared Error: 0.22507365257551537\n"
          ]
        }
      ]
    },
    {
      "cell_type": "markdown",
      "metadata": {
        "id": "3lhe_4BMBocj"
      },
      "source": [
        "The model behaves almost the same with the train set and the test set and it shows a very good r2 score."
      ]
    },
    {
      "cell_type": "markdown",
      "metadata": {
        "id": "RFMpU5XxB49j"
      },
      "source": [
        "___"
      ]
    },
    {
      "cell_type": "markdown",
      "metadata": {
        "id": "BbxQWWWlI7AF"
      },
      "source": [
        "### **Let's summarize the results**"
      ]
    },
    {
      "cell_type": "code",
      "metadata": {
        "id": "RX631HjPP6Or"
      },
      "source": [
        "results = []\n",
        "algos = {\n",
        "    'LinearRegression' : LinearRegression(),\n",
        "    'Ridge' : Ridge(),\n",
        "    'Lasso' : Lasso(tol=0.5),\n",
        "    'ElasticNet' : ElasticNet(),\n",
        "    'SVR': SVR(),\n",
        "    'DecisionTreeRegressor' : DecisionTreeRegressor(),\n",
        "    'RandomForestRegressor' : RandomForestRegressor()\n",
        "}"
      ],
      "execution_count": null,
      "outputs": []
    },
    {
      "cell_type": "markdown",
      "metadata": {
        "id": "Qp0e7XrMby_p"
      },
      "source": [
        "**SiteEnergyUse(kBtu)log**"
      ]
    },
    {
      "cell_type": "code",
      "metadata": {
        "colab": {
          "base_uri": "https://localhost:8080/"
        },
        "id": "ycgcBCKSQawG",
        "outputId": "f04c1ddd-28d3-4a1a-e634-73a30f2571f1"
      },
      "source": [
        "for algo_name, algo in algos.items():\n",
        "    print('Algorithm: ',algo_name)\n",
        "    model = pipeline(preprocessor,algo)\n",
        "    model.fit(X_train,y_trainEnergy)\n",
        "    y_pred = model.predict(X_test)\n",
        "    print('____Prediction of SiteEnergyUse____ ')\n",
        "    print('training score = ',model.score(X_train,y_trainEnergy))\n",
        "    print(\"prediction score: \",  model.score(X_test, y_testEnergy))\n",
        "    rmse = np.sqrt(mean_squared_error(y_testEnergy,y_pred))\n",
        "    r2 = r2_score(y_testEnergy,y_pred)     \n",
        "    print(\"RMSE = \",rmse)\n",
        "    print(\"r2 = \",r2)\n",
        "    print('')\n",
        "    results.append([algo_name, model.score(X_test, y_testEnergy), rmse, r2])\n",
        "    print('-'*100)"
      ],
      "execution_count": null,
      "outputs": [
        {
          "output_type": "stream",
          "name": "stdout",
          "text": [
            "Algorithm:  LinearRegression\n",
            "____Prediction of SiteEnergyUse____ \n",
            "training score =  0.7948174191154529\n",
            "prediction score:  0.7428917723579005\n",
            "RMSE =  0.6203414188343702\n",
            "r2 =  0.7428917723579005\n",
            "\n",
            "----------------------------------------------------------------------------------------------------\n",
            "Algorithm:  Ridge\n",
            "____Prediction of SiteEnergyUse____ \n",
            "training score =  0.7944635858971132\n",
            "prediction score:  0.7420256399749889\n",
            "RMSE =  0.6213854267446589\n",
            "r2 =  0.7420256399749889\n",
            "\n",
            "----------------------------------------------------------------------------------------------------\n",
            "Algorithm:  Lasso\n",
            "____Prediction of SiteEnergyUse____ \n",
            "training score =  0.22161119018935072\n",
            "prediction score:  0.3041861224267618\n",
            "RMSE =  1.0205148643733006\n",
            "r2 =  0.3041861224267618\n",
            "\n",
            "----------------------------------------------------------------------------------------------------\n",
            "Algorithm:  ElasticNet\n",
            "____Prediction of SiteEnergyUse____ \n",
            "training score =  0.48132100834556535\n",
            "prediction score:  0.5445642751459572\n",
            "RMSE =  0.8256316610633009\n",
            "r2 =  0.5445642751459572\n",
            "\n",
            "----------------------------------------------------------------------------------------------------\n",
            "Algorithm:  SVR\n",
            "____Prediction of SiteEnergyUse____ \n",
            "training score =  0.9613543122441907\n",
            "prediction score:  0.9111868591356026\n",
            "RMSE =  0.36459558578044476\n",
            "r2 =  0.9111868591356026\n",
            "\n",
            "----------------------------------------------------------------------------------------------------\n",
            "Algorithm:  DecisionTreeRegressor\n",
            "____Prediction of SiteEnergyUse____ \n",
            "training score =  0.999999999615911\n",
            "prediction score:  0.9275006714818619\n",
            "RMSE =  0.32941227911736903\n",
            "r2 =  0.927500671481862\n",
            "\n",
            "----------------------------------------------------------------------------------------------------\n",
            "Algorithm:  RandomForestRegressor\n",
            "____Prediction of SiteEnergyUse____ \n",
            "training score =  0.9946981361695032\n",
            "prediction score:  0.9707562546958797\n",
            "RMSE =  0.2092132991850034\n",
            "r2 =  0.9707562546958797\n",
            "\n",
            "----------------------------------------------------------------------------------------------------\n"
          ]
        }
      ]
    },
    {
      "cell_type": "code",
      "metadata": {
        "id": "wtHvJaHAnhPs"
      },
      "source": [
        "X_train = preprocessor.transform((X_train))"
      ],
      "execution_count": null,
      "outputs": []
    },
    {
      "cell_type": "code",
      "metadata": {
        "colab": {
          "base_uri": "https://localhost:8080/",
          "height": 765
        },
        "id": "5gcnz6N6DgMV",
        "outputId": "6c49e427-10e8-45bf-a11b-b9b94bf7a463"
      },
      "source": [
        "# Set up 10-fold cross validation\n",
        "\n",
        "scoring = 'r2'\n",
        "\n",
        "models = []\n",
        "models.append(('LR', LinearRegression()))\n",
        "models.append(('Lasso', Lasso()))\n",
        "models.append(('Ridge', Ridge()))\n",
        "models.append(('ELN', ElasticNet()))\n",
        "models.append(('DTR', DecisionTreeRegressor()))\n",
        "models.append(('RFR', RandomForestRegressor()))\n",
        "\n",
        "\n",
        "# evaluate each model in turn\n",
        "\n",
        "results = []\n",
        "names = []\n",
        "from sklearn.model_selection import KFold\n",
        "from sklearn import model_selection\n",
        "for name, model in models:\n",
        "\tkfold = model_selection.KFold(n_splits=10, random_state=42)\n",
        "\tcv_results = model_selection.cross_val_score(model, X_train, y_trainEnergy, cv=kfold, scoring=scoring)\n",
        "\tresults.append(cv_results)\n",
        "\tnames.append(name)\n",
        "\tmsg = \"%s: %f (%f)\" % (name, cv_results.mean(), cv_results.std())\n",
        "\tprint(msg)\n",
        "\n",
        "# Compare Algorithms\n",
        "\n",
        "fig = plt.figure(figsize=(10,10))\n",
        "fig.suptitle('R2 from cross-validation for the prediction of the SiteEnergyUse')\n",
        "ax = fig.add_subplot(111)\n",
        "plt.boxplot(results)\n",
        "ax.set_xticklabels(names)\n",
        "plt.show()"
      ],
      "execution_count": null,
      "outputs": [
        {
          "output_type": "stream",
          "name": "stdout",
          "text": [
            "LR: 0.750811 (0.065739)\n",
            "Lasso: 0.205169 (0.044611)\n",
            "Ridge: 0.752867 (0.063487)\n",
            "ELN: 0.471341 (0.053271)\n",
            "DTR: 0.912568 (0.026798)\n",
            "RFR: 0.959141 (0.009948)\n"
          ]
        },
        {
          "output_type": "display_data",
          "data": {
            "image/png": "[encoded data removed]",
            "text/plain": [
              "<Figure size 720x720 with 1 Axes>"
            ]
          },
          "metadata": {
            "needs_background": "light"
          }
        }
      ]
    },
    {
      "cell_type": "markdown",
      "metadata": {
        "id": "qTQpxsUyb8Ue"
      },
      "source": [
        "**TotalGHGEmissionslog**"
      ]
    },
    {
      "cell_type": "code",
      "metadata": {
        "colab": {
          "base_uri": "https://localhost:8080/"
        },
        "id": "GLCKbOhxb8Uf",
        "outputId": "8c2568ae-45fa-4ae3-cc93-c89c2d3914ac"
      },
      "source": [
        "for algo_name, algo in algos.items():\n",
        "    print('Algorithm: ',algo_name)\n",
        "    model = pipeline(preprocessor,algo)\n",
        "    model.fit(X_train,y_trainEmissions)\n",
        "    y_pred = model.predict(X_test)\n",
        "    print('____Prediction of TotalGHGEmissions____ ')\n",
        "    print('training score = ',model.score(X_train,y_trainEmissions))\n",
        "    print(\"prediction score: \",  model.score(X_test, y_testEmissions))\n",
        "    rmse = np.sqrt(mean_squared_error(y_testEmissions,y_pred))\n",
        "    r2 = r2_score(y_testEmissions,y_pred)     \n",
        "    print(\"RMSE = \",rmse)\n",
        "    print(\"r2 = \",r2)\n",
        "    print('')\n",
        "    results.append([algo_name, model.score(X_test, y_testEmissions), rmse, r2])\n",
        "    print('-'*100)"
      ],
      "execution_count": null,
      "outputs": [
        {
          "output_type": "stream",
          "name": "stdout",
          "text": [
            "Algorithm:  LinearRegression\n",
            "____Prediction of TotalGHGEmissions____ \n",
            "training score =  0.7287979724225967\n",
            "prediction score:  0.6241888068994602\n",
            "RMSE =  0.7817601065321934\n",
            "r2 =  0.6241888068994602\n",
            "\n",
            "----------------------------------------------------------------------------------------------------\n",
            "Algorithm:  Ridge\n",
            "____Prediction of TotalGHGEmissions____ \n",
            "training score =  0.7282604612676289\n",
            "prediction score:  0.6253657728885846\n",
            "RMSE =  0.7805349879077519\n",
            "r2 =  0.6253657728885846\n",
            "\n",
            "----------------------------------------------------------------------------------------------------\n",
            "Algorithm:  Lasso\n",
            "____Prediction of TotalGHGEmissions____ \n",
            "training score =  0.08191055718018536\n",
            "prediction score:  0.1226941687262445\n",
            "RMSE =  1.194439500012665\n",
            "r2 =  0.1226941687262445\n",
            "\n",
            "----------------------------------------------------------------------------------------------------\n",
            "Algorithm:  ElasticNet\n",
            "____Prediction of TotalGHGEmissions____ \n",
            "training score =  0.43225267701814674\n",
            "prediction score:  0.4847009175355945\n",
            "RMSE =  0.9154156515186455\n",
            "r2 =  0.4847009175355945\n",
            "\n",
            "----------------------------------------------------------------------------------------------------\n",
            "Algorithm:  SVR\n",
            "____Prediction of TotalGHGEmissions____ \n",
            "training score =  0.9376546963957268\n",
            "prediction score:  0.8822295465039774\n",
            "RMSE =  0.43762973499872515\n",
            "r2 =  0.8822295465039774\n",
            "\n",
            "----------------------------------------------------------------------------------------------------\n",
            "Algorithm:  DecisionTreeRegressor\n",
            "____Prediction of TotalGHGEmissions____ \n",
            "training score =  0.9999999997601439\n",
            "prediction score:  0.9292537838794508\n",
            "RMSE =  0.33918782671757625\n",
            "r2 =  0.9292537838794508\n",
            "\n",
            "----------------------------------------------------------------------------------------------------\n",
            "Algorithm:  RandomForestRegressor\n",
            "____Prediction of TotalGHGEmissions____ \n",
            "training score =  0.9955885870241222\n",
            "prediction score:  0.9669891255191008\n",
            "RMSE =  0.2316952677439379\n",
            "r2 =  0.9669891255191008\n",
            "\n",
            "----------------------------------------------------------------------------------------------------\n"
          ]
        }
      ]
    },
    {
      "cell_type": "code",
      "metadata": {
        "id": "V4CVISP8aii1"
      },
      "source": [
        "X_train = preprocessor.transform((X_train))"
      ],
      "execution_count": null,
      "outputs": []
    },
    {
      "cell_type": "code",
      "metadata": {
        "colab": {
          "base_uri": "https://localhost:8080/",
          "height": 765
        },
        "id": "HYt-4LXMb8Ug",
        "outputId": "ce5dc308-12ab-4282-ae51-1e950809101d"
      },
      "source": [
        "# Set up 10-fold cross validation\n",
        "scoring = 'r2'\n",
        "\n",
        "models = []\n",
        "models.append(('LR', LinearRegression()))\n",
        "models.append(('Lasso', Lasso()))\n",
        "models.append(('Ridge', Ridge()))\n",
        "models.append(('ELN', ElasticNet()))\n",
        "models.append(('DTR', DecisionTreeRegressor()))\n",
        "models.append(('RFR', RandomForestRegressor()))\n",
        "\n",
        "\n",
        "# evaluate each model in turn\n",
        "results = []\n",
        "names = []\n",
        "from sklearn.model_selection import KFold\n",
        "from sklearn import model_selection\n",
        "for name, model in models:\n",
        "\tkfold = model_selection.KFold(n_splits=10, random_state=42)\n",
        "\tcv_results = model_selection.cross_val_score(model, X_train, y_trainEmissions, cv=kfold, scoring=scoring)\n",
        "\tresults.append(cv_results)\n",
        "\tnames.append(name)\n",
        "\tmsg = \"%s: %f (%f)\" % (name, cv_results.mean(), cv_results.std())\n",
        "\tprint(msg)\n",
        "\n",
        "\n",
        "# Compare Algorithms\n",
        "fig = plt.figure(figsize=(10,10))\n",
        "fig.suptitle('R2 from cross-validation for the prediction of the TotalGHGEmissionslog')\n",
        "ax = fig.add_subplot(111)\n",
        "plt.boxplot(results)\n",
        "ax.set_xticklabels(names)\n",
        "plt.show()"
      ],
      "execution_count": null,
      "outputs": [
        {
          "output_type": "stream",
          "name": "stdout",
          "text": [
            "LR: 0.669551 (0.058598)\n",
            "Lasso: 0.073204 (0.014742)\n",
            "Ridge: 0.672165 (0.056792)\n",
            "ELN: 0.426245 (0.033574)\n",
            "DTR: 0.912284 (0.025031)\n",
            "RFR: 0.965629 (0.015103)\n"
          ]
        },
        {
          "output_type": "display_data",
          "data": {
            "image/png": "[encoded data removed]",
            "text/plain": [
              "<Figure size 720x720 with 1 Axes>"
            ]
          },
          "metadata": {
            "needs_background": "light"
          }
        }
      ]
    },
    {
      "cell_type": "markdown",
      "metadata": {
        "id": "r2EAUandK9nJ"
      },
      "source": [
        "We will select the best model which is\n",
        "RandomForestRegressor ()."
      ]
    },
    {
      "cell_type": "markdown",
      "metadata": {
        "id": "c1QFfnQx0hYu"
      },
      "source": [
        "### **Model optimization - variable energy**"
      ]
    },
    {
      "cell_type": "code",
      "metadata": {
        "id": "NMTQ0GShl4k9",
        "colab": {
          "base_uri": "https://localhost:8080/"
        },
        "outputId": "845834ff-8d2e-4e79-c371-5c96c8cde74d"
      },
      "source": [
        "from sklearn.model_selection import GridSearchCV\n",
        "param_grid = {\"regressor__bootstrap\": [True, False], # The use of priming samples during construction\n",
        "              \"regressor__max_samples\":[1,10,100], # The number of samples to draw from X to train each base estimator\n",
        "              \"regressor__n_estimators\" : [100,150,200], # Number of trees\n",
        "              'regressor__max_depth' : range(1, 10, 1), # Number of maximum depths\n",
        "             }\n",
        "\n",
        "forest_reg = RandomForestRegressor(n_estimators=100, n_jobs=-1)\n",
        "regF = pipeline(preprocessor, forest_reg)\n",
        "regF.fit(X_train, y_trainEnergy)\n",
        "\n",
        "grid_search = GridSearchCV(regF, param_grid, cv=5, \n",
        "              return_train_score=True, scoring='r2')\n",
        "grid_search.fit(X_train, y_trainEnergy)"
      ],
      "execution_count": null,
      "outputs": [
        {
          "output_type": "execute_result",
          "data": {
            "text/plain": [
              "GridSearchCV(cv=5, error_score=nan,\n",
              "             estimator=Pipeline(memory=None,\n",
              "                                steps=[('preprocessor',\n",
              "                                        ColumnTransformer(n_jobs=None,\n",
              "                                                          remainder='drop',\n",
              "                                                          sparse_threshold=0.3,\n",
              "                                                          transformer_weights=None,\n",
              "                                                          transformers=[('num',\n",
              "                                                                         Pipeline(memory=None,\n",
              "                                                                                  steps=[('imputer',\n",
              "                                                                                          SimpleImputer(add_indicator=False,\n",
              "                                                                                                        copy=True,\n",
              "                                                                                                        fill_value=None,\n",
              "                                                                                                        missing_values=nan,\n",
              "                                                                                                        strategy='mean',\n",
              "                                                                                                        verbose=0)),\n",
              "                                                                                         ('...\n",
              "                                                              oob_score=False,\n",
              "                                                              random_state=None,\n",
              "                                                              verbose=0,\n",
              "                                                              warm_start=False))],\n",
              "                                verbose=False),\n",
              "             iid='deprecated', n_jobs=None,\n",
              "             param_grid={'regressor__bootstrap': [True, False],\n",
              "                         'regressor__max_depth': range(1, 10),\n",
              "                         'regressor__max_samples': [1, 10, 100],\n",
              "                         'regressor__n_estimators': [100, 150, 200]},\n",
              "             pre_dispatch='2*n_jobs', refit=True, return_train_score=True,\n",
              "             scoring='r2', verbose=0)"
            ]
          },
          "metadata": {},
          "execution_count": 302
        }
      ]
    },
    {
      "cell_type": "code",
      "metadata": {
        "colab": {
          "base_uri": "https://localhost:8080/"
        },
        "id": "tpeHKp_MFpfU",
        "outputId": "d20ebb4d-f763-4f7f-d4de-518c546c6d43"
      },
      "source": [
        "grid_search.best_params_"
      ],
      "execution_count": null,
      "outputs": [
        {
          "output_type": "execute_result",
          "data": {
            "text/plain": [
              "{'regressor__bootstrap': True,\n",
              " 'regressor__max_depth': 9,\n",
              " 'regressor__max_samples': 100,\n",
              " 'regressor__n_estimators': 150}"
            ]
          },
          "metadata": {},
          "execution_count": 303
        }
      ]
    },
    {
      "cell_type": "code",
      "metadata": {
        "id": "qvAqD-Whrf-g"
      },
      "source": [
        "final_model = grid_search.best_score_"
      ],
      "execution_count": null,
      "outputs": []
    },
    {
      "cell_type": "code",
      "metadata": {
        "colab": {
          "base_uri": "https://localhost:8080/",
          "height": 315
        },
        "id": "Pxm4DcVBbYXK",
        "outputId": "2b2b8d62-8e3a-4e08-fde8-4fa4385551a3"
      },
      "source": [
        "from sklearn.model_selection import learning_curve\n",
        "\n",
        "N, train_score, val_score = learning_curve(regF, X_train, y_trainEnergy, train_sizes = np.linspace(0.2, 1.0, 10), cv=5)\n",
        "print(N)\n",
        "\n",
        "plt.plot(N, train_score.mean(axis=1), label = 'train')\n",
        "plt.plot(N, val_score.mean(axis=1), label = 'validation')\n",
        "plt.title('learning Curves for a RandomForestRegressor Model')\n",
        "\n",
        "plt.legend()"
      ],
      "execution_count": null,
      "outputs": [
        {
          "output_type": "stream",
          "name": "stdout",
          "text": [
            "[100 145 190 235 280 324 369 414 459 504]\n"
          ]
        },
        {
          "output_type": "execute_result",
          "data": {
            "text/plain": [
              "<matplotlib.legend.Legend at 0x7f07e3816fd0>"
            ]
          },
          "metadata": {},
          "execution_count": 463
        },
        {
          "output_type": "display_data",
          "data": {
            "image/png": "[encoded data removed]",
            "text/plain": [
              "<Figure size 432x288 with 1 Axes>"
            ]
          },
          "metadata": {
            "needs_background": "light"
          }
        }
      ]
    },
    {
      "cell_type": "markdown",
      "metadata": {
        "id": "WDEtebZCt1Kw"
      },
      "source": [
        "The training curve increases according to the data until an r2 score of 99%. While the validation curve starts at an r2 score of 90% and increases with the data. The error on the training data is very small, it means that the training data has fitted very well to the model. The model performs very well on the training data, it means that it has a low bias against this data set. \n",
        "The large gap between the two curves indicates that our model suffers from an overerfitting problem caused by high variance. \n",
        "We can add other training data, eliminate features that don't add anything to the model, or try simpler models."
      ]
    },
    {
      "cell_type": "markdown",
      "metadata": {
        "id": "YuknU8PGGVUb"
      },
      "source": [
        "### **Model optimization - variable emissions**"
      ]
    },
    {
      "cell_type": "code",
      "metadata": {
        "colab": {
          "base_uri": "https://localhost:8080/"
        },
        "id": "E-hejSixsky4",
        "outputId": "95309efd-d606-411c-8744-069fb352e163"
      },
      "source": [
        "from sklearn.model_selection import GridSearchCV\n",
        "param_grid = {\"regressor__bootstrap\": [True, False], # The use of priming samples during construction\n",
        "              \"regressor__max_samples\":[1,10,100], # The number of samples to draw from X to train each base estimator\n",
        "              \"regressor__n_estimators\" : [100,150,200], # Number of trees\n",
        "              'regressor__max_depth' : range(1, 10, 1), # Number of maximum depths\n",
        "             }\n",
        "\n",
        "forest_reg = RandomForestRegressor(n_estimators=100, n_jobs=-1)\n",
        "regF = pipeline(preprocessor, forest_reg)\n",
        "regF.fit(X_train, y_trainEmissions)\n",
        "\n",
        "grid_search = GridSearchCV(regF, param_grid, cv=5, \n",
        "              return_train_score=True, scoring='r2')\n",
        "grid_search.fit(X_train, y_trainEmissions)"
      ],
      "execution_count": null,
      "outputs": [
        {
          "output_type": "execute_result",
          "data": {
            "text/plain": [
              "GridSearchCV(cv=5, error_score=nan,\n",
              "             estimator=Pipeline(memory=None,\n",
              "                                steps=[('preprocessor',\n",
              "                                        ColumnTransformer(n_jobs=None,\n",
              "                                                          remainder='drop',\n",
              "                                                          sparse_threshold=0.3,\n",
              "                                                          transformer_weights=None,\n",
              "                                                          transformers=[('num',\n",
              "                                                                         Pipeline(memory=None,\n",
              "                                                                                  steps=[('imputer',\n",
              "                                                                                          SimpleImputer(add_indicator=False,\n",
              "                                                                                                        copy=True,\n",
              "                                                                                                        fill_value=None,\n",
              "                                                                                                        missing_values=nan,\n",
              "                                                                                                        strategy='mean',\n",
              "                                                                                                        verbose=0)),\n",
              "                                                                                         ('...\n",
              "                                                              oob_score=False,\n",
              "                                                              random_state=None,\n",
              "                                                              verbose=0,\n",
              "                                                              warm_start=False))],\n",
              "                                verbose=False),\n",
              "             iid='deprecated', n_jobs=None,\n",
              "             param_grid={'regressor__bootstrap': [True, False],\n",
              "                         'regressor__max_depth': range(1, 10),\n",
              "                         'regressor__max_samples': [1, 10, 100],\n",
              "                         'regressor__n_estimators': [100, 150, 200]},\n",
              "             pre_dispatch='2*n_jobs', refit=True, return_train_score=True,\n",
              "             scoring='r2', verbose=0)"
            ]
          },
          "metadata": {},
          "execution_count": 16
        }
      ]
    },
    {
      "cell_type": "code",
      "metadata": {
        "colab": {
          "base_uri": "https://localhost:8080/"
        },
        "id": "goBOk-QCsky5",
        "outputId": "2052baa9-a804-42d4-dea5-7b06a6684e27"
      },
      "source": [
        "grid_search.best_params_"
      ],
      "execution_count": null,
      "outputs": [
        {
          "output_type": "execute_result",
          "data": {
            "text/plain": [
              "{'regressor__bootstrap': True,\n",
              " 'regressor__max_depth': 7,\n",
              " 'regressor__max_samples': 100,\n",
              " 'regressor__n_estimators': 200}"
            ]
          },
          "metadata": {},
          "execution_count": 17
        }
      ]
    },
    {
      "cell_type": "code",
      "metadata": {
        "id": "noTbmEcRsky5"
      },
      "source": [
        "final_model = grid_search.best_score_"
      ],
      "execution_count": null,
      "outputs": []
    },
    {
      "cell_type": "code",
      "metadata": {
        "colab": {
          "base_uri": "https://localhost:8080/",
          "height": 315
        },
        "id": "03kuPVJT0HHX",
        "outputId": "66d19cf0-c8ed-4377-8e68-256bbde3e104"
      },
      "source": [
        "from sklearn.model_selection import learning_curve\n",
        "\n",
        "N, train_score, val_score = learning_curve(regF, X_train, y_trainEmissions, train_sizes = np.linspace(0.2, 1.0, 10), cv=5)\n",
        "print(N)\n",
        "\n",
        "plt.plot(N, train_score.mean(axis=1), label = 'train')\n",
        "plt.plot(N, val_score.mean(axis=1), label = 'validation')\n",
        "plt.title('learning Curves for a RandomForestRegressor Model')\n",
        "plt.legend()"
      ],
      "execution_count": null,
      "outputs": [
        {
          "output_type": "stream",
          "name": "stdout",
          "text": [
            "[100 145 190 235 280 324 369 414 459 504]\n"
          ]
        },
        {
          "output_type": "execute_result",
          "data": {
            "text/plain": [
              "<matplotlib.legend.Legend at 0x7f07e04f2310>"
            ]
          },
          "metadata": {},
          "execution_count": 462
        },
        {
          "output_type": "display_data",
          "data": {
            "image/png": "[encoded data removed]",
            "text/plain": [
              "<Figure size 432x288 with 1 Axes>"
            ]
          },
          "metadata": {
            "needs_background": "light"
          }
        }
      ]
    },
    {
      "cell_type": "markdown",
      "metadata": {
        "id": "wUr-eHe3Bgzh"
      },
      "source": [
        "The training curve increases according to the data until an r2 score of 99%. While the validation curve starts at an r2 score of 85% and increases with the data. The error on the training data is very small, it means that the training data has fitted very well to the model. The model performs very well on the training data, it means that it has a low bias against this data set. The large gap between the two curves indicates that our model suffers from an overerfitting problem caused by high variance. We can add other training data, eliminate features that don't add anything to the model, or try simpler models."
      ]
    },
    {
      "cell_type": "markdown",
      "metadata": {
        "id": "iM3gKgGH5rfU"
      },
      "source": [
        "### **Variable ENERGYSTARScore**"
      ]
    },
    {
      "cell_type": "markdown",
      "metadata": {
        "id": "iKLTrVZE6pxT"
      },
      "source": [
        "As we have seen in the correlation matrix, the variable ENERGYSTARScore is not correlated to the two target variables. Let us see the effect of the absence of this variable on the chosen model."
      ]
    },
    {
      "cell_type": "code",
      "metadata": {
        "id": "_kZwg1Tv6o4e"
      },
      "source": [
        "data = data.drop (['ENERGYSTARScore'],axis=1)"
      ],
      "execution_count": null,
      "outputs": []
    },
    {
      "cell_type": "code",
      "metadata": {
        "id": "sg76q8vN7xxz"
      },
      "source": [
        "# Definition of features\n",
        "features = ['BuildingType', 'PrimaryPropertyType', 'Neighborhood', 'Latitude',\n",
        "           'Longitude', 'YearBuilt', 'NumberofBuildings', 'PropertyGFABuilding(s)',\n",
        "           'ListOfAllPropertyUseTypes', 'LargestPropertyUseType',\n",
        "           'SiteEUI(kBtu/sf)', 'SourceEUI(kBtu/sf)', 'GHGEmissionsIntensity',\n",
        "           'GFABuildingRate','GFAParkingRate']\n",
        "targets = ['SiteEnergyUse(kBtu)log', 'TotalGHGEmissionslog']          "
      ],
      "execution_count": null,
      "outputs": []
    },
    {
      "cell_type": "code",
      "metadata": {
        "id": "wTu0tCHO7xx0"
      },
      "source": [
        "# Definition of numerical and categorical variables\n",
        "num_colsf = data[features].select_dtypes(include=['int64', 'float64']).columns\n",
        "cat_colsf = data[features].select_dtypes(include=['object', 'bool']).columns"
      ],
      "execution_count": null,
      "outputs": []
    },
    {
      "cell_type": "code",
      "metadata": {
        "id": "dm1n9vxi7xx6"
      },
      "source": [
        "# Split into training and testing set\n",
        "from sklearn.model_selection import train_test_split\n",
        "train_set_final, test_set_final = train_test_split(data, train_size=0.8, random_state=42)"
      ],
      "execution_count": null,
      "outputs": []
    },
    {
      "cell_type": "code",
      "metadata": {
        "id": "xZB16kfKeA-d"
      },
      "source": [
        "# Preprocessing for numerical data\n",
        "numerical_transformer = Pipeline([\n",
        "    ('imputer', SimpleImputer(strategy='mean')),\n",
        "    ('robust_scaler', RobustScaler()),  \n",
        "])\n",
        "\n",
        "# Preprocessing for categorical data\n",
        "categorical_transformer = Pipeline([\n",
        "    ('encoder', ce.BaseNEncoder()), \n",
        "])\n",
        "\n",
        "# Bundle preprocessing for numerical and categorical data\n",
        "preprocessor = ColumnTransformer(\n",
        "    transformers=[\n",
        "        ('num', numerical_transformer, num_colsf),\n",
        "        ('cat', categorical_transformer, cat_colsf),\n",
        "    ])"
      ],
      "execution_count": null,
      "outputs": []
    },
    {
      "cell_type": "code",
      "metadata": {
        "id": "8vyswjfC9ZMB"
      },
      "source": [
        "# Bundle preprocessing and modeling code in a pipeline\n",
        "\n",
        "def pipeline(preprocessor, regressor):\n",
        "\n",
        "    modeling_pipeline = Pipeline(steps=[('preprocessor', preprocessor),\n",
        "                                        ('regressor', regressor)\n",
        "                                        ])\n",
        "\n",
        "    return modeling_pipeline"
      ],
      "execution_count": null,
      "outputs": []
    },
    {
      "cell_type": "code",
      "metadata": {
        "id": "F93nxxKF73lj"
      },
      "source": [
        "X_train_final = train_set_final[features]\n",
        "y_trainEnergy_final = train_set_final['SiteEnergyUse(kBtu)log']\n",
        "y_trainEmissions_final = train_set_final['TotalGHGEmissionslog']\n",
        "\n",
        "X_test_final = test_set_final[features]\n",
        "y_testEnergy_final = test_set_final['SiteEnergyUse(kBtu)log']\n",
        "y_testEmissions_final = test_set_final['TotalGHGEmissionslog']"
      ],
      "execution_count": null,
      "outputs": []
    },
    {
      "cell_type": "code",
      "metadata": {
        "colab": {
          "base_uri": "https://localhost:8080/"
        },
        "id": "rWniREo_8mrB",
        "outputId": "b2f21a85-642a-4afb-ec73-977e82a94a99"
      },
      "source": [
        "from sklearn.ensemble import RandomForestRegressor\n",
        "\n",
        "forest_reg = RandomForestRegressor(n_estimators=100, n_jobs=-1)\n",
        "regF = pipeline(preprocessor, forest_reg)\n",
        "regF.fit(X_train_final, y_trainEnergy_final)\n",
        "\n",
        "train_score = regF.score(X_train_final, y_trainEnergy_final)\n",
        "print('Train score:', train_score)"
      ],
      "execution_count": null,
      "outputs": [
        {
          "output_type": "stream",
          "name": "stdout",
          "text": [
            "Train score: 0.9945950051494683\n"
          ]
        }
      ]
    },
    {
      "cell_type": "code",
      "metadata": {
        "colab": {
          "base_uri": "https://localhost:8080/"
        },
        "id": "j5gJtXqSehVj",
        "outputId": "3839e0e2-19c7-4761-8164-6bdbb4d9b3d6"
      },
      "source": [
        "from sklearn.ensemble import RandomForestRegressor\n",
        "\n",
        "forest_reg = RandomForestRegressor(n_estimators=100, n_jobs=-1)\n",
        "regF = pipeline(preprocessor, forest_reg)\n",
        "regF.fit(X_train_final, y_trainEmissions_final)\n",
        "\n",
        "train_score = regF.score(X_train_final, y_trainEmissions_final)\n",
        "print('Train score:', train_score)"
      ],
      "execution_count": null,
      "outputs": [
        {
          "output_type": "stream",
          "name": "stdout",
          "text": [
            "Train score: 0.995464829174805\n"
          ]
        }
      ]
    },
    {
      "cell_type": "markdown",
      "metadata": {
        "id": "hwwkUgePgahl"
      },
      "source": [
        "As we have seen in the correlation matrix of dataset variables at the start of the notebook, the variable ENERGYStarScore has no importance on the prediction of the two target variables, on the contrary its absence improved the score r2 for the RandomForestRegressor model in the prediction of the two target variables."
      ]
    }
  ]
}